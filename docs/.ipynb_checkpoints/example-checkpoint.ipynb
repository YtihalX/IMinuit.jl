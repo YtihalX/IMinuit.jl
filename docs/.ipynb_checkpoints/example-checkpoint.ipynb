{
 "cells": [
  {
   "cell_type": "code",
   "execution_count": 1,
   "metadata": {
    "ExecuteTime": {
     "end_time": "2020-07-09T11:36:29.590000+08:00",
     "start_time": "2020-07-09T03:35:34.251Z"
    }
   },
   "outputs": [
    {
     "name": "stderr",
     "output_type": "stream",
     "text": [
      "┌ Info: Precompiling IMinuit [beb75e20-2205-47e6-ad51-640e9c2309f1]\n",
      "└ @ Base loading.jl:1260\n"
     ]
    }
   ],
   "source": [
    "using IMinuit\n",
    "using BenchmarkTools"
   ]
  },
  {
   "cell_type": "code",
   "execution_count": 2,
   "metadata": {
    "ExecuteTime": {
     "end_time": "2020-07-09T11:36:55.102000+08:00",
     "start_time": "2020-07-09T03:36:42.636Z"
    }
   },
   "outputs": [
    {
     "data": {
      "text/plain": [
       "f1 (generic function with 1 method)"
      ]
     },
     "execution_count": 2,
     "metadata": {},
     "output_type": "execute_result"
    }
   ],
   "source": [
    "f(x) = x[1]^2 + (x[2]-1)^2 + (x[3]-2)^4\n",
    "f1(x, y, z) = x^2 + (y-1)^2 + (z-2)^4"
   ]
  },
  {
   "cell_type": "code",
   "execution_count": 3,
   "metadata": {
    "ExecuteTime": {
     "end_time": "2020-07-09T11:36:58.946000+08:00",
     "start_time": "2020-07-09T03:36:57.526Z"
    }
   },
   "outputs": [
    {
     "data": {
      "text/plain": [
       "Fit(PyObject <iminuit._libiminuit.Minuit object at 0x559c83f0bda0>)"
      ]
     },
     "execution_count": 3,
     "metadata": {},
     "output_type": "execute_result"
    }
   ],
   "source": [
    "m = Minuit(f, [1, 1, 4])\n",
    "gradf(x) = gradient(f, x)\n",
    "mgrad = Minuit(f, [1, 1, 4], grad = gradf)\n",
    "m1 = Minuit(f1, x = 1, y = 1, z = 4)"
   ]
  },
  {
   "cell_type": "code",
   "execution_count": 4,
   "metadata": {
    "ExecuteTime": {
     "end_time": "2020-07-09T11:37:00.737000+08:00",
     "start_time": "2020-07-09T03:36:59.959Z"
    }
   },
   "outputs": [
    {
     "data": {
      "text/html": [
       "<table>\n",
       "<tr> <td colspan=\"2\" style=\"text-align:center\" title=\"Minimum value of function\"> FCN = 0.0001683 </td> <td colspan=\"3\" title=\"No. of calls in last algorithm and total number of calls\"> Ncalls = 89 (89 total) </td> </tr>\n",
       "<tr> <td colspan=\"2\" style=\"text-align:center\" title=\"Estimated distance to minimum and target threshold\"> EDM = 0.000115 (Goal: 0.0002) </td> <td colspan=\"3\" title=\"Increase in FCN which corresponds to 1 standard deviation\"> up = 1.0 </td> </tr>\n",
       "<tr> <td title=\"Validity of the migrad call\"> Valid Min. </td> <td title=\"Validity of parameters\"> Valid Param. </td> <td title=\"Is EDM above goal EDM?\"> Above EDM </td> <td colspan=\"2\" title=\"Did last migrad call reach max call limit?\"> Reached call limit </td> </tr>\n",
       "<tr> <td style=\"background-color:#92CCA6;\"> True </td> <td style=\"background-color:#92CCA6;\"> True </td> <td style=\"background-color:#92CCA6;\"> False </td> <td colspan=\"2\" style=\"background-color:#92CCA6;\"> False </td> </tr>\n",
       "<tr> <td title=\"Did Hesse fail?\"> Hesse failed </td> <td title=\"Has covariance matrix\"> Has cov. </td> <td title=\"Is covariance matrix accurate?\"> Accurate </td> <td title=\"Is covariance matrix positive definite?\"> Pos. def. </td> <td title=\"Was positive definiteness enforced by Minuit?\"> Forced </td> </tr>\n",
       "<tr> <td style=\"background-color:#92CCA6;\"> False </td> <td style=\"background-color:#92CCA6;\"> True </td> <td style=\"background-color:#92CCA6;\"> True </td> <td style=\"background-color:#92CCA6;\"> True </td> <td style=\"background-color:#92CCA6;\"> False </td> </tr>\n",
       "</table>\n",
       "<table>\n",
       "<tr style=\"background-color:#F4F4F4;\"> <td/> <th title=\"Variable name\"> Name </th> <th title=\"Value of parameter\"> Value </th> <th title=\"Hesse error\"> Hesse Error </th> <th title=\"Minos lower error\"> Minos Error- </th> <th title=\"Minos upper error\"> Minos Error+ </th> <th title=\"Lower limit of the parameter\"> Limit- </th> <th title=\"Upper limit of the parameter\"> Limit+ </th> <th title=\"Is the parameter fixed in the fit\"> Fixed </th> </tr>\n",
       "<tr style=\"background-color:#FFFFFF;\"> <th> 0 </th> <td> x0 </td> <td> 0 </td> <td> 1 </td> <td>  </td> <td>  </td> <td>  </td> <td>  </td> <td>  </td> </tr>\n",
       "<tr style=\"background-color:#F4F4F4;\"> <th> 1 </th> <td> x1 </td> <td> 1 </td> <td> 1 </td> <td>  </td> <td>  </td> <td>  </td> <td>  </td> <td>  </td> </tr>\n",
       "<tr style=\"background-color:#FFFFFF;\"> <th> 2 </th> <td> x2 </td> <td> 2 </td> <td> 4 </td> <td>  </td> <td>  </td> <td>  </td> <td>  </td> <td>  </td> </tr>\n",
       "</table>\n"
      ],
      "text/plain": [
       "PyObject MigradResult(fmin=FMin(fval=0.0001682888749907514, edm=0.00011476370188508502, tolerance=0.1, nfcn=89, ncalls=89, up=1.0, is_valid=True, has_valid_parameters=True, has_accurate_covar=True, has_posdef_covar=True, has_made_posdef_covar=False, hesse_failed=False, has_covariance=True, is_above_max_edm=False, has_reached_call_limit=False), params=[Param(number=0, name='x0', value=0.002778199292675712, error=0.9999999999999966, is_const=False, is_fixed=False, has_limits=False, has_lower_limit=False, has_upper_limit=False, lower_limit=None, upper_limit=None), Param(number=1, name='x1', value=1.0000000000000002, error=0.9999999999998966, is_const=False, is_fixed=False, has_limits=False, has_lower_limit=False, has_upper_limit=False, lower_limit=None, upper_limit=None), Param(number=2, name='x2', value=2.112568383318672, error=3.626614534698427, is_const=False, is_fixed=False, has_limits=False, has_lower_limit=False, has_upper_limit=False, lower_limit=None, upper_limit=None)])"
      ]
     },
     "execution_count": 4,
     "metadata": {},
     "output_type": "execute_result"
    }
   ],
   "source": [
    "# using array parameters\n",
    "migrad(m)"
   ]
  },
  {
   "cell_type": "code",
   "execution_count": 5,
   "metadata": {
    "ExecuteTime": {
     "end_time": "2020-07-09T11:37:02.569000+08:00",
     "start_time": "2020-07-09T03:37:02.001Z"
    }
   },
   "outputs": [
    {
     "data": {
      "text/html": [
       "<table>\n",
       "<tr> <td colspan=\"2\" style=\"text-align:center\" title=\"Minimum value of function\"> FCN = 0.0001006 </td> <td colspan=\"3\" title=\"No. of calls in last algorithm and total number of calls\"> Ncalls = 69 (69 total) </td> </tr>\n",
       "<tr> <td colspan=\"2\" style=\"text-align:center\" title=\"Estimated distance to minimum and target threshold\"> EDM = 6.75e-05 (Goal: 0.0002) </td> <td colspan=\"3\" title=\"Increase in FCN which corresponds to 1 standard deviation\"> up = 1.0 </td> </tr>\n",
       "<tr> <td title=\"Validity of the migrad call\"> Valid Min. </td> <td title=\"Validity of parameters\"> Valid Param. </td> <td title=\"Is EDM above goal EDM?\"> Above EDM </td> <td colspan=\"2\" title=\"Did last migrad call reach max call limit?\"> Reached call limit </td> </tr>\n",
       "<tr> <td style=\"background-color:#92CCA6;\"> True </td> <td style=\"background-color:#92CCA6;\"> True </td> <td style=\"background-color:#92CCA6;\"> False </td> <td colspan=\"2\" style=\"background-color:#92CCA6;\"> False </td> </tr>\n",
       "<tr> <td title=\"Did Hesse fail?\"> Hesse failed </td> <td title=\"Has covariance matrix\"> Has cov. </td> <td title=\"Is covariance matrix accurate?\"> Accurate </td> <td title=\"Is covariance matrix positive definite?\"> Pos. def. </td> <td title=\"Was positive definiteness enforced by Minuit?\"> Forced </td> </tr>\n",
       "<tr> <td style=\"background-color:#92CCA6;\"> False </td> <td style=\"background-color:#92CCA6;\"> True </td> <td style=\"background-color:#92CCA6;\"> True </td> <td style=\"background-color:#92CCA6;\"> True </td> <td style=\"background-color:#92CCA6;\"> False </td> </tr>\n",
       "</table>\n",
       "<table>\n",
       "<tr style=\"background-color:#F4F4F4;\"> <td/> <th title=\"Variable name\"> Name </th> <th title=\"Value of parameter\"> Value </th> <th title=\"Hesse error\"> Hesse Error </th> <th title=\"Minos lower error\"> Minos Error- </th> <th title=\"Minos upper error\"> Minos Error+ </th> <th title=\"Lower limit of the parameter\"> Limit- </th> <th title=\"Upper limit of the parameter\"> Limit+ </th> <th title=\"Is the parameter fixed in the fit\"> Fixed </th> </tr>\n",
       "<tr style=\"background-color:#FFFFFF;\"> <th> 0 </th> <td> x0 </td> <td> 0 </td> <td> 1 </td> <td>  </td> <td>  </td> <td>  </td> <td>  </td> <td>  </td> </tr>\n",
       "<tr style=\"background-color:#F4F4F4;\"> <th> 1 </th> <td> x1 </td> <td> 1 </td> <td> 1 </td> <td>  </td> <td>  </td> <td>  </td> <td>  </td> <td>  </td> </tr>\n",
       "<tr style=\"background-color:#FFFFFF;\"> <th> 2 </th> <td> x2 </td> <td> 2 </td> <td> 4 </td> <td>  </td> <td>  </td> <td>  </td> <td>  </td> <td>  </td> </tr>\n",
       "</table>\n"
      ],
      "text/plain": [
       "PyObject MigradResult(fmin=FMin(fval=0.00010058909436048089, edm=6.749340318317959e-05, tolerance=0.1, nfcn=69, ncalls=69, up=1.0, is_valid=True, has_valid_parameters=True, has_accurate_covar=True, has_posdef_covar=True, has_made_posdef_covar=False, hesse_failed=False, has_covariance=True, is_above_max_edm=False, has_reached_call_limit=False), params=[Param(number=0, name='x0', value=0.0011440753757477572, error=0.9999999999999815, is_const=False, is_fixed=False, has_limits=False, has_lower_limit=False, has_upper_limit=False, lower_limit=None, upper_limit=None), Param(number=1, name='x1', value=1.0, error=0.9999999999999782, is_const=False, is_fixed=False, has_limits=False, has_lower_limit=False, has_upper_limit=False, lower_limit=None, upper_limit=None), Param(number=2, name='x2', value=2.0998195586749304, error=4.089726291670035, is_const=False, is_fixed=False, has_limits=False, has_lower_limit=False, has_upper_limit=False, lower_limit=None, upper_limit=None)])"
      ]
     },
     "execution_count": 5,
     "metadata": {},
     "output_type": "execute_result"
    }
   ],
   "source": [
    "# using array parameters, usign `ForwardDiff: gradient` to compute the gradient\n",
    "migrad(mgrad)"
   ]
  },
  {
   "cell_type": "code",
   "execution_count": 6,
   "metadata": {
    "ExecuteTime": {
     "end_time": "2020-07-09T11:37:05.104000+08:00",
     "start_time": "2020-07-09T03:37:05.037Z"
    }
   },
   "outputs": [
    {
     "data": {
      "text/html": [
       "<table>\n",
       "<tr> <td colspan=\"2\" style=\"text-align:center\" title=\"Minimum value of function\"> FCN = 0.0001683 </td> <td colspan=\"3\" title=\"No. of calls in last algorithm and total number of calls\"> Ncalls = 89 (89 total) </td> </tr>\n",
       "<tr> <td colspan=\"2\" style=\"text-align:center\" title=\"Estimated distance to minimum and target threshold\"> EDM = 0.000115 (Goal: 0.0002) </td> <td colspan=\"3\" title=\"Increase in FCN which corresponds to 1 standard deviation\"> up = 1.0 </td> </tr>\n",
       "<tr> <td title=\"Validity of the migrad call\"> Valid Min. </td> <td title=\"Validity of parameters\"> Valid Param. </td> <td title=\"Is EDM above goal EDM?\"> Above EDM </td> <td colspan=\"2\" title=\"Did last migrad call reach max call limit?\"> Reached call limit </td> </tr>\n",
       "<tr> <td style=\"background-color:#92CCA6;\"> True </td> <td style=\"background-color:#92CCA6;\"> True </td> <td style=\"background-color:#92CCA6;\"> False </td> <td colspan=\"2\" style=\"background-color:#92CCA6;\"> False </td> </tr>\n",
       "<tr> <td title=\"Did Hesse fail?\"> Hesse failed </td> <td title=\"Has covariance matrix\"> Has cov. </td> <td title=\"Is covariance matrix accurate?\"> Accurate </td> <td title=\"Is covariance matrix positive definite?\"> Pos. def. </td> <td title=\"Was positive definiteness enforced by Minuit?\"> Forced </td> </tr>\n",
       "<tr> <td style=\"background-color:#92CCA6;\"> False </td> <td style=\"background-color:#92CCA6;\"> True </td> <td style=\"background-color:#92CCA6;\"> True </td> <td style=\"background-color:#92CCA6;\"> True </td> <td style=\"background-color:#92CCA6;\"> False </td> </tr>\n",
       "</table>\n",
       "<table>\n",
       "<tr style=\"background-color:#F4F4F4;\"> <td/> <th title=\"Variable name\"> Name </th> <th title=\"Value of parameter\"> Value </th> <th title=\"Hesse error\"> Hesse Error </th> <th title=\"Minos lower error\"> Minos Error- </th> <th title=\"Minos upper error\"> Minos Error+ </th> <th title=\"Lower limit of the parameter\"> Limit- </th> <th title=\"Upper limit of the parameter\"> Limit+ </th> <th title=\"Is the parameter fixed in the fit\"> Fixed </th> </tr>\n",
       "<tr style=\"background-color:#FFFFFF;\"> <th> 0 </th> <td> x </td> <td> 0 </td> <td> 1 </td> <td>  </td> <td>  </td> <td>  </td> <td>  </td> <td>  </td> </tr>\n",
       "<tr style=\"background-color:#F4F4F4;\"> <th> 1 </th> <td> y </td> <td> 1 </td> <td> 1 </td> <td>  </td> <td>  </td> <td>  </td> <td>  </td> <td>  </td> </tr>\n",
       "<tr style=\"background-color:#FFFFFF;\"> <th> 2 </th> <td> z </td> <td> 2 </td> <td> 4 </td> <td>  </td> <td>  </td> <td>  </td> <td>  </td> <td>  </td> </tr>\n",
       "</table>\n"
      ],
      "text/plain": [
       "PyObject MigradResult(fmin=FMin(fval=0.0001682888749907514, edm=0.00011476370188508502, tolerance=0.1, nfcn=89, ncalls=89, up=1.0, is_valid=True, has_valid_parameters=True, has_accurate_covar=True, has_posdef_covar=True, has_made_posdef_covar=False, hesse_failed=False, has_covariance=True, is_above_max_edm=False, has_reached_call_limit=False), params=[Param(number=0, name='x', value=0.002778199292675712, error=0.9999999999999966, is_const=False, is_fixed=False, has_limits=False, has_lower_limit=False, has_upper_limit=False, lower_limit=None, upper_limit=None), Param(number=1, name='y', value=1.0000000000000002, error=0.9999999999998966, is_const=False, is_fixed=False, has_limits=False, has_lower_limit=False, has_upper_limit=False, lower_limit=None, upper_limit=None), Param(number=2, name='z', value=2.112568383318672, error=3.626614534698427, is_const=False, is_fixed=False, has_limits=False, has_lower_limit=False, has_upper_limit=False, lower_limit=None, upper_limit=None)])"
      ]
     },
     "execution_count": 6,
     "metadata": {},
     "output_type": "execute_result"
    }
   ],
   "source": [
    "# parameters are given individually\n",
    "migrad(m1)"
   ]
  },
  {
   "cell_type": "code",
   "execution_count": 7,
   "metadata": {
    "ExecuteTime": {
     "end_time": "2020-07-09T11:37:10.415000+08:00",
     "start_time": "2020-07-09T03:37:07.550Z"
    }
   },
   "outputs": [
    {
     "data": {
      "text/plain": [
       "102-element Array{Symbol,1}:\n",
       " :LEAST_SQUARES\n",
       " :LIKELIHOOD\n",
       " :__class__\n",
       " :__delattr__\n",
       " :__dir__\n",
       " :__doc__\n",
       " :__eq__\n",
       " :__format__\n",
       " :__ge__\n",
       " :__getattribute__\n",
       " :__gt__\n",
       " :__hash__\n",
       " :__init__\n",
       " ⋮\n",
       " :profile\n",
       " :set_errordef\n",
       " :set_print_level\n",
       " :set_strategy\n",
       " :set_up\n",
       " :strategy\n",
       " :throw_nan\n",
       " :tol\n",
       " :use_array_call\n",
       " :valid\n",
       " :values\n",
       " :var2pos"
      ]
     },
     "execution_count": 7,
     "metadata": {},
     "output_type": "execute_result"
    }
   ],
   "source": [
    "propertynames(m)"
   ]
  },
  {
   "cell_type": "code",
   "execution_count": 8,
   "metadata": {
    "ExecuteTime": {
     "end_time": "2020-07-09T11:37:23.301000+08:00",
     "start_time": "2020-07-09T03:37:21.957Z"
    }
   },
   "outputs": [
    {
     "name": "stdout",
     "output_type": "stream",
     "text": [
      "search: \u001b[0m\u001b[1mm\u001b[22m\u001b[0m\u001b[1mi\u001b[22m\u001b[0m\u001b[1mg\u001b[22m\u001b[0m\u001b[1mr\u001b[22m\u001b[0m\u001b[1ma\u001b[22m\u001b[0m\u001b[1md\u001b[22m\n",
      "\n"
     ]
    },
    {
     "data": {
      "text/plain": [
       "Minuit.migrad(self, unsigned int ncall=0, resume=True, int nsplit=1, precision=None)\n",
       "Run MIGRAD.\n",
       "\n",
       "        MIGRAD is a robust minimisation algorithm which earned its reputation\n",
       "        in 40+ years of almost exclusive usage in high-energy physics. How\n",
       "        MIGRAD works is described in the `MINUIT paper`_.\n",
       "\n",
       "        **Arguments:**\n",
       "\n",
       "            * **ncall**: integer (approximate) maximum number of call before\n",
       "              MIGRAD will stop trying. Default: 0 (indicates to use MIGRAD's\n",
       "              internal heuristic). Using nsplit > 1 requires ncall > 0.\n",
       "              Note: MIGRAD may slightly violate this limit,\n",
       "              because it checks the condition only after a full iteration of the\n",
       "              algorithm, which usually performs several function calls.\n",
       "\n",
       "            * **resume**: boolean indicating whether MIGRAD should resume from\n",
       "              the previous minimiser attempt(True) or should start from the\n",
       "              beginning(False). Default True.\n",
       "\n",
       "            * **nsplit**: split MIGRAD in to *split* runs. Max fcn call\n",
       "              for each run is ncall/nsplit. MIGRAD stops when it found the\n",
       "              function minimum to be valid or ncall is reached. This is useful\n",
       "              for getting progress. However, you need to make sure that\n",
       "              ncall/nsplit is large enough. Otherwise, MIGRAD will think\n",
       "              that the minimum is invalid due to exceeding max call\n",
       "              (ncall/nsplit). Default 1(no split).\n",
       "\n",
       "            * **precision**: override miniut own's internal precision.\n",
       "\n",
       "        **Return:**\n",
       "\n",
       "            :ref:`function-minimum-sruct`, list of :ref:`minuit-param-struct`\n",
       "        "
      ]
     },
     "execution_count": 8,
     "metadata": {},
     "output_type": "execute_result"
    }
   ],
   "source": [
    "# the doc strings are from `iminuit`\n",
    "?migrad"
   ]
  },
  {
   "cell_type": "markdown",
   "metadata": {},
   "source": [
    "## Example: Fit to the BES data of the π⁺π⁻ energy distribution of ψ'→J/ψπ⁺π⁻\n",
    "\n",
    "The data are taken from [BES Collaboration, Phys. Rev. D 62 (2000) 032002](https://inspirehep.net/literature/507637).\n",
    "\n",
    "Here we use a simple model, which is not meant to be the correct one, to fit to the data."
   ]
  },
  {
   "cell_type": "code",
   "execution_count": 9,
   "metadata": {
    "ExecuteTime": {
     "end_time": "2020-07-09T11:38:02.987000+08:00",
     "start_time": "2020-07-09T03:37:57.632Z"
    }
   },
   "outputs": [],
   "source": [
    "using CSV\n",
    "using DataFrames\n",
    "using Plots\n",
    "pyplot()\n",
    "default(framestyle = :box, minorticks = 4)"
   ]
  },
  {
   "cell_type": "code",
   "execution_count": 10,
   "metadata": {
    "ExecuteTime": {
     "end_time": "2020-07-09T11:38:16.810000+08:00",
     "start_time": "2020-07-09T03:38:05.218Z"
    }
   },
   "outputs": [
    {
     "data": {
      "text/plain": [
       "Data([0.303, 0.309, 0.321, 0.327, 0.333, 0.339, 0.345, 0.351, 0.357, 0.363  …  0.531, 0.537, 0.543, 0.549, 0.555, 0.561, 0.567, 0.573, 0.579, 0.585], [8.522656, 44.87459, 29.63286, 58.13258, 28.2143, 129.0572, 181.7821, 199.5301, 269.4043, 186.1139  …  5217.45, 5867.647, 5717.979, 5527.38, 5548.063, 5386.82, 5425.564, 4744.075, 3899.626, 2725.864], [14.44523, 78.24785, 23.01279, 28.29703, 14.79316, 35.48893, 43.7948, 42.20547, 49.41916, 42.54225  …  164.0276, 174.4779, 169.0323, 165.0818, 164.632, 160.1847, 160.5301, 149.5817, 138.9569, 117.8775], 47)"
      ]
     },
     "execution_count": 10,
     "metadata": {},
     "output_type": "execute_result"
    }
   ],
   "source": [
    "data_df = DataFrame!(CSV.File(\"./testdata.csv\"))\n",
    "const data = Data(data_df)"
   ]
  },
  {
   "cell_type": "code",
   "execution_count": 12,
   "metadata": {
    "ExecuteTime": {
     "end_time": "2020-07-09T11:38:51.268000+08:00",
     "start_time": "2020-07-09T03:38:51.027Z"
    }
   },
   "outputs": [
    {
     "data": {
      "image/png": "[encoded data removed]"
     },
     "execution_count": 12,
     "metadata": {},
     "output_type": "execute_result"
    }
   ],
   "source": [
    "plt_data(data)"
   ]
  },
  {
   "cell_type": "code",
   "execution_count": 13,
   "metadata": {
    "ExecuteTime": {
     "end_time": "2020-07-09T11:38:54.134000+08:00",
     "start_time": "2020-07-09T03:38:54.052Z"
    }
   },
   "outputs": [],
   "source": [
    "const M = 3.686; const mπ = 0.14; const mJ = 3.097; \n",
    "\n",
    "λ(x, y, z) = x^2 + y^2 + z^2 - 2x*y - 2y*z - 2z*x\n",
    "\n",
    "# a simple function that will be used to fit the data: QCD multipole expansion model for ψ'→J/ψπ⁺π⁻\n",
    "# The important ππ FSI effect is not taken into account\n",
    "# bg is just for introducing a third parameter\n",
    "function dist(w, N, c, bg) \n",
    "    if (w ≤ 2mπ || w ≥ M-mJ)\n",
    "        res = 0.0\n",
    "    else\n",
    "        q1 = sqrt(λ(w^2, mπ^2, mπ^2))/(2w)\n",
    "        q2 = sqrt(λ(M^2, w^2, mJ^2))/(2M)\n",
    "        res = N * q1 * q2 * (w^2 - c*mπ^2)^2 + bg\n",
    "    end\n",
    "    return res * 1e6\n",
    "end\n",
    "\n",
    "dist(w, par) = dist(w, par...);"
   ]
  },
  {
   "cell_type": "code",
   "execution_count": 14,
   "metadata": {
    "ExecuteTime": {
     "end_time": "2020-07-09T11:38:56.705000+08:00",
     "start_time": "2020-07-09T03:38:56.702Z"
    }
   },
   "outputs": [],
   "source": [
    "# parameters in an array/tuple\n",
    "χsq(par) = chisq(dist, data, par)\n",
    "\n",
    "# parameters given individually\n",
    "χsq1(N, c, bg) = chisq(dist, data, (N, c, bg));"
   ]
  },
  {
   "cell_type": "code",
   "execution_count": 15,
   "metadata": {
    "ExecuteTime": {
     "end_time": "2020-07-09T11:38:58.012000+08:00",
     "start_time": "2020-07-09T03:38:57.695Z"
    }
   },
   "outputs": [],
   "source": [
    "# parameters are collected into a tuple or an array, which is the only variable of χsq\n",
    "gradf(par) = gradient(χsq, par)\n",
    "fit = Minuit(χsq, [1, 2, 0], error = 0.1*ones(3), grad = gradf)\n",
    "fit.strategy = 1;"
   ]
  },
  {
   "cell_type": "code",
   "execution_count": 16,
   "metadata": {
    "ExecuteTime": {
     "end_time": "2020-07-09T11:38:59.112000+08:00",
     "start_time": "2020-07-09T03:38:58.857Z"
    }
   },
   "outputs": [],
   "source": [
    "# all parameters are vairables of χsq\n",
    "fit1 = Minuit(χsq1, N = 1, c = 2, bg = 0, error_N = 0.1, error_c = 0.1, error_bg = 0.1)\n",
    "fit1.strategy = 1;"
   ]
  },
  {
   "cell_type": "code",
   "execution_count": 27,
   "metadata": {
    "ExecuteTime": {
     "end_time": "2020-07-09T11:41:45.231000+08:00",
     "start_time": "2020-07-09T03:41:36.903Z"
    }
   },
   "outputs": [
    {
     "name": "stdout",
     "output_type": "stream",
     "text": [
      "  98.400 μs (1443 allocations: 36.52 KiB)\n"
     ]
    },
    {
     "data": {
      "text/html": [
       "<table>\n",
       "<tr> <td colspan=\"2\" style=\"text-align:center\" title=\"Minimum value of function\"> FCN = 64.68 </td> <td colspan=\"3\" title=\"No. of calls in last algorithm and total number of calls\"> Ncalls = 3 (263124 total) </td> </tr>\n",
       "<tr> <td colspan=\"2\" style=\"text-align:center\" title=\"Estimated distance to minimum and target threshold\"> EDM = 9.36e-15 (Goal: 0.0002) </td> <td colspan=\"3\" title=\"Increase in FCN which corresponds to 1 standard deviation\"> up = 1.0 </td> </tr>\n",
       "<tr> <td title=\"Validity of the migrad call\"> Valid Min. </td> <td title=\"Validity of parameters\"> Valid Param. </td> <td title=\"Is EDM above goal EDM?\"> Above EDM </td> <td colspan=\"2\" title=\"Did last migrad call reach max call limit?\"> Reached call limit </td> </tr>\n",
       "<tr> <td style=\"background-color:#92CCA6;\"> True </td> <td style=\"background-color:#92CCA6;\"> True </td> <td style=\"background-color:#92CCA6;\"> False </td> <td colspan=\"2\" style=\"background-color:#92CCA6;\"> False </td> </tr>\n",
       "<tr> <td title=\"Did Hesse fail?\"> Hesse failed </td> <td title=\"Has covariance matrix\"> Has cov. </td> <td title=\"Is covariance matrix accurate?\"> Accurate </td> <td title=\"Is covariance matrix positive definite?\"> Pos. def. </td> <td title=\"Was positive definiteness enforced by Minuit?\"> Forced </td> </tr>\n",
       "<tr> <td style=\"background-color:#92CCA6;\"> False </td> <td style=\"background-color:#92CCA6;\"> True </td> <td style=\"background-color:#92CCA6;\"> True </td> <td style=\"background-color:#92CCA6;\"> True </td> <td style=\"background-color:#92CCA6;\"> False </td> </tr>\n",
       "</table>\n",
       "<table>\n",
       "<tr style=\"background-color:#F4F4F4;\"> <td/> <th title=\"Variable name\"> Name </th> <th title=\"Value of parameter\"> Value </th> <th title=\"Hesse error\"> Hesse Error </th> <th title=\"Minos lower error\"> Minos Error- </th> <th title=\"Minos upper error\"> Minos Error+ </th> <th title=\"Lower limit of the parameter\"> Limit- </th> <th title=\"Upper limit of the parameter\"> Limit+ </th> <th title=\"Is the parameter fixed in the fit\"> Fixed </th> </tr>\n",
       "<tr style=\"background-color:#FFFFFF;\"> <th> 0 </th> <td> x0 </td> <td> 2.61 </td> <td> 0.05 </td> <td> -0.05 </td> <td> 0.05 </td> <td>  </td> <td>  </td> <td>  </td> </tr>\n",
       "<tr style=\"background-color:#F4F4F4;\"> <th> 1 </th> <td> x1 </td> <td> 4.20 </td> <td> 0.09 </td> <td> -0.09 </td> <td> 0.09 </td> <td>  </td> <td>  </td> <td>  </td> </tr>\n",
       "<tr style=\"background-color:#FFFFFF;\"> <th> 2 </th> <td> x2 </td> <td> -0.022e-3 </td> <td> 0.012e-3 </td> <td> -0.012e-3 </td> <td> 0.012e-3 </td> <td>  </td> <td>  </td> <td>  </td> </tr>\n",
       "</table>\n"
      ],
      "text/plain": [
       "PyObject MigradResult(fmin=FMin(fval=64.67993733507895, edm=9.357751294516442e-15, tolerance=0.1, nfcn=3, ncalls=263124, up=1.0, is_valid=True, has_valid_parameters=True, has_accurate_covar=True, has_posdef_covar=True, has_made_posdef_covar=False, hesse_failed=False, has_covariance=True, is_above_max_edm=False, has_reached_call_limit=False), params=[Param(number=0, name='x0', value=2.6114833151653025, error=0.05177673323060879, is_const=False, is_fixed=False, has_limits=False, has_lower_limit=False, has_upper_limit=False, lower_limit=None, upper_limit=None), Param(number=1, name='x1', value=4.201031332818215, error=0.09311776395965805, is_const=False, is_fixed=False, has_limits=False, has_lower_limit=False, has_upper_limit=False, lower_limit=None, upper_limit=None), Param(number=2, name='x2', value=-2.1921187450274414e-05, error=1.1895993246464892e-05, is_const=False, is_fixed=False, has_limits=False, has_lower_limit=False, has_upper_limit=False, lower_limit=None, upper_limit=None)])"
      ]
     },
     "execution_count": 27,
     "metadata": {},
     "output_type": "execute_result"
    }
   ],
   "source": [
    "@btime migrad(fit)\n",
    "minos(fit)\n",
    "migrad(fit)"
   ]
  },
  {
   "cell_type": "code",
   "execution_count": 28,
   "metadata": {
    "ExecuteTime": {
     "end_time": "2020-07-09T11:41:55.596000+08:00",
     "start_time": "2020-07-09T03:41:47.606Z"
    }
   },
   "outputs": [
    {
     "name": "stdout",
     "output_type": "stream",
     "text": [
      "  94.400 μs (565 allocations: 10.80 KiB)\n"
     ]
    },
    {
     "data": {
      "text/html": [
       "<table>\n",
       "<tr> <td colspan=\"2\" style=\"text-align:center\" title=\"Minimum value of function\"> FCN = 64.68 </td> <td colspan=\"3\" title=\"No. of calls in last algorithm and total number of calls\"> Ncalls = 14 (1382369 total) </td> </tr>\n",
       "<tr> <td colspan=\"2\" style=\"text-align:center\" title=\"Estimated distance to minimum and target threshold\"> EDM = 1.52e-14 (Goal: 0.0002) </td> <td colspan=\"3\" title=\"Increase in FCN which corresponds to 1 standard deviation\"> up = 1.0 </td> </tr>\n",
       "<tr> <td title=\"Validity of the migrad call\"> Valid Min. </td> <td title=\"Validity of parameters\"> Valid Param. </td> <td title=\"Is EDM above goal EDM?\"> Above EDM </td> <td colspan=\"2\" title=\"Did last migrad call reach max call limit?\"> Reached call limit </td> </tr>\n",
       "<tr> <td style=\"background-color:#92CCA6;\"> True </td> <td style=\"background-color:#92CCA6;\"> True </td> <td style=\"background-color:#92CCA6;\"> False </td> <td colspan=\"2\" style=\"background-color:#92CCA6;\"> False </td> </tr>\n",
       "<tr> <td title=\"Did Hesse fail?\"> Hesse failed </td> <td title=\"Has covariance matrix\"> Has cov. </td> <td title=\"Is covariance matrix accurate?\"> Accurate </td> <td title=\"Is covariance matrix positive definite?\"> Pos. def. </td> <td title=\"Was positive definiteness enforced by Minuit?\"> Forced </td> </tr>\n",
       "<tr> <td style=\"background-color:#92CCA6;\"> False </td> <td style=\"background-color:#92CCA6;\"> True </td> <td style=\"background-color:#92CCA6;\"> True </td> <td style=\"background-color:#92CCA6;\"> True </td> <td style=\"background-color:#92CCA6;\"> False </td> </tr>\n",
       "</table>\n",
       "<table>\n",
       "<tr style=\"background-color:#F4F4F4;\"> <td/> <th title=\"Variable name\"> Name </th> <th title=\"Value of parameter\"> Value </th> <th title=\"Hesse error\"> Hesse Error </th> <th title=\"Minos lower error\"> Minos Error- </th> <th title=\"Minos upper error\"> Minos Error+ </th> <th title=\"Lower limit of the parameter\"> Limit- </th> <th title=\"Upper limit of the parameter\"> Limit+ </th> <th title=\"Is the parameter fixed in the fit\"> Fixed </th> </tr>\n",
       "<tr style=\"background-color:#FFFFFF;\"> <th> 0 </th> <td> N </td> <td> 2.61 </td> <td> 0.05 </td> <td> -0.05 </td> <td> 0.05 </td> <td>  </td> <td>  </td> <td>  </td> </tr>\n",
       "<tr style=\"background-color:#F4F4F4;\"> <th> 1 </th> <td> c </td> <td> 4.20 </td> <td> 0.09 </td> <td> -0.09 </td> <td> 0.09 </td> <td>  </td> <td>  </td> <td>  </td> </tr>\n",
       "<tr style=\"background-color:#FFFFFF;\"> <th> 2 </th> <td> bg </td> <td> -0.022e-3 </td> <td> 0.012e-3 </td> <td> -0.012e-3 </td> <td> 0.012e-3 </td> <td>  </td> <td>  </td> <td>  </td> </tr>\n",
       "</table>\n"
      ],
      "text/plain": [
       "PyObject MigradResult(fmin=FMin(fval=64.679937335079, edm=1.5156345070287753e-14, tolerance=0.1, nfcn=14, ncalls=1382369, up=1.0, is_valid=True, has_valid_parameters=True, has_accurate_covar=True, has_posdef_covar=True, has_made_posdef_covar=False, hesse_failed=False, has_covariance=True, is_above_max_edm=False, has_reached_call_limit=False), params=[Param(number=0, name='N', value=2.6114833211935484, error=0.051776712195704004, is_const=False, is_fixed=False, has_limits=False, has_lower_limit=False, has_upper_limit=False, lower_limit=None, upper_limit=None), Param(number=1, name='c', value=4.201031344545451, error=0.09311685621270735, is_const=False, is_fixed=False, has_limits=False, has_lower_limit=False, has_upper_limit=False, lower_limit=None, upper_limit=None), Param(number=2, name='bg', value=-2.192118618207932e-05, error=1.1895620973146581e-05, is_const=False, is_fixed=False, has_limits=False, has_lower_limit=False, has_upper_limit=False, lower_limit=None, upper_limit=None)])"
      ]
     },
     "execution_count": 28,
     "metadata": {},
     "output_type": "execute_result"
    }
   ],
   "source": [
    "@btime migrad(fit1)\n",
    "minos(fit1)\n",
    "migrad(fit1)"
   ]
  },
  {
   "cell_type": "code",
   "execution_count": 30,
   "metadata": {
    "ExecuteTime": {
     "end_time": "2020-07-09T11:42:46.518000+08:00",
     "start_time": "2020-07-09T03:42:46.513Z"
    }
   },
   "outputs": [
    {
     "data": {
      "text/html": [
       "<table>\n",
       "<tr> <td/> <th colspan=\"2\" style=\"text-align:center\" title=\"Parameter name\"> N </th> <th colspan=\"2\" style=\"text-align:center\" title=\"Parameter name\"> c </th> <th colspan=\"2\" style=\"text-align:center\" title=\"Parameter name\"> bg </th> </tr>\n",
       "<tr> <th title=\"Lower and upper minos error of the parameter\"> Error </th> <td> -0.05 </td> <td> 0.05 </td> <td> -0.09 </td> <td> 0.09 </td> <td> -0.012e-3 </td> <td> 0.012e-3 </td> </tr>\n",
       "<tr> <th title=\"Validity of lower/upper minos error\"> Valid </th> <td style=\"background-color:#92CCA6;\"> True </td> <td style=\"background-color:#92CCA6;\"> True </td> <td style=\"background-color:#92CCA6;\"> True </td> <td style=\"background-color:#92CCA6;\"> True </td> <td style=\"background-color:#92CCA6;\"> True </td> <td style=\"background-color:#92CCA6;\"> True </td> </tr>\n",
       "<tr> <th title=\"Did scan hit limit of any parameter?\"> At Limit </th> <td style=\"background-color:#92CCA6;\"> False </td> <td style=\"background-color:#92CCA6;\"> False </td> <td style=\"background-color:#92CCA6;\"> False </td> <td style=\"background-color:#92CCA6;\"> False </td> <td style=\"background-color:#92CCA6;\"> False </td> <td style=\"background-color:#92CCA6;\"> False </td> </tr>\n",
       "<tr> <th title=\"Did scan hit function call limit?\"> Max FCN </th> <td style=\"background-color:#92CCA6;\"> False </td> <td style=\"background-color:#92CCA6;\"> False </td> <td style=\"background-color:#92CCA6;\"> False </td> <td style=\"background-color:#92CCA6;\"> False </td> <td style=\"background-color:#92CCA6;\"> False </td> <td style=\"background-color:#92CCA6;\"> False </td> </tr>\n",
       "<tr> <th title=\"New minimum found when doing scan?\"> New Min </th> <td style=\"background-color:#92CCA6;\"> False </td> <td style=\"background-color:#92CCA6;\"> False </td> <td style=\"background-color:#92CCA6;\"> False </td> <td style=\"background-color:#92CCA6;\"> False </td> <td style=\"background-color:#92CCA6;\"> False </td> <td style=\"background-color:#92CCA6;\"> False </td> </tr>\n",
       "</table>\n"
      ],
      "text/plain": [
       "PyObject MErrors([('N', MError(name='N', is_valid=True, lower=-0.05145257573454067, upper=0.05210385773044046, lower_valid=True, upper_valid=True, at_lower_limit=False, at_upper_limit=False, at_lower_max_fcn=False, at_upper_max_fcn=False, lower_new_min=False, upper_new_min=False, nfcn=56, min=2.6114833211935484)), ('c', MError(name='c', is_valid=True, lower=-0.09392066407552968, upper=0.09232893682255511, lower_valid=True, upper_valid=True, at_lower_limit=False, at_upper_limit=False, at_lower_max_fcn=False, at_upper_max_fcn=False, lower_new_min=False, upper_new_min=False, nfcn=56, min=4.201031344545451)), ('bg', MError(name='bg', is_valid=True, lower=-1.2031491205034717e-05, upper=1.1765608570813917e-05, lower_valid=True, upper_valid=True, at_lower_limit=False, at_upper_limit=False, at_lower_max_fcn=False, at_upper_max_fcn=False, lower_new_min=False, upper_new_min=False, nfcn=56, min=-2.192118618207932e-05))])"
      ]
     },
     "execution_count": 30,
     "metadata": {},
     "output_type": "execute_result"
    }
   ],
   "source": [
    "minos(fit1)"
   ]
  },
  {
   "cell_type": "code",
   "execution_count": 19,
   "metadata": {
    "ExecuteTime": {
     "end_time": "2020-07-09T11:39:26.498000+08:00",
     "start_time": "2020-07-09T03:39:24.483Z"
    }
   },
   "outputs": [
    {
     "data": {
      "image/png": "[encoded data removed]"
     },
     "execution_count": 19,
     "metadata": {},
     "output_type": "execute_result"
    }
   ],
   "source": [
    "plt_best(dist, fit, data, xrange = (2mπ, M-mJ))"
   ]
  },
  {
   "cell_type": "code",
   "execution_count": 20,
   "metadata": {
    "ExecuteTime": {
     "end_time": "2020-07-09T11:39:32.227000+08:00",
     "start_time": "2020-07-09T03:39:30.412Z"
    }
   },
   "outputs": [
    {
     "data": {
      "image/png": "[encoded data removed]",
      "text/plain": [
       "PyPlot.Figure(PyObject <Figure size 640x480 with 1 Axes>)"
      ]
     },
     "metadata": {},
     "output_type": "display_data"
    },
    {
     "data": {
      "text/plain": [
       "([2.4561531846064364, 2.4592911671637516, 2.4624291497210673, 2.4655671322783825, 2.4687051148356978, 2.4718430973930134, 2.4749810799503287, 2.4781190625076444, 2.4812570450649596, 2.484395027622275  …  2.738571614764822, 2.7417095973221373, 2.7448475798794525, 2.747985562436768, 2.7511235449940834, 2.7542615275513986, 2.7573995101087143, 2.7605374926660295, 2.7636754752233452, 2.7668134577806605], [3.9216807759073293, 3.9273242217384023, 3.932967667569476, 3.938611113400549, 3.944254559231622, 3.9498980050626953, 3.9555414508937683, 3.9611848967248418, 3.9668283425559148, 3.972471788386988  …  4.429590900703915, 4.435234346534989, 4.440877792366061, 4.446521238197135, 4.452164684028208, 4.457808129859281, 4.463451575690354, 4.469095021521428, 4.4747384673525, 4.480381913183574], [20.972585684547113 20.022934908552898 … 290.280110975979 296.3574252092246; 21.148382447267153 20.131613966475754 … 285.0424527312081 291.0755140159173; … ; 350.8725474805894 342.54598215294766 … 19.826339420220364 20.935927070797632; 357.49518711030873 349.085022026704 … 19.595624194661738 20.647949873483995])"
      ]
     },
     "execution_count": 20,
     "metadata": {},
     "output_type": "execute_result"
    }
   ],
   "source": [
    "# MIGRAD contour of two parameters with the other ones fixed\n",
    "# needs PyPlot or the pyplot backend of Plots\n",
    "fit1.draw_contour(:N, :c, bound=3, bins=100)"
   ]
  },
  {
   "cell_type": "code",
   "execution_count": 21,
   "metadata": {
    "ExecuteTime": {
     "end_time": "2020-07-09T11:40:04.575000+08:00",
     "start_time": "2020-07-09T03:40:04.352Z"
    }
   },
   "outputs": [
    {
     "data": {
      "image/png": "[encoded data removed]",
      "text/plain": [
       "PyPlot.Figure(PyObject <Figure size 640x480 with 1 Axes>)"
      ]
     },
     "metadata": {},
     "output_type": "display_data"
    },
    {
     "data": {
      "text/plain": [
       "PyObject <matplotlib.contour.ContourSet object at 0x7f223f01c350>"
      ]
     },
     "execution_count": 21,
     "metadata": {},
     "output_type": "execute_result"
    }
   ],
   "source": [
    "# contour of parameter space from MINOS\n",
    "fit1.draw_mncontour(:N, :c, nsigma=3, numpoints=100)"
   ]
  },
  {
   "cell_type": "code",
   "execution_count": 22,
   "metadata": {
    "ExecuteTime": {
     "end_time": "2020-07-09T11:40:08.203000+08:00",
     "start_time": "2020-07-09T03:40:08.096Z"
    }
   },
   "outputs": [
    {
     "data": {
      "text/html": [
       "<table>\n",
       "<tr> <td/> <th> N </th> <th> c </th> <th> bg </th> </tr>\n",
       "<tr> <th> N </th> <td> 1.00 </td> <td style=\"background-color:rgb(250,111,111)\">  0.93 </td> <td style=\"background-color:rgb(250,159,159)\">  0.61 </td> </tr>\n",
       "<tr> <th> c </th> <td style=\"background-color:rgb(250,111,111)\">  0.93 </td> <td> 1.00 </td> <td style=\"background-color:rgb(250,138,138)\">  0.75 </td> </tr>\n",
       "<tr> <th> bg </th> <td style=\"background-color:rgb(250,159,159)\">  0.61 </td> <td style=\"background-color:rgb(250,138,138)\">  0.75 </td> <td> 1.00 </td> </tr>\n",
       "</table>\n"
      ],
      "text/plain": [
       "PyObject ((1.0, 0.9252133738369328, 0.6055255848641659), (0.9252133738369328, 1.0, 0.7483973089680895), (0.6055255848641659, 0.7483973089680895, 1.0))"
      ]
     },
     "execution_count": 22,
     "metadata": {},
     "output_type": "execute_result"
    }
   ],
   "source": [
    "matrix(fit1, correlation = true)"
   ]
  },
  {
   "cell_type": "code",
   "execution_count": 23,
   "metadata": {
    "ExecuteTime": {
     "end_time": "2020-07-09T11:40:09.318000+08:00",
     "start_time": "2020-07-09T03:40:09.112Z"
    }
   },
   "outputs": [
    {
     "name": "stdout",
     "output_type": "stream",
     "text": [
      "fit1.matrix = ((0.0026808279257967637, 0.004460717050849894, 3.729529830296808e-7), (0.004460717050849894, 0.008670748910938015, 8.289868474538332e-7), (3.729529830296808e-7, 8.289868474538332e-7, 1.4150579833676482e-10))\n"
     ]
    },
    {
     "data": {
      "text/html": [
       "<table>\n",
       "<tr> <td/> <th> N </th> <th> c </th> <th> bg </th> </tr>\n",
       "<tr> <th> N </th> <td> 0.003 </td> <td style=\"background-color:rgb(250,111,111)\"> 0.004 </td> <td style=\"background-color:rgb(250,159,159)\"> 0.000 </td> </tr>\n",
       "<tr> <th> c </th> <td style=\"background-color:rgb(250,111,111)\"> 0.004 </td> <td> 0.009 </td> <td style=\"background-color:rgb(250,138,138)\"> 0.000 </td> </tr>\n",
       "<tr> <th> bg </th> <td style=\"background-color:rgb(250,159,159)\"> 0.000 </td> <td style=\"background-color:rgb(250,138,138)\"> 0.000 </td> <td> 0.000 </td> </tr>\n",
       "</table>\n"
      ],
      "text/plain": [
       "PyObject ((0.0026808279257967637, 0.004460717050849894, 3.729529830296808e-07), (0.004460717050849894, 0.008670748910938015, 8.289868474538332e-07), (3.729529830296808e-07, 8.289868474538332e-07, 1.4150579833676482e-10))"
      ]
     },
     "execution_count": 23,
     "metadata": {},
     "output_type": "execute_result"
    }
   ],
   "source": [
    "@show fit1.matrix\n",
    "matrix(fit1)"
   ]
  },
  {
   "cell_type": "code",
   "execution_count": 24,
   "metadata": {
    "ExecuteTime": {
     "end_time": "2020-07-09T11:40:17.401000+08:00",
     "start_time": "2020-07-09T03:40:12.193Z"
    }
   },
   "outputs": [
    {
     "name": "stdout",
     "output_type": "stream",
     "text": [
      "  2.159255 seconds (3.78 M allocations: 187.889 MiB, 2.85% gc time)\n"
     ]
    },
    {
     "data": {
      "text/html": [
       "<table class=\"data-frame\"><thead><tr><th></th><th>χ²</th><th>N</th><th>c</th><th>bg</th></tr><tr><th></th><th>Float64</th><th>Float64</th><th>Float64</th><th>Float64</th></tr></thead><tbody><p>22 rows × 4 columns</p><tr><th>1</th><td>64.6799</td><td>2.61148</td><td>4.20103</td><td>-2.19212e-5</td></tr><tr><th>2</th><td>65.6799</td><td>2.56003</td><td>4.11417</td><td>-2.93098e-5</td></tr><tr><th>3</th><td>65.6799</td><td>2.66359</td><td>4.28645</td><td>-1.48651e-5</td></tr><tr><th>4</th><td>65.68</td><td>2.56388</td><td>4.10711</td><td>-3.10214e-5</td></tr><tr><th>5</th><td>65.68</td><td>2.65949</td><td>4.29336</td><td>-1.32599e-5</td></tr><tr><th>6</th><td>65.6799</td><td>2.57965</td><td>4.12983</td><td>-3.39527e-5</td></tr><tr><th>7</th><td>65.6799</td><td>2.64229</td><td>4.26913</td><td>-1.01556e-5</td></tr><tr><th>8</th><td>65.68</td><td>2.56003</td><td>4.11439</td><td>-2.92436e-5</td></tr><tr><th>9</th><td>65.6799</td><td>2.5638</td><td>4.10711</td><td>-3.10202e-5</td></tr><tr><th>10</th><td>65.68</td><td>2.62543</td><td>4.19027</td><td>-2.56233e-5</td></tr><tr><th>11</th><td>65.6799</td><td>2.66359</td><td>4.28649</td><td>-1.48948e-5</td></tr><tr><th>12</th><td>65.6799</td><td>2.65962</td><td>4.29336</td><td>-1.32556e-5</td></tr><tr><th>13</th><td>65.68</td><td>2.56003</td><td>4.11426</td><td>-2.92484e-5</td></tr><tr><th>14</th><td>65.6801</td><td>2.57964</td><td>4.13014</td><td>-3.39527e-5</td></tr><tr><th>15</th><td>65.6799</td><td>2.62161</td><td>4.19628</td><td>-2.97972e-5</td></tr><tr><th>16</th><td>65.68</td><td>2.66359</td><td>4.28615</td><td>-1.48963e-5</td></tr><tr><th>17</th><td>65.68</td><td>2.64229</td><td>4.26894</td><td>-1.01556e-5</td></tr><tr><th>18</th><td>65.68</td><td>2.56393</td><td>4.10711</td><td>-3.10364e-5</td></tr><tr><th>19</th><td>65.68</td><td>2.5797</td><td>4.12981</td><td>-3.39527e-5</td></tr><tr><th>20</th><td>65.68</td><td>2.62357</td><td>4.21158</td><td>-2.87507e-5</td></tr><tr><th>21</th><td>65.68</td><td>2.65952</td><td>4.29336</td><td>-1.32348e-5</td></tr><tr><th>22</th><td>65.6799</td><td>2.64226</td><td>4.26916</td><td>-1.01556e-5</td></tr></tbody></table>"
      ],
      "text/latex": [
       "\\begin{tabular}{r|cccc}\n",
       "\t& χ² & N & c & bg\\\\\n",
       "\t\\hline\n",
       "\t& Float64 & Float64 & Float64 & Float64\\\\\n",
       "\t\\hline\n",
       "\t1 & 64.6799 & 2.61148 & 4.20103 & -2.19212e-5 \\\\\n",
       "\t2 & 65.6799 & 2.56003 & 4.11417 & -2.93098e-5 \\\\\n",
       "\t3 & 65.6799 & 2.66359 & 4.28645 & -1.48651e-5 \\\\\n",
       "\t4 & 65.68 & 2.56388 & 4.10711 & -3.10214e-5 \\\\\n",
       "\t5 & 65.68 & 2.65949 & 4.29336 & -1.32599e-5 \\\\\n",
       "\t6 & 65.6799 & 2.57965 & 4.12983 & -3.39527e-5 \\\\\n",
       "\t7 & 65.6799 & 2.64229 & 4.26913 & -1.01556e-5 \\\\\n",
       "\t8 & 65.68 & 2.56003 & 4.11439 & -2.92436e-5 \\\\\n",
       "\t9 & 65.6799 & 2.5638 & 4.10711 & -3.10202e-5 \\\\\n",
       "\t10 & 65.68 & 2.62543 & 4.19027 & -2.56233e-5 \\\\\n",
       "\t11 & 65.6799 & 2.66359 & 4.28649 & -1.48948e-5 \\\\\n",
       "\t12 & 65.6799 & 2.65962 & 4.29336 & -1.32556e-5 \\\\\n",
       "\t13 & 65.68 & 2.56003 & 4.11426 & -2.92484e-5 \\\\\n",
       "\t14 & 65.6801 & 2.57964 & 4.13014 & -3.39527e-5 \\\\\n",
       "\t15 & 65.6799 & 2.62161 & 4.19628 & -2.97972e-5 \\\\\n",
       "\t16 & 65.68 & 2.66359 & 4.28615 & -1.48963e-5 \\\\\n",
       "\t17 & 65.68 & 2.64229 & 4.26894 & -1.01556e-5 \\\\\n",
       "\t18 & 65.68 & 2.56393 & 4.10711 & -3.10364e-5 \\\\\n",
       "\t19 & 65.68 & 2.5797 & 4.12981 & -3.39527e-5 \\\\\n",
       "\t20 & 65.68 & 2.62357 & 4.21158 & -2.87507e-5 \\\\\n",
       "\t21 & 65.68 & 2.65952 & 4.29336 & -1.32348e-5 \\\\\n",
       "\t22 & 65.6799 & 2.64226 & 4.26916 & -1.01556e-5 \\\\\n",
       "\\end{tabular}\n"
      ],
      "text/plain": [
       "22×4 DataFrame\n",
       "│ Row │ χ²      │ N       │ c       │ bg          │\n",
       "│     │ \u001b[90mFloat64\u001b[39m │ \u001b[90mFloat64\u001b[39m │ \u001b[90mFloat64\u001b[39m │ \u001b[90mFloat64\u001b[39m     │\n",
       "├─────┼─────────┼─────────┼─────────┼─────────────┤\n",
       "│ 1   │ 64.6799 │ 2.61148 │ 4.20103 │ -2.19212e-5 │\n",
       "│ 2   │ 65.6799 │ 2.56003 │ 4.11417 │ -2.93098e-5 │\n",
       "│ 3   │ 65.6799 │ 2.66359 │ 4.28645 │ -1.48651e-5 │\n",
       "│ 4   │ 65.68   │ 2.56388 │ 4.10711 │ -3.10214e-5 │\n",
       "│ 5   │ 65.68   │ 2.65949 │ 4.29336 │ -1.32599e-5 │\n",
       "│ 6   │ 65.6799 │ 2.57965 │ 4.12983 │ -3.39527e-5 │\n",
       "│ 7   │ 65.6799 │ 2.64229 │ 4.26913 │ -1.01556e-5 │\n",
       "│ 8   │ 65.68   │ 2.56003 │ 4.11439 │ -2.92436e-5 │\n",
       "│ 9   │ 65.6799 │ 2.5638  │ 4.10711 │ -3.10202e-5 │\n",
       "│ 10  │ 65.68   │ 2.62543 │ 4.19027 │ -2.56233e-5 │\n",
       "│ 11  │ 65.6799 │ 2.66359 │ 4.28649 │ -1.48948e-5 │\n",
       "│ 12  │ 65.6799 │ 2.65962 │ 4.29336 │ -1.32556e-5 │\n",
       "│ 13  │ 65.68   │ 2.56003 │ 4.11426 │ -2.92484e-5 │\n",
       "│ 14  │ 65.6801 │ 2.57964 │ 4.13014 │ -3.39527e-5 │\n",
       "│ 15  │ 65.6799 │ 2.62161 │ 4.19628 │ -2.97972e-5 │\n",
       "│ 16  │ 65.68   │ 2.66359 │ 4.28615 │ -1.48963e-5 │\n",
       "│ 17  │ 65.68   │ 2.64229 │ 4.26894 │ -1.01556e-5 │\n",
       "│ 18  │ 65.68   │ 2.56393 │ 4.10711 │ -3.10364e-5 │\n",
       "│ 19  │ 65.68   │ 2.5797  │ 4.12981 │ -3.39527e-5 │\n",
       "│ 20  │ 65.68   │ 2.62357 │ 4.21158 │ -2.87507e-5 │\n",
       "│ 21  │ 65.68   │ 2.65952 │ 4.29336 │ -1.32348e-5 │\n",
       "│ 22  │ 65.6799 │ 2.64226 │ 4.26916 │ -1.01556e-5 │"
      ]
     },
     "execution_count": 24,
     "metadata": {},
     "output_type": "execute_result"
    }
   ],
   "source": [
    "# this gives parameter sets at the 1σ boundary\n",
    "@time contour_df(fit1, χsq1, npts = 5)"
   ]
  },
  {
   "cell_type": "code",
   "execution_count": 31,
   "metadata": {
    "ExecuteTime": {
     "end_time": "2020-07-09T11:43:14.616000+08:00",
     "start_time": "2020-07-09T03:43:13.977Z"
    }
   },
   "outputs": [
    {
     "name": "stdout",
     "output_type": "stream",
     "text": [
      "  0.589774 seconds (1.48 M allocations: 40.566 MiB)\n"
     ]
    },
    {
     "data": {
      "text/html": [
       "<table class=\"data-frame\"><thead><tr><th></th><th>χ²</th><th>N</th><th>c</th><th>bg</th></tr><tr><th></th><th>Float64</th><th>Float64</th><th>Float64</th><th>Float64</th></tr></thead><tbody><p>70 rows × 4 columns</p><tr><th>1</th><td>64.6799</td><td>2.61148</td><td>4.20103</td><td>-2.19212e-5</td></tr><tr><th>2</th><td>64.9716</td><td>2.63483</td><td>4.22913</td><td>-2.04641e-5</td></tr><tr><th>3</th><td>65.399</td><td>2.59159</td><td>4.19459</td><td>-2.02404e-5</td></tr><tr><th>4</th><td>65.0321</td><td>2.6021</td><td>4.20541</td><td>-1.99088e-5</td></tr><tr><th>5</th><td>64.8276</td><td>2.61441</td><td>4.19249</td><td>-2.37552e-5</td></tr><tr><th>6</th><td>64.9166</td><td>2.58949</td><td>4.15586</td><td>-2.63489e-5</td></tr><tr><th>7</th><td>64.9925</td><td>2.58348</td><td>4.15886</td><td>-2.50491e-5</td></tr><tr><th>8</th><td>65.4743</td><td>2.62583</td><td>4.25465</td><td>-1.50307e-5</td></tr><tr><th>9</th><td>65.3039</td><td>2.57207</td><td>4.14174</td><td>-2.62651e-5</td></tr><tr><th>10</th><td>65.5855</td><td>2.56426</td><td>4.11231</td><td>-3.01918e-5</td></tr><tr><th>11</th><td>65.2143</td><td>2.58138</td><td>4.13483</td><td>-2.88344e-5</td></tr><tr><th>12</th><td>65.0432</td><td>2.63303</td><td>4.22132</td><td>-2.15106e-5</td></tr><tr><th>13</th><td>65.6208</td><td>2.64144</td><td>4.22312</td><td>-2.23644e-5</td></tr><tr><th>14</th><td>65.5509</td><td>2.58589</td><td>4.13003</td><td>-3.0275e-5</td></tr><tr><th>15</th><td>65.6061</td><td>2.63934</td><td>4.27508</td><td>-1.35552e-5</td></tr><tr><th>16</th><td>65.0394</td><td>2.62823</td><td>4.24655</td><td>-1.66778e-5</td></tr><tr><th>17</th><td>65.5869</td><td>2.62042</td><td>4.18288</td><td>-2.61462e-5</td></tr><tr><th>18</th><td>65.4168</td><td>2.65586</td><td>4.27748</td><td>-1.53327e-5</td></tr><tr><th>19</th><td>64.7557</td><td>2.61772</td><td>4.22012</td><td>-1.96274e-5</td></tr><tr><th>20</th><td>65.2976</td><td>2.58949</td><td>4.18769</td><td>-2.10887e-5</td></tr><tr><th>21</th><td>65.3171</td><td>2.57297</td><td>4.14625</td><td>-2.56634e-5</td></tr><tr><th>22</th><td>65.3825</td><td>2.63994</td><td>4.27027</td><td>-1.43906e-5</td></tr><tr><th>23</th><td>64.8191</td><td>2.61892</td><td>4.22553</td><td>-1.89205e-5</td></tr><tr><th>24</th><td>64.9706</td><td>2.59129</td><td>4.15405</td><td>-2.69883e-5</td></tr><tr><th>25</th><td>64.9909</td><td>2.59219</td><td>4.15405</td><td>-2.71158e-5</td></tr><tr><th>26</th><td>64.7499</td><td>2.5985</td><td>4.18228</td><td>-2.32485e-5</td></tr><tr><th>27</th><td>64.7381</td><td>2.62282</td><td>4.22342</td><td>-1.97769e-5</td></tr><tr><th>28</th><td>65.226</td><td>2.57958</td><td>4.16186</td><td>-2.40108e-5</td></tr><tr><th>29</th><td>64.8058</td><td>2.60781</td><td>4.20721</td><td>-2.03909e-5</td></tr><tr><th>30</th><td>64.812</td><td>2.63033</td><td>4.23183</td><td>-1.94203e-5</td></tr><tr><th>&vellip;</th><td>&vellip;</td><td>&vellip;</td><td>&vellip;</td><td>&vellip;</td></tr></tbody></table>"
      ],
      "text/latex": [
       "\\begin{tabular}{r|cccc}\n",
       "\t& χ² & N & c & bg\\\\\n",
       "\t\\hline\n",
       "\t& Float64 & Float64 & Float64 & Float64\\\\\n",
       "\t\\hline\n",
       "\t1 & 64.6799 & 2.61148 & 4.20103 & -2.19212e-5 \\\\\n",
       "\t2 & 64.9716 & 2.63483 & 4.22913 & -2.04641e-5 \\\\\n",
       "\t3 & 65.399 & 2.59159 & 4.19459 & -2.02404e-5 \\\\\n",
       "\t4 & 65.0321 & 2.6021 & 4.20541 & -1.99088e-5 \\\\\n",
       "\t5 & 64.8276 & 2.61441 & 4.19249 & -2.37552e-5 \\\\\n",
       "\t6 & 64.9166 & 2.58949 & 4.15586 & -2.63489e-5 \\\\\n",
       "\t7 & 64.9925 & 2.58348 & 4.15886 & -2.50491e-5 \\\\\n",
       "\t8 & 65.4743 & 2.62583 & 4.25465 & -1.50307e-5 \\\\\n",
       "\t9 & 65.3039 & 2.57207 & 4.14174 & -2.62651e-5 \\\\\n",
       "\t10 & 65.5855 & 2.56426 & 4.11231 & -3.01918e-5 \\\\\n",
       "\t11 & 65.2143 & 2.58138 & 4.13483 & -2.88344e-5 \\\\\n",
       "\t12 & 65.0432 & 2.63303 & 4.22132 & -2.15106e-5 \\\\\n",
       "\t13 & 65.6208 & 2.64144 & 4.22312 & -2.23644e-5 \\\\\n",
       "\t14 & 65.5509 & 2.58589 & 4.13003 & -3.0275e-5 \\\\\n",
       "\t15 & 65.6061 & 2.63934 & 4.27508 & -1.35552e-5 \\\\\n",
       "\t16 & 65.0394 & 2.62823 & 4.24655 & -1.66778e-5 \\\\\n",
       "\t17 & 65.5869 & 2.62042 & 4.18288 & -2.61462e-5 \\\\\n",
       "\t18 & 65.4168 & 2.65586 & 4.27748 & -1.53327e-5 \\\\\n",
       "\t19 & 64.7557 & 2.61772 & 4.22012 & -1.96274e-5 \\\\\n",
       "\t20 & 65.2976 & 2.58949 & 4.18769 & -2.10887e-5 \\\\\n",
       "\t21 & 65.3171 & 2.57297 & 4.14625 & -2.56634e-5 \\\\\n",
       "\t22 & 65.3825 & 2.63994 & 4.27027 & -1.43906e-5 \\\\\n",
       "\t23 & 64.8191 & 2.61892 & 4.22553 & -1.89205e-5 \\\\\n",
       "\t24 & 64.9706 & 2.59129 & 4.15405 & -2.69883e-5 \\\\\n",
       "\t25 & 64.9909 & 2.59219 & 4.15405 & -2.71158e-5 \\\\\n",
       "\t26 & 64.7499 & 2.5985 & 4.18228 & -2.32485e-5 \\\\\n",
       "\t27 & 64.7381 & 2.62282 & 4.22342 & -1.97769e-5 \\\\\n",
       "\t28 & 65.226 & 2.57958 & 4.16186 & -2.40108e-5 \\\\\n",
       "\t29 & 64.8058 & 2.60781 & 4.20721 & -2.03909e-5 \\\\\n",
       "\t30 & 64.812 & 2.63033 & 4.23183 & -1.94203e-5 \\\\\n",
       "\t$\\dots$ & $\\dots$ & $\\dots$ & $\\dots$ & $\\dots$ \\\\\n",
       "\\end{tabular}\n"
      ],
      "text/plain": [
       "70×4 DataFrame\n",
       "│ Row │ χ²      │ N       │ c       │ bg          │\n",
       "│     │ \u001b[90mFloat64\u001b[39m │ \u001b[90mFloat64\u001b[39m │ \u001b[90mFloat64\u001b[39m │ \u001b[90mFloat64\u001b[39m     │\n",
       "├─────┼─────────┼─────────┼─────────┼─────────────┤\n",
       "│ 1   │ 64.6799 │ 2.61148 │ 4.20103 │ -2.19212e-5 │\n",
       "│ 2   │ 64.9716 │ 2.63483 │ 4.22913 │ -2.04641e-5 │\n",
       "│ 3   │ 65.399  │ 2.59159 │ 4.19459 │ -2.02404e-5 │\n",
       "│ 4   │ 65.0321 │ 2.6021  │ 4.20541 │ -1.99088e-5 │\n",
       "│ 5   │ 64.8276 │ 2.61441 │ 4.19249 │ -2.37552e-5 │\n",
       "│ 6   │ 64.9166 │ 2.58949 │ 4.15586 │ -2.63489e-5 │\n",
       "│ 7   │ 64.9925 │ 2.58348 │ 4.15886 │ -2.50491e-5 │\n",
       "│ 8   │ 65.4743 │ 2.62583 │ 4.25465 │ -1.50307e-5 │\n",
       "│ 9   │ 65.3039 │ 2.57207 │ 4.14174 │ -2.62651e-5 │\n",
       "│ 10  │ 65.5855 │ 2.56426 │ 4.11231 │ -3.01918e-5 │\n",
       "⋮\n",
       "│ 60  │ 64.7353 │ 2.62342 │ 4.22252 │ -2.00042e-5 │\n",
       "│ 61  │ 65.3914 │ 2.61321 │ 4.17417 │ -2.65808e-5 │\n",
       "│ 62  │ 64.8359 │ 2.63183 │ 4.23303 │ -1.94263e-5 │\n",
       "│ 63  │ 65.3139 │ 2.64595 │ 4.27327 │ -1.47001e-5 │\n",
       "│ 64  │ 65.519  │ 2.65886 │ 4.27508 │ -1.61243e-5 │\n",
       "│ 65  │ 65.0972 │ 2.61742 │ 4.23333 │ -1.73799e-5 │\n",
       "│ 66  │ 65.0139 │ 2.58679 │ 4.17117 │ -2.34679e-5 │\n",
       "│ 67  │ 64.8042 │ 2.62973 │ 4.23213 │ -1.92925e-5 │\n",
       "│ 68  │ 65.366  │ 2.5964  │ 4.14835 │ -2.86769e-5 │\n",
       "│ 69  │ 65.6035 │ 2.56547 │ 4.11081 │ -3.06071e-5 │\n",
       "│ 70  │ 64.878  │ 2.61261 │ 4.21862 │ -1.91877e-5 │"
      ]
     },
     "execution_count": 31,
     "metadata": {},
     "output_type": "execute_result"
    }
   ],
   "source": [
    "# random sampling of parameters in given ranges, keeping those within 1σ\n",
    "@time parsam_df = contour_df_samples(fit1, χsq1, (:N, :c), ([2.5,2.8], [4.0,4.3]), nsamples = 1000)"
   ]
  },
  {
   "cell_type": "code",
   "execution_count": 32,
   "metadata": {
    "ExecuteTime": {
     "end_time": "2020-07-09T11:43:21.569000+08:00",
     "start_time": "2020-07-09T03:43:21.565Z"
    }
   },
   "outputs": [
    {
     "data": {
      "text/plain": [
       "((2.564264264264264, 2.6588588588588586), (4.110810810810811, 4.283783783783784))"
      ]
     },
     "execution_count": 32,
     "metadata": {},
     "output_type": "execute_result"
    }
   ],
   "source": [
    "# get parameter ranges\n",
    "extrema(parsam_df.:N), extrema(parsam_df.:c)"
   ]
  },
  {
   "cell_type": "markdown",
   "metadata": {},
   "source": [
    "## Example A in the iminuit tutorial\n",
    "\n",
    "The example is [Example A: Fit of a gaussian model to a histogram](https://nbviewer.jupyter.org/github/scikit-hep/iminuit/blob/master/tutorial/automatic_differentiation.ipynb)"
   ]
  },
  {
   "cell_type": "code",
   "execution_count": 33,
   "metadata": {
    "ExecuteTime": {
     "end_time": "2020-07-09T11:43:34.918000+08:00",
     "start_time": "2020-07-09T03:43:34.903Z"
    }
   },
   "outputs": [],
   "source": [
    "using PyCall"
   ]
  },
  {
   "cell_type": "code",
   "execution_count": 34,
   "metadata": {
    "ExecuteTime": {
     "end_time": "2020-07-09T11:43:37.497000+08:00",
     "start_time": "2020-07-09T03:43:36.713Z"
    }
   },
   "outputs": [
    {
     "data": {
      "text/plain": [
       "([1, 0, 0, 0, 0, 0, 0, 0, 0, 0  …  0, 0, 0, 0, 0, 0, 0, 0, 0, 1], [-3.8378621427178974, -3.830092502694802, -3.8223228626717063, -3.8145532226486107, -3.806783582625515, -3.7990139426024196, -3.791244302579324, -3.7834746625562286, -3.775705022533133, -3.7679353825100375  …  3.8618511201697956, 3.869620760192891, 3.8773904002159867, 3.8851600402390822, 3.892929680262178, 3.9006993202852733, 3.908468960308369, 3.9162386003314644, 3.92400824035456, 3.931777880377655])"
      ]
     },
     "execution_count": 34,
     "metadata": {},
     "output_type": "execute_result"
    }
   ],
   "source": [
    "# import numpy from Python to generate the same data as in the example\n",
    "np = pyimport(:numpy)\n",
    "default_rng = pyimport(\"numpy.random\").default_rng\n",
    "rng = default_rng(seed=1)\n",
    "const w, xe = np.histogram(rng.normal(0, 1, 10000), bins=1000)"
   ]
  },
  {
   "cell_type": "code",
   "execution_count": 35,
   "metadata": {
    "ExecuteTime": {
     "end_time": "2020-07-09T11:43:40.219000+08:00",
     "start_time": "2020-07-09T03:43:39.915Z"
    }
   },
   "outputs": [
    {
     "data": {
      "text/plain": [
       "score (generic function with 1 method)"
      ]
     },
     "execution_count": 35,
     "metadata": {},
     "output_type": "execute_result"
    }
   ],
   "source": [
    "# define the model and the score function to minimize\n",
    "using SpecialFunctions\n",
    "\n",
    "function cdf(x, par)\n",
    "    mu, sigma = par\n",
    "    z = (x - mu) / sigma\n",
    "    return 0.5 * (1 + erf(z / sqrt(2))) \n",
    "end\n",
    "\n",
    "function score(par)\n",
    "    amp = par[1]\n",
    "    rest = par[2:end]\n",
    "    mu = amp * (cdf.(xe[2:end], Ref(rest)) - cdf.(xe[1:end-1], Ref(rest)) )\n",
    "    return 2 * sum(@. mu - w * log(mu + 1e-100))\n",
    "end"
   ]
  },
  {
   "cell_type": "code",
   "execution_count": 36,
   "metadata": {
    "ExecuteTime": {
     "end_time": "2020-07-09T11:43:41.746000+08:00",
     "start_time": "2020-07-09T03:43:41.620Z"
    }
   },
   "outputs": [],
   "source": [
    "const start_values = [1.5 * sum(w), 1.0, 2.0]\n",
    "const limits = [(0, nothing), nothing, (0, nothing)];"
   ]
  },
  {
   "cell_type": "code",
   "execution_count": 126,
   "metadata": {
    "ExecuteTime": {
     "end_time": "2020-07-09T12:19:12.640000+08:00",
     "start_time": "2020-07-09T04:19:12.634Z"
    }
   },
   "outputs": [],
   "source": [
    "# w/o grad\n",
    "m = Minuit(score, start_values, limit=limits)\n",
    "m.strategy = 0\n",
    "\n",
    "# using grad\n",
    "grad_fd(pars) =  gradient(score, pars)\n",
    "m_fd = Minuit(score, start_values, limit=limits, grad = grad_fd)\n",
    "m_fd.strategy = 0;"
   ]
  },
  {
   "cell_type": "code",
   "execution_count": 38,
   "metadata": {
    "ExecuteTime": {
     "end_time": "2020-07-09T11:43:56.938000+08:00",
     "start_time": "2020-07-09T03:43:45.076Z"
    }
   },
   "outputs": [
    {
     "name": "stdout",
     "output_type": "stream",
     "text": [
      "  575.700 μs (475 allocations: 460.64 KiB)\n"
     ]
    },
    {
     "data": {
      "text/html": [
       "<table>\n",
       "<tr> <td colspan=\"2\" style=\"text-align:center\" title=\"Minimum value of function\"> FCN = -3.871e+04 </td> <td colspan=\"3\" title=\"No. of calls in last algorithm and total number of calls\"> Ncalls = 8 (52532 total) </td> </tr>\n",
       "<tr> <td colspan=\"2\" style=\"text-align:center\" title=\"Estimated distance to minimum and target threshold\"> EDM = 2.01e-12 (Goal: 0.0002) </td> <td colspan=\"3\" title=\"Increase in FCN which corresponds to 1 standard deviation\"> up = 1.0 </td> </tr>\n",
       "<tr> <td title=\"Validity of the migrad call\"> Valid Min. </td> <td title=\"Validity of parameters\"> Valid Param. </td> <td title=\"Is EDM above goal EDM?\"> Above EDM </td> <td colspan=\"2\" title=\"Did last migrad call reach max call limit?\"> Reached call limit </td> </tr>\n",
       "<tr> <td style=\"background-color:#92CCA6;\"> True </td> <td style=\"background-color:#92CCA6;\"> True </td> <td style=\"background-color:#92CCA6;\"> False </td> <td colspan=\"2\" style=\"background-color:#92CCA6;\"> False </td> </tr>\n",
       "<tr> <td title=\"Did Hesse fail?\"> Hesse failed </td> <td title=\"Has covariance matrix\"> Has cov. </td> <td title=\"Is covariance matrix accurate?\"> Accurate </td> <td title=\"Is covariance matrix positive definite?\"> Pos. def. </td> <td title=\"Was positive definiteness enforced by Minuit?\"> Forced </td> </tr>\n",
       "<tr> <td style=\"background-color:#92CCA6;\"> False </td> <td style=\"background-color:#92CCA6;\"> True </td> <td style=\"background-color:#92CCA6;\"> True </td> <td style=\"background-color:#92CCA6;\"> True </td> <td style=\"background-color:#92CCA6;\"> False </td> </tr>\n",
       "</table>\n",
       "<table>\n",
       "<tr style=\"background-color:#F4F4F4;\"> <td/> <th title=\"Variable name\"> Name </th> <th title=\"Value of parameter\"> Value </th> <th title=\"Hesse error\"> Hesse Error </th> <th title=\"Minos lower error\"> Minos Error- </th> <th title=\"Minos upper error\"> Minos Error+ </th> <th title=\"Lower limit of the parameter\"> Limit- </th> <th title=\"Upper limit of the parameter\"> Limit+ </th> <th title=\"Is the parameter fixed in the fit\"> Fixed </th> </tr>\n",
       "<tr style=\"background-color:#FFFFFF;\"> <th> 0 </th> <td> x0 </td> <td> 10.0e3 </td> <td> 0.1e3 </td> <td>  </td> <td>  </td> <td> 0 </td> <td>  </td> <td>  </td> </tr>\n",
       "<tr style=\"background-color:#F4F4F4;\"> <th> 1 </th> <td> x1 </td> <td> -0.011 </td> <td> 0.010 </td> <td>  </td> <td>  </td> <td>  </td> <td>  </td> <td>  </td> </tr>\n",
       "<tr style=\"background-color:#FFFFFF;\"> <th> 2 </th> <td> x2 </td> <td> 0.999 </td> <td> 0.007 </td> <td>  </td> <td>  </td> <td> 0 </td> <td>  </td> <td>  </td> </tr>\n",
       "</table>\n"
      ],
      "text/plain": [
       "PyObject MigradResult(fmin=FMin(fval=-38710.19985212475, edm=2.0142820069460498e-12, tolerance=0.1, nfcn=8, ncalls=52532, up=1.0, is_valid=True, has_valid_parameters=True, has_accurate_covar=True, has_posdef_covar=True, has_made_posdef_covar=False, hesse_failed=False, has_covariance=True, is_above_max_edm=False, has_reached_call_limit=False), params=[Param(number=0, name='x0', value=10001.040137685515, error=99.56265139939478, is_const=False, is_fixed=False, has_limits=True, has_lower_limit=True, has_upper_limit=False, lower_limit=0.0, upper_limit=None), Param(number=1, name='x1', value=-0.01105171350465089, error=0.010013546547205668, is_const=False, is_fixed=False, has_limits=False, has_lower_limit=False, has_upper_limit=False, lower_limit=None, upper_limit=None), Param(number=2, name='x2', value=0.9992897105689829, error=0.007141203766656945, is_const=False, is_fixed=False, has_limits=True, has_lower_limit=True, has_upper_limit=False, lower_limit=0.0, upper_limit=None)])"
      ]
     },
     "execution_count": 38,
     "metadata": {},
     "output_type": "execute_result"
    }
   ],
   "source": [
    "@btime migrad(m)"
   ]
  },
  {
   "cell_type": "code",
   "execution_count": 39,
   "metadata": {
    "ExecuteTime": {
     "end_time": "2020-07-09T11:44:14.443000+08:00",
     "start_time": "2020-07-09T03:44:01.909Z"
    }
   },
   "outputs": [
    {
     "name": "stdout",
     "output_type": "stream",
     "text": [
      "  352.900 μs (257 allocations: 348.22 KiB)\n"
     ]
    },
    {
     "data": {
      "text/html": [
       "<table>\n",
       "<tr> <td colspan=\"2\" style=\"text-align:center\" title=\"Minimum value of function\"> FCN = -3.871e+04 </td> <td colspan=\"3\" title=\"No. of calls in last algorithm and total number of calls\"> Ncalls = 3 (31349 total) </td> </tr>\n",
       "<tr> <td colspan=\"2\" style=\"text-align:center\" title=\"Estimated distance to minimum and target threshold\"> EDM = 9.41e-12 (Goal: 0.0002) </td> <td colspan=\"3\" title=\"Increase in FCN which corresponds to 1 standard deviation\"> up = 1.0 </td> </tr>\n",
       "<tr> <td title=\"Validity of the migrad call\"> Valid Min. </td> <td title=\"Validity of parameters\"> Valid Param. </td> <td title=\"Is EDM above goal EDM?\"> Above EDM </td> <td colspan=\"2\" title=\"Did last migrad call reach max call limit?\"> Reached call limit </td> </tr>\n",
       "<tr> <td style=\"background-color:#92CCA6;\"> True </td> <td style=\"background-color:#92CCA6;\"> True </td> <td style=\"background-color:#92CCA6;\"> False </td> <td colspan=\"2\" style=\"background-color:#92CCA6;\"> False </td> </tr>\n",
       "<tr> <td title=\"Did Hesse fail?\"> Hesse failed </td> <td title=\"Has covariance matrix\"> Has cov. </td> <td title=\"Is covariance matrix accurate?\"> Accurate </td> <td title=\"Is covariance matrix positive definite?\"> Pos. def. </td> <td title=\"Was positive definiteness enforced by Minuit?\"> Forced </td> </tr>\n",
       "<tr> <td style=\"background-color:#92CCA6;\"> False </td> <td style=\"background-color:#92CCA6;\"> True </td> <td style=\"background-color:#92CCA6;\"> True </td> <td style=\"background-color:#92CCA6;\"> True </td> <td style=\"background-color:#92CCA6;\"> False </td> </tr>\n",
       "</table>\n",
       "<table>\n",
       "<tr style=\"background-color:#F4F4F4;\"> <td/> <th title=\"Variable name\"> Name </th> <th title=\"Value of parameter\"> Value </th> <th title=\"Hesse error\"> Hesse Error </th> <th title=\"Minos lower error\"> Minos Error- </th> <th title=\"Minos upper error\"> Minos Error+ </th> <th title=\"Lower limit of the parameter\"> Limit- </th> <th title=\"Upper limit of the parameter\"> Limit+ </th> <th title=\"Is the parameter fixed in the fit\"> Fixed </th> </tr>\n",
       "<tr style=\"background-color:#FFFFFF;\"> <th> 0 </th> <td> x0 </td> <td> 10.0e3 </td> <td> 0.1e3 </td> <td>  </td> <td>  </td> <td> 0 </td> <td>  </td> <td>  </td> </tr>\n",
       "<tr style=\"background-color:#F4F4F4;\"> <th> 1 </th> <td> x1 </td> <td> -0.011 </td> <td> 0.010 </td> <td>  </td> <td>  </td> <td>  </td> <td>  </td> <td>  </td> </tr>\n",
       "<tr style=\"background-color:#FFFFFF;\"> <th> 2 </th> <td> x2 </td> <td> 0.999 </td> <td> 0.007 </td> <td>  </td> <td>  </td> <td> 0 </td> <td>  </td> <td>  </td> </tr>\n",
       "</table>\n"
      ],
      "text/plain": [
       "PyObject MigradResult(fmin=FMin(fval=-38710.19985212736, edm=9.414200054796711e-12, tolerance=0.1, nfcn=3, ncalls=31349, up=1.0, is_valid=True, has_valid_parameters=True, has_accurate_covar=True, has_posdef_covar=True, has_made_posdef_covar=False, hesse_failed=False, has_covariance=True, is_above_max_edm=False, has_reached_call_limit=False), params=[Param(number=0, name='x0', value=10001.039987391317, error=99.95742260033421, is_const=False, is_fixed=False, has_limits=True, has_lower_limit=True, has_upper_limit=False, lower_limit=0.0, upper_limit=None), Param(number=1, name='x1', value=-0.011051729329187911, error=0.009992544958620243, is_const=False, is_fixed=False, has_limits=False, has_lower_limit=False, has_upper_limit=False, lower_limit=None, upper_limit=None), Param(number=2, name='x2', value=0.9992893655857928, error=0.00710107169380747, is_const=False, is_fixed=False, has_limits=True, has_lower_limit=True, has_upper_limit=False, lower_limit=0.0, upper_limit=None)])"
      ]
     },
     "execution_count": 39,
     "metadata": {},
     "output_type": "execute_result"
    }
   ],
   "source": [
    "@btime migrad(m_fd)"
   ]
  },
  {
   "cell_type": "code",
   "execution_count": null,
   "metadata": {},
   "outputs": [],
   "source": []
  }
 ],
 "metadata": {
  "@webio": {
   "lastCommId": null,
   "lastKernelId": null
  },
  "kernelspec": {
   "display_name": "Julia 1.4.2",
   "language": "julia",
   "name": "julia-1.4"
  },
  "language_info": {
   "file_extension": ".jl",
   "mimetype": "application/julia",
   "name": "julia",
   "version": "1.4.2"
  },
  "latex_envs": {
   "LaTeX_envs_menu_present": true,
   "autoclose": false,
   "autocomplete": true,
   "bibliofile": "biblio.bib",
   "cite_by": "apalike",
   "current_citInitial": 1,
   "eqLabelWithNumbers": true,
   "eqNumInitial": 1,
   "hotkeys": {
    "equation": "Ctrl-E",
    "itemize": "Ctrl-I"
   },
   "labels_anchors": false,
   "latex_user_defs": false,
   "report_style_numbering": false,
   "user_envs_cfg": false
  },
  "toc": {
   "base_numbering": 1,
   "nav_menu": {},
   "number_sections": true,
   "sideBar": true,
   "skip_h1_title": false,
   "title_cell": "Table of Contents",
   "title_sidebar": "Contents",
   "toc_cell": false,
   "toc_position": {},
   "toc_section_display": true,
   "toc_window_display": true
  },
  "varInspector": {
   "cols": {
    "lenName": 16,
    "lenType": 16,
    "lenVar": 40
   },
   "kernels_config": {
    "python": {
     "delete_cmd_postfix": "",
     "delete_cmd_prefix": "del ",
     "library": "var_list.py",
     "varRefreshCmd": "print(var_dic_list())"
    },
    "r": {
     "delete_cmd_postfix": ") ",
     "delete_cmd_prefix": "rm(",
     "library": "var_list.r",
     "varRefreshCmd": "cat(var_dic_list()) "
    }
   },
   "types_to_exclude": [
    "module",
    "function",
    "builtin_function_or_method",
    "instance",
    "_Feature"
   ],
   "window_display": false
  }
 },
 "nbformat": 4,
 "nbformat_minor": 4
}
