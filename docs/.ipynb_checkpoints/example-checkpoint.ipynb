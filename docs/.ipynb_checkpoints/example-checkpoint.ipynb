{
 "cells": [
  {
   "cell_type": "code",
   "execution_count": 1,
   "metadata": {
    "ExecuteTime": {
     "end_time": "2020-07-10T18:41:57.454000+08:00",
     "start_time": "2020-07-10T10:40:22.488Z"
    }
   },
   "outputs": [
    {
     "name": "stderr",
     "output_type": "stream",
     "text": [
      "┌ Info: Precompiling IMinuit [beb75e20-2205-47e6-ad51-640e9c2309f1]\n",
      "└ @ Base loading.jl:1260\n"
     ]
    }
   ],
   "source": [
    "using IMinuit\n",
    "using BenchmarkTools"
   ]
  },
  {
   "cell_type": "code",
   "execution_count": 3,
   "metadata": {
    "ExecuteTime": {
     "end_time": "2020-07-10T18:42:23.073000+08:00",
     "start_time": "2020-07-10T10:42:23.064Z"
    }
   },
   "outputs": [
    {
     "data": {
      "text/plain": [
       "f1 (generic function with 1 method)"
      ]
     },
     "execution_count": 3,
     "metadata": {},
     "output_type": "execute_result"
    }
   ],
   "source": [
    "f(x) = x[1]^2 + (x[2]-1)^2 + (x[3]-2)^4\n",
    "f1(x, y, z) = x^2 + (y-1)^2 + (z-2)^4"
   ]
  },
  {
   "cell_type": "code",
   "execution_count": 4,
   "metadata": {
    "ExecuteTime": {
     "end_time": "2020-07-10T18:42:25.746000+08:00",
     "start_time": "2020-07-10T10:42:23.926Z"
    }
   },
   "outputs": [
    {
     "data": {
      "text/plain": [
       "Fit(PyObject <iminuit._libiminuit.Minuit object at 0x561356a06920>)"
      ]
     },
     "execution_count": 4,
     "metadata": {},
     "output_type": "execute_result"
    }
   ],
   "source": [
    "m = Minuit(f, [1, 1, 4])\n",
    "gradf(x) = gradient(f, x)\n",
    "mgrad = Minuit(f, [1, 1, 4], grad = gradf)\n",
    "m1 = Minuit(f1, x = 1, y = 1, z = 4)"
   ]
  },
  {
   "cell_type": "code",
   "execution_count": 6,
   "metadata": {
    "ExecuteTime": {
     "end_time": "2020-07-10T18:42:30.923000+08:00",
     "start_time": "2020-07-10T10:42:30.915Z"
    }
   },
   "outputs": [
    {
     "data": {
      "text/html": [
       "<table>\n",
       "<tr> <td colspan=\"2\" style=\"text-align:center\" title=\"Minimum value of function\"> FCN = 9.493e-06 </td> <td colspan=\"3\" title=\"No. of calls in last algorithm and total number of calls\"> Ncalls = 43 (132 total) </td> </tr>\n",
       "<tr> <td colspan=\"2\" style=\"text-align:center\" title=\"Estimated distance to minimum and target threshold\"> EDM = 7.56e-06 (Goal: 0.0002) </td> <td colspan=\"3\" title=\"Increase in FCN which corresponds to 1 standard deviation\"> up = 1.0 </td> </tr>\n",
       "<tr> <td title=\"Validity of the migrad call\"> Valid Min. </td> <td title=\"Validity of parameters\"> Valid Param. </td> <td title=\"Is EDM above goal EDM?\"> Above EDM </td> <td colspan=\"2\" title=\"Did last migrad call reach max call limit?\"> Reached call limit </td> </tr>\n",
       "<tr> <td style=\"background-color:#92CCA6;\"> True </td> <td style=\"background-color:#92CCA6;\"> True </td> <td style=\"background-color:#92CCA6;\"> False </td> <td colspan=\"2\" style=\"background-color:#92CCA6;\"> False </td> </tr>\n",
       "<tr> <td title=\"Did Hesse fail?\"> Hesse failed </td> <td title=\"Has covariance matrix\"> Has cov. </td> <td title=\"Is covariance matrix accurate?\"> Accurate </td> <td title=\"Is covariance matrix positive definite?\"> Pos. def. </td> <td title=\"Was positive definiteness enforced by Minuit?\"> Forced </td> </tr>\n",
       "<tr> <td style=\"background-color:#92CCA6;\"> False </td> <td style=\"background-color:#92CCA6;\"> True </td> <td style=\"background-color:#92CCA6;\"> True </td> <td style=\"background-color:#92CCA6;\"> True </td> <td style=\"background-color:#92CCA6;\"> False </td> </tr>\n",
       "</table>\n",
       "<table>\n",
       "<tr style=\"background-color:#F4F4F4;\"> <td/> <th title=\"Variable name\"> Name </th> <th title=\"Value of parameter\"> Value </th> <th title=\"Hesse error\"> Hesse Error </th> <th title=\"Minos lower error\"> Minos Error- </th> <th title=\"Minos upper error\"> Minos Error+ </th> <th title=\"Lower limit of the parameter\"> Limit- </th> <th title=\"Upper limit of the parameter\"> Limit+ </th> <th title=\"Is the parameter fixed in the fit\"> Fixed </th> </tr>\n",
       "<tr style=\"background-color:#FFFFFF;\"> <th> 0 </th> <td> x0 </td> <td> -0 </td> <td> 1 </td> <td>  </td> <td>  </td> <td>  </td> <td>  </td> <td>  </td> </tr>\n",
       "<tr style=\"background-color:#F4F4F4;\"> <th> 1 </th> <td> x1 </td> <td> 1 </td> <td> 1 </td> <td>  </td> <td>  </td> <td>  </td> <td>  </td> <td>  </td> </tr>\n",
       "<tr style=\"background-color:#FFFFFF;\"> <th> 2 </th> <td> x2 </td> <td> 2 </td> <td> 8 </td> <td>  </td> <td>  </td> <td>  </td> <td>  </td> <td>  </td> </tr>\n",
       "</table>\n"
      ],
      "text/plain": [
       "PyObject MigradResult(fmin=FMin(fval=9.493387842144756e-06, edm=7.557948258070814e-06, tolerance=0.1, nfcn=43, ncalls=132, up=1.0, is_valid=True, has_valid_parameters=True, has_accurate_covar=True, has_posdef_covar=True, has_made_posdef_covar=False, hesse_failed=False, has_covariance=True, is_above_max_edm=False, has_reached_call_limit=False), params=[Param(number=0, name='x0', value=-0.0019219642482053087, error=1.0, is_const=False, is_fixed=False, has_limits=False, has_lower_limit=False, has_upper_limit=False, lower_limit=None, upper_limit=None), Param(number=1, name='x1', value=0.9999999999999999, error=0.9999999999999709, is_const=False, is_fixed=False, has_limits=False, has_lower_limit=False, has_upper_limit=False, lower_limit=None, upper_limit=None), Param(number=2, name='x2', value=2.049073444072341, error=8.314383563105013, is_const=False, is_fixed=False, has_limits=False, has_lower_limit=False, has_upper_limit=False, lower_limit=None, upper_limit=None)])"
      ]
     },
     "execution_count": 6,
     "metadata": {},
     "output_type": "execute_result"
    }
   ],
   "source": [
    "# using array parameters\n",
    "migrad(m)"
   ]
  },
  {
   "cell_type": "code",
   "execution_count": 8,
   "metadata": {
    "ExecuteTime": {
     "end_time": "2020-07-10T18:42:35.875000+08:00",
     "start_time": "2020-07-10T10:42:35.866Z"
    }
   },
   "outputs": [
    {
     "data": {
      "text/html": [
       "<table>\n",
       "<tr> <td colspan=\"2\" style=\"text-align:center\" title=\"Minimum value of function\"> FCN = 2.423e-06 </td> <td colspan=\"3\" title=\"No. of calls in last algorithm and total number of calls\"> Ncalls = 37 (106 total) </td> </tr>\n",
       "<tr> <td colspan=\"2\" style=\"text-align:center\" title=\"Estimated distance to minimum and target threshold\"> EDM = 2.11e-06 (Goal: 0.0002) </td> <td colspan=\"3\" title=\"Increase in FCN which corresponds to 1 standard deviation\"> up = 1.0 </td> </tr>\n",
       "<tr> <td title=\"Validity of the migrad call\"> Valid Min. </td> <td title=\"Validity of parameters\"> Valid Param. </td> <td title=\"Is EDM above goal EDM?\"> Above EDM </td> <td colspan=\"2\" title=\"Did last migrad call reach max call limit?\"> Reached call limit </td> </tr>\n",
       "<tr> <td style=\"background-color:#92CCA6;\"> True </td> <td style=\"background-color:#92CCA6;\"> True </td> <td style=\"background-color:#92CCA6;\"> False </td> <td colspan=\"2\" style=\"background-color:#92CCA6;\"> False </td> </tr>\n",
       "<tr> <td title=\"Did Hesse fail?\"> Hesse failed </td> <td title=\"Has covariance matrix\"> Has cov. </td> <td title=\"Is covariance matrix accurate?\"> Accurate </td> <td title=\"Is covariance matrix positive definite?\"> Pos. def. </td> <td title=\"Was positive definiteness enforced by Minuit?\"> Forced </td> </tr>\n",
       "<tr> <td style=\"background-color:#92CCA6;\"> False </td> <td style=\"background-color:#92CCA6;\"> True </td> <td style=\"background-color:#92CCA6;\"> True </td> <td style=\"background-color:#92CCA6;\"> True </td> <td style=\"background-color:#92CCA6;\"> False </td> </tr>\n",
       "</table>\n",
       "<table>\n",
       "<tr style=\"background-color:#F4F4F4;\"> <td/> <th title=\"Variable name\"> Name </th> <th title=\"Value of parameter\"> Value </th> <th title=\"Hesse error\"> Hesse Error </th> <th title=\"Minos lower error\"> Minos Error- </th> <th title=\"Minos upper error\"> Minos Error+ </th> <th title=\"Lower limit of the parameter\"> Limit- </th> <th title=\"Upper limit of the parameter\"> Limit+ </th> <th title=\"Is the parameter fixed in the fit\"> Fixed </th> </tr>\n",
       "<tr style=\"background-color:#FFFFFF;\"> <th> 0 </th> <td> x0 </td> <td> -0 </td> <td> 1 </td> <td>  </td> <td>  </td> <td>  </td> <td>  </td> <td>  </td> </tr>\n",
       "<tr style=\"background-color:#F4F4F4;\"> <th> 1 </th> <td> x1 </td> <td> 1 </td> <td> 1 </td> <td>  </td> <td>  </td> <td>  </td> <td>  </td> <td>  </td> </tr>\n",
       "<tr style=\"background-color:#FFFFFF;\"> <th> 2 </th> <td> x2 </td> <td> 2 </td> <td> 13 </td> <td>  </td> <td>  </td> <td>  </td> <td>  </td> <td>  </td> </tr>\n",
       "</table>\n"
      ],
      "text/plain": [
       "PyObject MigradResult(fmin=FMin(fval=2.4231940887475173e-06, edm=2.1075772834323686e-06, tolerance=0.1, nfcn=37, ncalls=106, up=1.0, is_valid=True, has_valid_parameters=True, has_accurate_covar=True, has_posdef_covar=True, has_made_posdef_covar=False, hesse_failed=False, has_covariance=True, is_above_max_edm=False, has_reached_call_limit=False), params=[Param(number=0, name='x0', value=-0.001217235334930265, error=1.0000000000000002, is_const=False, is_fixed=False, has_limits=False, has_lower_limit=False, has_upper_limit=False, lower_limit=None, upper_limit=None), Param(number=1, name='x1', value=1.0000000000000004, error=1.000000000000033, is_const=False, is_fixed=False, has_limits=False, has_lower_limit=False, has_upper_limit=False, lower_limit=None, upper_limit=None), Param(number=2, name='x2', value=2.0311500535484273, error=13.070201301113903, is_const=False, is_fixed=False, has_limits=False, has_lower_limit=False, has_upper_limit=False, lower_limit=None, upper_limit=None)])"
      ]
     },
     "execution_count": 8,
     "metadata": {},
     "output_type": "execute_result"
    }
   ],
   "source": [
    "# using array parameters, usign `ForwardDiff: gradient` to compute the gradient\n",
    "migrad(mgrad)"
   ]
  },
  {
   "cell_type": "code",
   "execution_count": 10,
   "metadata": {
    "ExecuteTime": {
     "end_time": "2020-07-10T18:42:43.887000+08:00",
     "start_time": "2020-07-10T10:42:43.878Z"
    }
   },
   "outputs": [
    {
     "data": {
      "text/html": [
       "<table>\n",
       "<tr> <td colspan=\"2\" style=\"text-align:center\" title=\"Minimum value of function\"> FCN = 9.493e-06 </td> <td colspan=\"3\" title=\"No. of calls in last algorithm and total number of calls\"> Ncalls = 43 (132 total) </td> </tr>\n",
       "<tr> <td colspan=\"2\" style=\"text-align:center\" title=\"Estimated distance to minimum and target threshold\"> EDM = 7.56e-06 (Goal: 0.0002) </td> <td colspan=\"3\" title=\"Increase in FCN which corresponds to 1 standard deviation\"> up = 1.0 </td> </tr>\n",
       "<tr> <td title=\"Validity of the migrad call\"> Valid Min. </td> <td title=\"Validity of parameters\"> Valid Param. </td> <td title=\"Is EDM above goal EDM?\"> Above EDM </td> <td colspan=\"2\" title=\"Did last migrad call reach max call limit?\"> Reached call limit </td> </tr>\n",
       "<tr> <td style=\"background-color:#92CCA6;\"> True </td> <td style=\"background-color:#92CCA6;\"> True </td> <td style=\"background-color:#92CCA6;\"> False </td> <td colspan=\"2\" style=\"background-color:#92CCA6;\"> False </td> </tr>\n",
       "<tr> <td title=\"Did Hesse fail?\"> Hesse failed </td> <td title=\"Has covariance matrix\"> Has cov. </td> <td title=\"Is covariance matrix accurate?\"> Accurate </td> <td title=\"Is covariance matrix positive definite?\"> Pos. def. </td> <td title=\"Was positive definiteness enforced by Minuit?\"> Forced </td> </tr>\n",
       "<tr> <td style=\"background-color:#92CCA6;\"> False </td> <td style=\"background-color:#92CCA6;\"> True </td> <td style=\"background-color:#92CCA6;\"> True </td> <td style=\"background-color:#92CCA6;\"> True </td> <td style=\"background-color:#92CCA6;\"> False </td> </tr>\n",
       "</table>\n",
       "<table>\n",
       "<tr style=\"background-color:#F4F4F4;\"> <td/> <th title=\"Variable name\"> Name </th> <th title=\"Value of parameter\"> Value </th> <th title=\"Hesse error\"> Hesse Error </th> <th title=\"Minos lower error\"> Minos Error- </th> <th title=\"Minos upper error\"> Minos Error+ </th> <th title=\"Lower limit of the parameter\"> Limit- </th> <th title=\"Upper limit of the parameter\"> Limit+ </th> <th title=\"Is the parameter fixed in the fit\"> Fixed </th> </tr>\n",
       "<tr style=\"background-color:#FFFFFF;\"> <th> 0 </th> <td> x </td> <td> -0 </td> <td> 1 </td> <td>  </td> <td>  </td> <td>  </td> <td>  </td> <td>  </td> </tr>\n",
       "<tr style=\"background-color:#F4F4F4;\"> <th> 1 </th> <td> y </td> <td> 1 </td> <td> 1 </td> <td>  </td> <td>  </td> <td>  </td> <td>  </td> <td>  </td> </tr>\n",
       "<tr style=\"background-color:#FFFFFF;\"> <th> 2 </th> <td> z </td> <td> 2 </td> <td> 8 </td> <td>  </td> <td>  </td> <td>  </td> <td>  </td> <td>  </td> </tr>\n",
       "</table>\n"
      ],
      "text/plain": [
       "PyObject MigradResult(fmin=FMin(fval=9.493387842144756e-06, edm=7.557948258070814e-06, tolerance=0.1, nfcn=43, ncalls=132, up=1.0, is_valid=True, has_valid_parameters=True, has_accurate_covar=True, has_posdef_covar=True, has_made_posdef_covar=False, hesse_failed=False, has_covariance=True, is_above_max_edm=False, has_reached_call_limit=False), params=[Param(number=0, name='x', value=-0.0019219642482053087, error=1.0, is_const=False, is_fixed=False, has_limits=False, has_lower_limit=False, has_upper_limit=False, lower_limit=None, upper_limit=None), Param(number=1, name='y', value=0.9999999999999999, error=0.9999999999999709, is_const=False, is_fixed=False, has_limits=False, has_lower_limit=False, has_upper_limit=False, lower_limit=None, upper_limit=None), Param(number=2, name='z', value=2.049073444072341, error=8.314383563105013, is_const=False, is_fixed=False, has_limits=False, has_lower_limit=False, has_upper_limit=False, lower_limit=None, upper_limit=None)])"
      ]
     },
     "execution_count": 10,
     "metadata": {},
     "output_type": "execute_result"
    }
   ],
   "source": [
    "# parameters are given individually\n",
    "migrad(m1)"
   ]
  },
  {
   "cell_type": "code",
   "execution_count": 7,
   "metadata": {
    "ExecuteTime": {
     "end_time": "2020-07-09T11:37:10.415000+08:00",
     "start_time": "2020-07-09T03:37:07.550Z"
    }
   },
   "outputs": [
    {
     "data": {
      "text/plain": [
       "102-element Array{Symbol,1}:\n",
       " :LEAST_SQUARES\n",
       " :LIKELIHOOD\n",
       " :__class__\n",
       " :__delattr__\n",
       " :__dir__\n",
       " :__doc__\n",
       " :__eq__\n",
       " :__format__\n",
       " :__ge__\n",
       " :__getattribute__\n",
       " :__gt__\n",
       " :__hash__\n",
       " :__init__\n",
       " ⋮\n",
       " :profile\n",
       " :set_errordef\n",
       " :set_print_level\n",
       " :set_strategy\n",
       " :set_up\n",
       " :strategy\n",
       " :throw_nan\n",
       " :tol\n",
       " :use_array_call\n",
       " :valid\n",
       " :values\n",
       " :var2pos"
      ]
     },
     "execution_count": 7,
     "metadata": {},
     "output_type": "execute_result"
    }
   ],
   "source": [
    "propertynames(m)"
   ]
  },
  {
   "cell_type": "code",
   "execution_count": 8,
   "metadata": {
    "ExecuteTime": {
     "end_time": "2020-07-09T11:37:23.301000+08:00",
     "start_time": "2020-07-09T03:37:21.957Z"
    }
   },
   "outputs": [
    {
     "name": "stdout",
     "output_type": "stream",
     "text": [
      "search: \u001b[0m\u001b[1mm\u001b[22m\u001b[0m\u001b[1mi\u001b[22m\u001b[0m\u001b[1mg\u001b[22m\u001b[0m\u001b[1mr\u001b[22m\u001b[0m\u001b[1ma\u001b[22m\u001b[0m\u001b[1md\u001b[22m\n",
      "\n"
     ]
    },
    {
     "data": {
      "text/plain": [
       "Minuit.migrad(self, unsigned int ncall=0, resume=True, int nsplit=1, precision=None)\n",
       "Run MIGRAD.\n",
       "\n",
       "        MIGRAD is a robust minimisation algorithm which earned its reputation\n",
       "        in 40+ years of almost exclusive usage in high-energy physics. How\n",
       "        MIGRAD works is described in the `MINUIT paper`_.\n",
       "\n",
       "        **Arguments:**\n",
       "\n",
       "            * **ncall**: integer (approximate) maximum number of call before\n",
       "              MIGRAD will stop trying. Default: 0 (indicates to use MIGRAD's\n",
       "              internal heuristic). Using nsplit > 1 requires ncall > 0.\n",
       "              Note: MIGRAD may slightly violate this limit,\n",
       "              because it checks the condition only after a full iteration of the\n",
       "              algorithm, which usually performs several function calls.\n",
       "\n",
       "            * **resume**: boolean indicating whether MIGRAD should resume from\n",
       "              the previous minimiser attempt(True) or should start from the\n",
       "              beginning(False). Default True.\n",
       "\n",
       "            * **nsplit**: split MIGRAD in to *split* runs. Max fcn call\n",
       "              for each run is ncall/nsplit. MIGRAD stops when it found the\n",
       "              function minimum to be valid or ncall is reached. This is useful\n",
       "              for getting progress. However, you need to make sure that\n",
       "              ncall/nsplit is large enough. Otherwise, MIGRAD will think\n",
       "              that the minimum is invalid due to exceeding max call\n",
       "              (ncall/nsplit). Default 1(no split).\n",
       "\n",
       "            * **precision**: override miniut own's internal precision.\n",
       "\n",
       "        **Return:**\n",
       "\n",
       "            :ref:`function-minimum-sruct`, list of :ref:`minuit-param-struct`\n",
       "        "
      ]
     },
     "execution_count": 8,
     "metadata": {},
     "output_type": "execute_result"
    }
   ],
   "source": [
    "# the doc strings are from `iminuit`\n",
    "?migrad"
   ]
  },
  {
   "cell_type": "markdown",
   "metadata": {},
   "source": [
    "## Example: Fit to the BES data of the π⁺π⁻ energy distribution of ψ'→J/ψπ⁺π⁻\n",
    "\n",
    "The data are taken from [BES Collaboration, Phys. Rev. D 62 (2000) 032002](https://inspirehep.net/literature/507637).\n",
    "\n",
    "Here we use a simple model, which is not meant to be the correct one, to fit to the data."
   ]
  },
  {
   "cell_type": "code",
   "execution_count": 11,
   "metadata": {
    "ExecuteTime": {
     "end_time": "2020-07-10T18:42:58.993000+08:00",
     "start_time": "2020-07-10T10:42:50.825Z"
    }
   },
   "outputs": [],
   "source": [
    "using CSV\n",
    "using DataFrames\n",
    "using Plots\n",
    "pyplot()\n",
    "default(framestyle = :box, minorticks = 4)\n",
    "using LaTeXStrings"
   ]
  },
  {
   "cell_type": "code",
   "execution_count": 12,
   "metadata": {
    "ExecuteTime": {
     "end_time": "2020-07-10T18:43:19.716000+08:00",
     "start_time": "2020-07-10T10:43:05.712Z"
    }
   },
   "outputs": [
    {
     "data": {
      "text/plain": [
       "Data([0.303, 0.309, 0.321, 0.327, 0.333, 0.339, 0.345, 0.351, 0.357, 0.363  …  0.531, 0.537, 0.543, 0.549, 0.555, 0.561, 0.567, 0.573, 0.579, 0.585], [8.522656, 44.87459, 29.63286, 58.13258, 28.2143, 129.0572, 181.7821, 199.5301, 269.4043, 186.1139  …  5217.45, 5867.647, 5717.979, 5527.38, 5548.063, 5386.82, 5425.564, 4744.075, 3899.626, 2725.864], [14.44523, 78.24785, 23.01279, 28.29703, 14.79316, 35.48893, 43.7948, 42.20547, 49.41916, 42.54225  …  164.0276, 174.4779, 169.0323, 165.0818, 164.632, 160.1847, 160.5301, 149.5817, 138.9569, 117.8775], 47)"
      ]
     },
     "execution_count": 12,
     "metadata": {},
     "output_type": "execute_result"
    }
   ],
   "source": [
    "data_df = DataFrame!(CSV.File(\"./testdata.csv\"))\n",
    "const data = Data(data_df)"
   ]
  },
  {
   "cell_type": "code",
   "execution_count": 14,
   "metadata": {
    "ExecuteTime": {
     "end_time": "2020-07-10T18:43:54.517000+08:00",
     "start_time": "2020-07-10T10:43:54.183Z"
    }
   },
   "outputs": [
    {
     "data": {
      "image/png": "[encoded data removed]"
     },
     "execution_count": 14,
     "metadata": {},
     "output_type": "execute_result"
    }
   ],
   "source": [
    "plt_data(data, xlab = L\"m_{\\pi\\pi}\" * \" [GeV]\", ylab = \"Events\")"
   ]
  },
  {
   "cell_type": "code",
   "execution_count": 24,
   "metadata": {
    "ExecuteTime": {
     "end_time": "2020-07-10T18:46:37.989000+08:00",
     "start_time": "2020-07-10T10:46:37.781Z"
    }
   },
   "outputs": [
    {
     "data": {
      "text/plain": [
       "dist (generic function with 2 methods)"
      ]
     },
     "execution_count": 24,
     "metadata": {},
     "output_type": "execute_result"
    }
   ],
   "source": [
    "const M = 3.686; const mπ = 0.14; const mJ = 3.097; \n",
    "\n",
    "λ(x, y, z) = x^2 + y^2 + z^2 - 2x*y - 2y*z - 2z*x\n",
    "\n",
    "# a simple function that will be used to fit the data: QCD multipole expansion model for ψ'→J/ψπ⁺π⁻\n",
    "# The important ππ FSI effect is not taken into account\n",
    "# bg is just for introducing a third parameter\n",
    "function dist(w, N, c, bg) \n",
    "    if (w ≤ 2mπ || w ≥ M-mJ)\n",
    "        res = 0.0\n",
    "    else\n",
    "        q1 = sqrt(λ(w^2, mπ^2, mπ^2))/(2w)\n",
    "        q2 = sqrt(λ(M^2, w^2, mJ^2))/(2M)\n",
    "        res = N * q1 * q2 * (w^2 - c*mπ^2)^2 + bg\n",
    "    end\n",
    "    return res * 1e6\n",
    "end;\n",
    "\n",
    "dist(x, p) = dist(x, p...)"
   ]
  },
  {
   "cell_type": "code",
   "execution_count": 25,
   "metadata": {
    "ExecuteTime": {
     "end_time": "2020-07-10T18:47:04.571000+08:00",
     "start_time": "2020-07-10T10:47:04.564Z"
    }
   },
   "outputs": [],
   "source": [
    "# parameters in an array/tuple\n",
    "# χsq(par) = chisq((x, p) -> dist(x, p...), data, par)\n",
    "χsq(par) = chisq(dist, data, par)\n",
    "\n",
    "# parameters given individually\n",
    "χsq1(N, c, bg) = chisq(dist, data, (N, c, bg));"
   ]
  },
  {
   "cell_type": "code",
   "execution_count": 17,
   "metadata": {
    "ExecuteTime": {
     "end_time": "2020-07-10T18:44:00.638000+08:00",
     "start_time": "2020-07-10T10:43:59.896Z"
    }
   },
   "outputs": [
    {
     "name": "stdout",
     "output_type": "stream",
     "text": [
      "  0.000002 seconds\n"
     ]
    },
    {
     "data": {
      "text/plain": [
       "1.8242263849114743e8"
      ]
     },
     "execution_count": 17,
     "metadata": {},
     "output_type": "execute_result"
    }
   ],
   "source": [
    "@time χsq((1, 2, 0.1))"
   ]
  },
  {
   "cell_type": "code",
   "execution_count": 18,
   "metadata": {
    "ExecuteTime": {
     "end_time": "2020-07-10T18:44:25.257000+08:00",
     "start_time": "2020-07-10T10:44:24.851Z"
    }
   },
   "outputs": [],
   "source": [
    "# parameters are collected into a tuple or an array, which is the only variable of χsq\n",
    "gradf(par) = gradient(χsq, par)\n",
    "fit = Minuit(χsq, [1, 2, 0], error = 0.1*ones(3), grad = gradf)\n",
    "fit.strategy = 1;"
   ]
  },
  {
   "cell_type": "code",
   "execution_count": 19,
   "metadata": {
    "ExecuteTime": {
     "end_time": "2020-07-10T18:44:27.058000+08:00",
     "start_time": "2020-07-10T10:44:26.734Z"
    }
   },
   "outputs": [],
   "source": [
    "# all parameters are vairables of χsq\n",
    "fit1 = Minuit(χsq1, N = 1, c = 2, bg = 0, error_N = 0.1, error_c = 0.1, error_bg = 0.1)\n",
    "fit1.strategy = 1;"
   ]
  },
  {
   "cell_type": "code",
   "execution_count": 20,
   "metadata": {
    "ExecuteTime": {
     "end_time": "2020-07-10T18:44:39.556000+08:00",
     "start_time": "2020-07-10T10:44:28.907Z"
    }
   },
   "outputs": [
    {
     "name": "stdout",
     "output_type": "stream",
     "text": [
      "  106.100 μs (1443 allocations: 36.52 KiB)\n"
     ]
    },
    {
     "data": {
      "text/html": [
       "<table>\n",
       "<tr> <td colspan=\"2\" style=\"text-align:center\" title=\"Minimum value of function\"> FCN = 64.68 </td> <td colspan=\"3\" title=\"No. of calls in last algorithm and total number of calls\"> Ncalls = 3 (117711 total) </td> </tr>\n",
       "<tr> <td colspan=\"2\" style=\"text-align:center\" title=\"Estimated distance to minimum and target threshold\"> EDM = 9.36e-15 (Goal: 0.0002) </td> <td colspan=\"3\" title=\"Increase in FCN which corresponds to 1 standard deviation\"> up = 1.0 </td> </tr>\n",
       "<tr> <td title=\"Validity of the migrad call\"> Valid Min. </td> <td title=\"Validity of parameters\"> Valid Param. </td> <td title=\"Is EDM above goal EDM?\"> Above EDM </td> <td colspan=\"2\" title=\"Did last migrad call reach max call limit?\"> Reached call limit </td> </tr>\n",
       "<tr> <td style=\"background-color:#92CCA6;\"> True </td> <td style=\"background-color:#92CCA6;\"> True </td> <td style=\"background-color:#92CCA6;\"> False </td> <td colspan=\"2\" style=\"background-color:#92CCA6;\"> False </td> </tr>\n",
       "<tr> <td title=\"Did Hesse fail?\"> Hesse failed </td> <td title=\"Has covariance matrix\"> Has cov. </td> <td title=\"Is covariance matrix accurate?\"> Accurate </td> <td title=\"Is covariance matrix positive definite?\"> Pos. def. </td> <td title=\"Was positive definiteness enforced by Minuit?\"> Forced </td> </tr>\n",
       "<tr> <td style=\"background-color:#92CCA6;\"> False </td> <td style=\"background-color:#92CCA6;\"> True </td> <td style=\"background-color:#92CCA6;\"> True </td> <td style=\"background-color:#92CCA6;\"> True </td> <td style=\"background-color:#92CCA6;\"> False </td> </tr>\n",
       "</table>\n",
       "<table>\n",
       "<tr style=\"background-color:#F4F4F4;\"> <td/> <th title=\"Variable name\"> Name </th> <th title=\"Value of parameter\"> Value </th> <th title=\"Hesse error\"> Hesse Error </th> <th title=\"Minos lower error\"> Minos Error- </th> <th title=\"Minos upper error\"> Minos Error+ </th> <th title=\"Lower limit of the parameter\"> Limit- </th> <th title=\"Upper limit of the parameter\"> Limit+ </th> <th title=\"Is the parameter fixed in the fit\"> Fixed </th> </tr>\n",
       "<tr style=\"background-color:#FFFFFF;\"> <th> 0 </th> <td> x0 </td> <td> 2.61 </td> <td> 0.05 </td> <td> -0.05 </td> <td> 0.05 </td> <td>  </td> <td>  </td> <td>  </td> </tr>\n",
       "<tr style=\"background-color:#F4F4F4;\"> <th> 1 </th> <td> x1 </td> <td> 4.20 </td> <td> 0.09 </td> <td> -0.09 </td> <td> 0.09 </td> <td>  </td> <td>  </td> <td>  </td> </tr>\n",
       "<tr style=\"background-color:#FFFFFF;\"> <th> 2 </th> <td> x2 </td> <td> -0.022e-3 </td> <td> 0.012e-3 </td> <td> -0.012e-3 </td> <td> 0.012e-3 </td> <td>  </td> <td>  </td> <td>  </td> </tr>\n",
       "</table>\n"
      ],
      "text/plain": [
       "PyObject MigradResult(fmin=FMin(fval=64.67993733507895, edm=9.357751294516442e-15, tolerance=0.1, nfcn=3, ncalls=117711, up=1.0, is_valid=True, has_valid_parameters=True, has_accurate_covar=True, has_posdef_covar=True, has_made_posdef_covar=False, hesse_failed=False, has_covariance=True, is_above_max_edm=False, has_reached_call_limit=False), params=[Param(number=0, name='x0', value=2.6114833151653025, error=0.05177673323060879, is_const=False, is_fixed=False, has_limits=False, has_lower_limit=False, has_upper_limit=False, lower_limit=None, upper_limit=None), Param(number=1, name='x1', value=4.201031332818215, error=0.09311776395965805, is_const=False, is_fixed=False, has_limits=False, has_lower_limit=False, has_upper_limit=False, lower_limit=None, upper_limit=None), Param(number=2, name='x2', value=-2.1921187450274414e-05, error=1.1895993246464892e-05, is_const=False, is_fixed=False, has_limits=False, has_lower_limit=False, has_upper_limit=False, lower_limit=None, upper_limit=None)])"
      ]
     },
     "execution_count": 20,
     "metadata": {},
     "output_type": "execute_result"
    }
   ],
   "source": [
    "@btime migrad(fit)\n",
    "minos(fit)\n",
    "migrad(fit)"
   ]
  },
  {
   "cell_type": "code",
   "execution_count": 21,
   "metadata": {
    "ExecuteTime": {
     "end_time": "2020-07-10T18:44:50.978000+08:00",
     "start_time": "2020-07-10T10:44:42.256Z"
    }
   },
   "outputs": [
    {
     "name": "stdout",
     "output_type": "stream",
     "text": [
      "  90.900 μs (565 allocations: 10.80 KiB)\n"
     ]
    },
    {
     "data": {
      "text/html": [
       "<table>\n",
       "<tr> <td colspan=\"2\" style=\"text-align:center\" title=\"Minimum value of function\"> FCN = 64.68 </td> <td colspan=\"3\" title=\"No. of calls in last algorithm and total number of calls\"> Ncalls = 14 (663932 total) </td> </tr>\n",
       "<tr> <td colspan=\"2\" style=\"text-align:center\" title=\"Estimated distance to minimum and target threshold\"> EDM = 1.52e-14 (Goal: 0.0002) </td> <td colspan=\"3\" title=\"Increase in FCN which corresponds to 1 standard deviation\"> up = 1.0 </td> </tr>\n",
       "<tr> <td title=\"Validity of the migrad call\"> Valid Min. </td> <td title=\"Validity of parameters\"> Valid Param. </td> <td title=\"Is EDM above goal EDM?\"> Above EDM </td> <td colspan=\"2\" title=\"Did last migrad call reach max call limit?\"> Reached call limit </td> </tr>\n",
       "<tr> <td style=\"background-color:#92CCA6;\"> True </td> <td style=\"background-color:#92CCA6;\"> True </td> <td style=\"background-color:#92CCA6;\"> False </td> <td colspan=\"2\" style=\"background-color:#92CCA6;\"> False </td> </tr>\n",
       "<tr> <td title=\"Did Hesse fail?\"> Hesse failed </td> <td title=\"Has covariance matrix\"> Has cov. </td> <td title=\"Is covariance matrix accurate?\"> Accurate </td> <td title=\"Is covariance matrix positive definite?\"> Pos. def. </td> <td title=\"Was positive definiteness enforced by Minuit?\"> Forced </td> </tr>\n",
       "<tr> <td style=\"background-color:#92CCA6;\"> False </td> <td style=\"background-color:#92CCA6;\"> True </td> <td style=\"background-color:#92CCA6;\"> True </td> <td style=\"background-color:#92CCA6;\"> True </td> <td style=\"background-color:#92CCA6;\"> False </td> </tr>\n",
       "</table>\n",
       "<table>\n",
       "<tr style=\"background-color:#F4F4F4;\"> <td/> <th title=\"Variable name\"> Name </th> <th title=\"Value of parameter\"> Value </th> <th title=\"Hesse error\"> Hesse Error </th> <th title=\"Minos lower error\"> Minos Error- </th> <th title=\"Minos upper error\"> Minos Error+ </th> <th title=\"Lower limit of the parameter\"> Limit- </th> <th title=\"Upper limit of the parameter\"> Limit+ </th> <th title=\"Is the parameter fixed in the fit\"> Fixed </th> </tr>\n",
       "<tr style=\"background-color:#FFFFFF;\"> <th> 0 </th> <td> N </td> <td> 2.61 </td> <td> 0.05 </td> <td> -0.05 </td> <td> 0.05 </td> <td>  </td> <td>  </td> <td>  </td> </tr>\n",
       "<tr style=\"background-color:#F4F4F4;\"> <th> 1 </th> <td> c </td> <td> 4.20 </td> <td> 0.09 </td> <td> -0.09 </td> <td> 0.09 </td> <td>  </td> <td>  </td> <td>  </td> </tr>\n",
       "<tr style=\"background-color:#FFFFFF;\"> <th> 2 </th> <td> bg </td> <td> -0.022e-3 </td> <td> 0.012e-3 </td> <td> -0.012e-3 </td> <td> 0.012e-3 </td> <td>  </td> <td>  </td> <td>  </td> </tr>\n",
       "</table>\n"
      ],
      "text/plain": [
       "PyObject MigradResult(fmin=FMin(fval=64.679937335079, edm=1.5156345070287753e-14, tolerance=0.1, nfcn=14, ncalls=663932, up=1.0, is_valid=True, has_valid_parameters=True, has_accurate_covar=True, has_posdef_covar=True, has_made_posdef_covar=False, hesse_failed=False, has_covariance=True, is_above_max_edm=False, has_reached_call_limit=False), params=[Param(number=0, name='N', value=2.6114833211935484, error=0.051776712195704004, is_const=False, is_fixed=False, has_limits=False, has_lower_limit=False, has_upper_limit=False, lower_limit=None, upper_limit=None), Param(number=1, name='c', value=4.201031344545451, error=0.09311685621270735, is_const=False, is_fixed=False, has_limits=False, has_lower_limit=False, has_upper_limit=False, lower_limit=None, upper_limit=None), Param(number=2, name='bg', value=-2.192118618207932e-05, error=1.1895620973146581e-05, is_const=False, is_fixed=False, has_limits=False, has_lower_limit=False, has_upper_limit=False, lower_limit=None, upper_limit=None)])"
      ]
     },
     "execution_count": 21,
     "metadata": {},
     "output_type": "execute_result"
    }
   ],
   "source": [
    "@btime migrad(fit1)\n",
    "minos(fit1)\n",
    "migrad(fit1)"
   ]
  },
  {
   "cell_type": "code",
   "execution_count": 22,
   "metadata": {
    "ExecuteTime": {
     "end_time": "2020-07-10T18:45:11.041000+08:00",
     "start_time": "2020-07-10T10:45:11.031Z"
    }
   },
   "outputs": [
    {
     "data": {
      "text/html": [
       "<table>\n",
       "<tr> <td/> <th colspan=\"2\" style=\"text-align:center\" title=\"Parameter name\"> N </th> <th colspan=\"2\" style=\"text-align:center\" title=\"Parameter name\"> c </th> <th colspan=\"2\" style=\"text-align:center\" title=\"Parameter name\"> bg </th> </tr>\n",
       "<tr> <th title=\"Lower and upper minos error of the parameter\"> Error </th> <td> -0.05 </td> <td> 0.05 </td> <td> -0.09 </td> <td> 0.09 </td> <td> -0.012e-3 </td> <td> 0.012e-3 </td> </tr>\n",
       "<tr> <th title=\"Validity of lower/upper minos error\"> Valid </th> <td style=\"background-color:#92CCA6;\"> True </td> <td style=\"background-color:#92CCA6;\"> True </td> <td style=\"background-color:#92CCA6;\"> True </td> <td style=\"background-color:#92CCA6;\"> True </td> <td style=\"background-color:#92CCA6;\"> True </td> <td style=\"background-color:#92CCA6;\"> True </td> </tr>\n",
       "<tr> <th title=\"Did scan hit limit of any parameter?\"> At Limit </th> <td style=\"background-color:#92CCA6;\"> False </td> <td style=\"background-color:#92CCA6;\"> False </td> <td style=\"background-color:#92CCA6;\"> False </td> <td style=\"background-color:#92CCA6;\"> False </td> <td style=\"background-color:#92CCA6;\"> False </td> <td style=\"background-color:#92CCA6;\"> False </td> </tr>\n",
       "<tr> <th title=\"Did scan hit function call limit?\"> Max FCN </th> <td style=\"background-color:#92CCA6;\"> False </td> <td style=\"background-color:#92CCA6;\"> False </td> <td style=\"background-color:#92CCA6;\"> False </td> <td style=\"background-color:#92CCA6;\"> False </td> <td style=\"background-color:#92CCA6;\"> False </td> <td style=\"background-color:#92CCA6;\"> False </td> </tr>\n",
       "<tr> <th title=\"New minimum found when doing scan?\"> New Min </th> <td style=\"background-color:#92CCA6;\"> False </td> <td style=\"background-color:#92CCA6;\"> False </td> <td style=\"background-color:#92CCA6;\"> False </td> <td style=\"background-color:#92CCA6;\"> False </td> <td style=\"background-color:#92CCA6;\"> False </td> <td style=\"background-color:#92CCA6;\"> False </td> </tr>\n",
       "</table>\n"
      ],
      "text/plain": [
       "PyObject MErrors([('N', MError(name='N', is_valid=True, lower=-0.05145257573454067, upper=0.05210385773044046, lower_valid=True, upper_valid=True, at_lower_limit=False, at_upper_limit=False, at_lower_max_fcn=False, at_upper_max_fcn=False, lower_new_min=False, upper_new_min=False, nfcn=56, min=2.6114833211935484)), ('c', MError(name='c', is_valid=True, lower=-0.09392066407552968, upper=0.09232893682255511, lower_valid=True, upper_valid=True, at_lower_limit=False, at_upper_limit=False, at_lower_max_fcn=False, at_upper_max_fcn=False, lower_new_min=False, upper_new_min=False, nfcn=56, min=4.201031344545451)), ('bg', MError(name='bg', is_valid=True, lower=-1.2031491205034717e-05, upper=1.1765608570813917e-05, lower_valid=True, upper_valid=True, at_lower_limit=False, at_upper_limit=False, at_lower_max_fcn=False, at_upper_max_fcn=False, lower_new_min=False, upper_new_min=False, nfcn=56, min=-2.192118618207932e-05))])"
      ]
     },
     "execution_count": 22,
     "metadata": {},
     "output_type": "execute_result"
    }
   ],
   "source": [
    "minos(fit1)"
   ]
  },
  {
   "cell_type": "code",
   "execution_count": 27,
   "metadata": {
    "ExecuteTime": {
     "end_time": "2020-07-10T18:48:29.793000+08:00",
     "start_time": "2020-07-10T10:48:29.395Z"
    }
   },
   "outputs": [
    {
     "data": {
      "image/png": "[encoded data removed]"
     },
     "execution_count": 27,
     "metadata": {},
     "output_type": "execute_result"
    }
   ],
   "source": [
    "plt_best(dist, fit, data, xrange = (2mπ, M-mJ))"
   ]
  },
  {
   "cell_type": "code",
   "execution_count": 29,
   "metadata": {
    "ExecuteTime": {
     "end_time": "2020-07-10T18:48:56.310000+08:00",
     "start_time": "2020-07-10T10:48:56.052Z"
    }
   },
   "outputs": [
    {
     "data": {
      "image/png": "[encoded data removed]",
      "text/plain": [
       "PyPlot.Figure(PyObject <Figure size 640x480 with 1 Axes>)"
      ]
     },
     "metadata": {},
     "output_type": "display_data"
    },
    {
     "data": {
      "text/plain": [
       "([2.4561531846064364, 2.4592911671637516, 2.4624291497210673, 2.4655671322783825, 2.4687051148356978, 2.4718430973930134, 2.4749810799503287, 2.4781190625076444, 2.4812570450649596, 2.484395027622275  …  2.738571614764822, 2.7417095973221373, 2.7448475798794525, 2.747985562436768, 2.7511235449940834, 2.7542615275513986, 2.7573995101087143, 2.7605374926660295, 2.7636754752233452, 2.7668134577806605], [3.9216807759073293, 3.9273242217384023, 3.932967667569476, 3.938611113400549, 3.944254559231622, 3.9498980050626953, 3.9555414508937683, 3.9611848967248418, 3.9668283425559148, 3.972471788386988  …  4.429590900703915, 4.435234346534989, 4.440877792366061, 4.446521238197135, 4.452164684028208, 4.457808129859281, 4.463451575690354, 4.469095021521428, 4.4747384673525, 4.480381913183574], [20.972585684547113 20.022934908552898 … 290.280110975979 296.3574252092246; 21.148382447267153 20.131613966475754 … 285.0424527312081 291.0755140159173; … ; 350.8725474805894 342.54598215294766 … 19.826339420220364 20.935927070797632; 357.49518711030873 349.085022026704 … 19.595624194661738 20.647949873483995])"
      ]
     },
     "execution_count": 29,
     "metadata": {},
     "output_type": "execute_result"
    }
   ],
   "source": [
    "# MIGRAD contour of two parameters with the other ones fixed\n",
    "# needs PyPlot or the pyplot backend of Plots\n",
    "fit1.draw_contour(:N, :c, bound=3, bins=100)"
   ]
  },
  {
   "cell_type": "code",
   "execution_count": 30,
   "metadata": {
    "ExecuteTime": {
     "end_time": "2020-07-10T18:48:58.710000+08:00",
     "start_time": "2020-07-10T10:48:58.392Z"
    }
   },
   "outputs": [
    {
     "data": {
      "image/png": "[encoded data removed]",
      "text/plain": [
       "PyPlot.Figure(PyObject <Figure size 640x480 with 1 Axes>)"
      ]
     },
     "metadata": {},
     "output_type": "display_data"
    },
    {
     "data": {
      "text/plain": [
       "PyObject <matplotlib.contour.ContourSet object at 0x7f755a2b6f90>"
      ]
     },
     "execution_count": 30,
     "metadata": {},
     "output_type": "execute_result"
    }
   ],
   "source": [
    "# contour of parameter space from MINOS\n",
    "fit1.draw_mncontour(:N, :c, nsigma=3, numpoints=100)"
   ]
  },
  {
   "cell_type": "code",
   "execution_count": 31,
   "metadata": {
    "ExecuteTime": {
     "end_time": "2020-07-10T18:49:05.575000+08:00",
     "start_time": "2020-07-10T10:49:05.445Z"
    }
   },
   "outputs": [
    {
     "data": {
      "text/html": [
       "<table>\n",
       "<tr> <td/> <th> N </th> <th> c </th> <th> bg </th> </tr>\n",
       "<tr> <th> N </th> <td> 1.00 </td> <td style=\"background-color:rgb(250,111,111)\">  0.93 </td> <td style=\"background-color:rgb(250,159,159)\">  0.61 </td> </tr>\n",
       "<tr> <th> c </th> <td style=\"background-color:rgb(250,111,111)\">  0.93 </td> <td> 1.00 </td> <td style=\"background-color:rgb(250,138,138)\">  0.75 </td> </tr>\n",
       "<tr> <th> bg </th> <td style=\"background-color:rgb(250,159,159)\">  0.61 </td> <td style=\"background-color:rgb(250,138,138)\">  0.75 </td> <td> 1.00 </td> </tr>\n",
       "</table>\n"
      ],
      "text/plain": [
       "PyObject ((1.0, 0.9252133738369328, 0.6055255848641659), (0.9252133738369328, 1.0, 0.7483973089680895), (0.6055255848641659, 0.7483973089680895, 1.0))"
      ]
     },
     "execution_count": 31,
     "metadata": {},
     "output_type": "execute_result"
    }
   ],
   "source": [
    "matrix(fit1, correlation = true)"
   ]
  },
  {
   "cell_type": "code",
   "execution_count": 32,
   "metadata": {
    "ExecuteTime": {
     "end_time": "2020-07-10T18:49:06.782000+08:00",
     "start_time": "2020-07-10T10:49:06.490Z"
    }
   },
   "outputs": [
    {
     "name": "stdout",
     "output_type": "stream",
     "text": [
      "fit1.matrix = ((0.0026808279257967637, 0.004460717050849894, 3.729529830296808e-7), (0.004460717050849894, 0.008670748910938015, 8.289868474538332e-7), (3.729529830296808e-7, 8.289868474538332e-7, 1.4150579833676482e-10))\n"
     ]
    },
    {
     "data": {
      "text/html": [
       "<table>\n",
       "<tr> <td/> <th> N </th> <th> c </th> <th> bg </th> </tr>\n",
       "<tr> <th> N </th> <td> 0.003 </td> <td style=\"background-color:rgb(250,111,111)\"> 0.004 </td> <td style=\"background-color:rgb(250,159,159)\"> 0.000 </td> </tr>\n",
       "<tr> <th> c </th> <td style=\"background-color:rgb(250,111,111)\"> 0.004 </td> <td> 0.009 </td> <td style=\"background-color:rgb(250,138,138)\"> 0.000 </td> </tr>\n",
       "<tr> <th> bg </th> <td style=\"background-color:rgb(250,159,159)\"> 0.000 </td> <td style=\"background-color:rgb(250,138,138)\"> 0.000 </td> <td> 0.000 </td> </tr>\n",
       "</table>\n"
      ],
      "text/plain": [
       "PyObject ((0.0026808279257967637, 0.004460717050849894, 3.729529830296808e-07), (0.004460717050849894, 0.008670748910938015, 8.289868474538332e-07), (3.729529830296808e-07, 8.289868474538332e-07, 1.4150579833676482e-10))"
      ]
     },
     "execution_count": 32,
     "metadata": {},
     "output_type": "execute_result"
    }
   ],
   "source": [
    "@show fit1.matrix\n",
    "matrix(fit1)"
   ]
  },
  {
   "cell_type": "code",
   "execution_count": 34,
   "metadata": {
    "ExecuteTime": {
     "end_time": "2020-07-10T18:49:18.235000+08:00",
     "start_time": "2020-07-10T10:49:18.168Z"
    }
   },
   "outputs": [
    {
     "name": "stdout",
     "output_type": "stream",
     "text": [
      "  0.030519 seconds (68.56 k allocations: 1.641 MiB)\n"
     ]
    },
    {
     "data": {
      "text/html": [
       "<table class=\"data-frame\"><thead><tr><th></th><th>χ²</th><th>N</th><th>c</th><th>bg</th></tr><tr><th></th><th>Float64</th><th>Float64</th><th>Float64</th><th>Float64</th></tr></thead><tbody><p>22 rows × 4 columns</p><tr><th>1</th><td>64.6799</td><td>2.61148</td><td>4.20103</td><td>-2.19212e-5</td></tr><tr><th>2</th><td>65.6799</td><td>2.56003</td><td>4.11414</td><td>-2.93031e-5</td></tr><tr><th>3</th><td>65.6799</td><td>2.66359</td><td>4.28643</td><td>-1.48855e-5</td></tr><tr><th>4</th><td>65.68</td><td>2.56385</td><td>4.10711</td><td>-3.10184e-5</td></tr><tr><th>5</th><td>65.6799</td><td>2.65961</td><td>4.29336</td><td>-1.32339e-5</td></tr><tr><th>6</th><td>65.68</td><td>2.5798</td><td>4.13027</td><td>-3.39527e-5</td></tr><tr><th>7</th><td>65.68</td><td>2.64221</td><td>4.2688</td><td>-1.01556e-5</td></tr><tr><th>8</th><td>65.68</td><td>2.56003</td><td>4.11439</td><td>-2.92436e-5</td></tr><tr><th>9</th><td>65.6799</td><td>2.5638</td><td>4.10711</td><td>-3.10202e-5</td></tr><tr><th>10</th><td>65.68</td><td>2.62543</td><td>4.19027</td><td>-2.56233e-5</td></tr><tr><th>11</th><td>65.6799</td><td>2.66359</td><td>4.28649</td><td>-1.48948e-5</td></tr><tr><th>12</th><td>65.6799</td><td>2.65962</td><td>4.29336</td><td>-1.32556e-5</td></tr><tr><th>13</th><td>65.68</td><td>2.56003</td><td>4.11426</td><td>-2.92484e-5</td></tr><tr><th>14</th><td>65.6801</td><td>2.57964</td><td>4.13014</td><td>-3.39527e-5</td></tr><tr><th>15</th><td>65.6799</td><td>2.62161</td><td>4.19628</td><td>-2.97972e-5</td></tr><tr><th>16</th><td>65.68</td><td>2.66359</td><td>4.28615</td><td>-1.48963e-5</td></tr><tr><th>17</th><td>65.68</td><td>2.64229</td><td>4.26894</td><td>-1.01556e-5</td></tr><tr><th>18</th><td>65.68</td><td>2.56393</td><td>4.10711</td><td>-3.10364e-5</td></tr><tr><th>19</th><td>65.68</td><td>2.5797</td><td>4.12981</td><td>-3.39527e-5</td></tr><tr><th>20</th><td>65.68</td><td>2.62357</td><td>4.21158</td><td>-2.87507e-5</td></tr><tr><th>21</th><td>65.68</td><td>2.65952</td><td>4.29336</td><td>-1.32348e-5</td></tr><tr><th>22</th><td>65.6799</td><td>2.64226</td><td>4.26916</td><td>-1.01556e-5</td></tr></tbody></table>"
      ],
      "text/latex": [
       "\\begin{tabular}{r|cccc}\n",
       "\t& χ² & N & c & bg\\\\\n",
       "\t\\hline\n",
       "\t& Float64 & Float64 & Float64 & Float64\\\\\n",
       "\t\\hline\n",
       "\t1 & 64.6799 & 2.61148 & 4.20103 & -2.19212e-5 \\\\\n",
       "\t2 & 65.6799 & 2.56003 & 4.11414 & -2.93031e-5 \\\\\n",
       "\t3 & 65.6799 & 2.66359 & 4.28643 & -1.48855e-5 \\\\\n",
       "\t4 & 65.68 & 2.56385 & 4.10711 & -3.10184e-5 \\\\\n",
       "\t5 & 65.6799 & 2.65961 & 4.29336 & -1.32339e-5 \\\\\n",
       "\t6 & 65.68 & 2.5798 & 4.13027 & -3.39527e-5 \\\\\n",
       "\t7 & 65.68 & 2.64221 & 4.2688 & -1.01556e-5 \\\\\n",
       "\t8 & 65.68 & 2.56003 & 4.11439 & -2.92436e-5 \\\\\n",
       "\t9 & 65.6799 & 2.5638 & 4.10711 & -3.10202e-5 \\\\\n",
       "\t10 & 65.68 & 2.62543 & 4.19027 & -2.56233e-5 \\\\\n",
       "\t11 & 65.6799 & 2.66359 & 4.28649 & -1.48948e-5 \\\\\n",
       "\t12 & 65.6799 & 2.65962 & 4.29336 & -1.32556e-5 \\\\\n",
       "\t13 & 65.68 & 2.56003 & 4.11426 & -2.92484e-5 \\\\\n",
       "\t14 & 65.6801 & 2.57964 & 4.13014 & -3.39527e-5 \\\\\n",
       "\t15 & 65.6799 & 2.62161 & 4.19628 & -2.97972e-5 \\\\\n",
       "\t16 & 65.68 & 2.66359 & 4.28615 & -1.48963e-5 \\\\\n",
       "\t17 & 65.68 & 2.64229 & 4.26894 & -1.01556e-5 \\\\\n",
       "\t18 & 65.68 & 2.56393 & 4.10711 & -3.10364e-5 \\\\\n",
       "\t19 & 65.68 & 2.5797 & 4.12981 & -3.39527e-5 \\\\\n",
       "\t20 & 65.68 & 2.62357 & 4.21158 & -2.87507e-5 \\\\\n",
       "\t21 & 65.68 & 2.65952 & 4.29336 & -1.32348e-5 \\\\\n",
       "\t22 & 65.6799 & 2.64226 & 4.26916 & -1.01556e-5 \\\\\n",
       "\\end{tabular}\n"
      ],
      "text/plain": [
       "22×4 DataFrame\n",
       "│ Row │ χ²      │ N       │ c       │ bg          │\n",
       "│     │ \u001b[90mFloat64\u001b[39m │ \u001b[90mFloat64\u001b[39m │ \u001b[90mFloat64\u001b[39m │ \u001b[90mFloat64\u001b[39m     │\n",
       "├─────┼─────────┼─────────┼─────────┼─────────────┤\n",
       "│ 1   │ 64.6799 │ 2.61148 │ 4.20103 │ -2.19212e-5 │\n",
       "│ 2   │ 65.6799 │ 2.56003 │ 4.11414 │ -2.93031e-5 │\n",
       "│ 3   │ 65.6799 │ 2.66359 │ 4.28643 │ -1.48855e-5 │\n",
       "│ 4   │ 65.68   │ 2.56385 │ 4.10711 │ -3.10184e-5 │\n",
       "│ 5   │ 65.6799 │ 2.65961 │ 4.29336 │ -1.32339e-5 │\n",
       "│ 6   │ 65.68   │ 2.5798  │ 4.13027 │ -3.39527e-5 │\n",
       "│ 7   │ 65.68   │ 2.64221 │ 4.2688  │ -1.01556e-5 │\n",
       "│ 8   │ 65.68   │ 2.56003 │ 4.11439 │ -2.92436e-5 │\n",
       "│ 9   │ 65.6799 │ 2.5638  │ 4.10711 │ -3.10202e-5 │\n",
       "│ 10  │ 65.68   │ 2.62543 │ 4.19027 │ -2.56233e-5 │\n",
       "│ 11  │ 65.6799 │ 2.66359 │ 4.28649 │ -1.48948e-5 │\n",
       "│ 12  │ 65.6799 │ 2.65962 │ 4.29336 │ -1.32556e-5 │\n",
       "│ 13  │ 65.68   │ 2.56003 │ 4.11426 │ -2.92484e-5 │\n",
       "│ 14  │ 65.6801 │ 2.57964 │ 4.13014 │ -3.39527e-5 │\n",
       "│ 15  │ 65.6799 │ 2.62161 │ 4.19628 │ -2.97972e-5 │\n",
       "│ 16  │ 65.68   │ 2.66359 │ 4.28615 │ -1.48963e-5 │\n",
       "│ 17  │ 65.68   │ 2.64229 │ 4.26894 │ -1.01556e-5 │\n",
       "│ 18  │ 65.68   │ 2.56393 │ 4.10711 │ -3.10364e-5 │\n",
       "│ 19  │ 65.68   │ 2.5797  │ 4.12981 │ -3.39527e-5 │\n",
       "│ 20  │ 65.68   │ 2.62357 │ 4.21158 │ -2.87507e-5 │\n",
       "│ 21  │ 65.68   │ 2.65952 │ 4.29336 │ -1.32348e-5 │\n",
       "│ 22  │ 65.6799 │ 2.64226 │ 4.26916 │ -1.01556e-5 │"
      ]
     },
     "execution_count": 34,
     "metadata": {},
     "output_type": "execute_result"
    }
   ],
   "source": [
    "# this gives parameter sets at the 1σ boundary\n",
    "@time contour_df(fit1, χsq1, npts = 5)"
   ]
  },
  {
   "cell_type": "code",
   "execution_count": 44,
   "metadata": {
    "ExecuteTime": {
     "end_time": "2020-07-10T18:53:36.160000+08:00",
     "start_time": "2020-07-10T10:53:34.325Z"
    }
   },
   "outputs": [
    {
     "name": "stdout",
     "output_type": "stream",
     "text": [
      "  1.783094 seconds (3.80 M allocations: 110.188 MiB, 4.15% gc time)\n"
     ]
    },
    {
     "data": {
      "text/html": [
       "<table class=\"data-frame\"><thead><tr><th></th><th>χ²</th><th>N</th><th>c</th><th>bg</th></tr><tr><th></th><th>Float64</th><th>Float64</th><th>Float64</th><th>Float64</th></tr></thead><tbody><p>164 rows × 4 columns</p><tr><th>1</th><td>64.6799</td><td>2.61148</td><td>4.20103</td><td>-2.19212e-5</td></tr><tr><th>2</th><td>65.2247</td><td>2.63625</td><td>4.22217</td><td>-2.18093e-5</td></tr><tr><th>3</th><td>65.0267</td><td>2.60043</td><td>4.16315</td><td>-2.67412e-5</td></tr><tr><th>4</th><td>65.0163</td><td>2.58483</td><td>4.14695</td><td>-2.72739e-5</td></tr><tr><th>5</th><td>64.786</td><td>2.60243</td><td>4.19567</td><td>-2.15604e-5</td></tr><tr><th>6</th><td>65.0851</td><td>2.62754</td><td>4.20807</td><td>-2.29681e-5</td></tr><tr><th>7</th><td>65.2116</td><td>2.62994</td><td>4.25398</td><td>-1.56921e-5</td></tr><tr><th>8</th><td>65.4255</td><td>2.59603</td><td>4.20397</td><td>-1.93223e-5</td></tr><tr><th>9</th><td>65.5859</td><td>2.56342</td><td>4.12654</td><td>-2.76742e-5</td></tr><tr><th>10</th><td>65.6014</td><td>2.58893</td><td>4.19366</td><td>-2.00281e-5</td></tr><tr><th>11</th><td>65.517</td><td>2.61674</td><td>4.24188</td><td>-1.58848e-5</td></tr><tr><th>12</th><td>64.8327</td><td>2.62974</td><td>4.22528</td><td>-2.04078e-5</td></tr><tr><th>13</th><td>65.0587</td><td>2.61904</td><td>4.23468</td><td>-1.73798e-5</td></tr><tr><th>14</th><td>64.8385</td><td>2.61094</td><td>4.18606</td><td>-2.43442e-5</td></tr><tr><th>15</th><td>64.7333</td><td>2.61854</td><td>4.20617</td><td>-2.20407e-5</td></tr><tr><th>16</th><td>65.0632</td><td>2.60053</td><td>4.16215</td><td>-2.69245e-5</td></tr><tr><th>17</th><td>64.7569</td><td>2.62074</td><td>4.22387</td><td>-1.94256e-5</td></tr><tr><th>18</th><td>65.5755</td><td>2.57853</td><td>4.17056</td><td>-2.24103e-5</td></tr><tr><th>19</th><td>64.7896</td><td>2.61464</td><td>4.21777</td><td>-1.9594e-5</td></tr><tr><th>20</th><td>65.3089</td><td>2.57192</td><td>4.14155</td><td>-2.63513e-5</td></tr><tr><th>21</th><td>65.2452</td><td>2.62954</td><td>4.25438</td><td>-1.55731e-5</td></tr><tr><th>22</th><td>65.4701</td><td>2.62984</td><td>4.20277</td><td>-2.41691e-5</td></tr><tr><th>23</th><td>65.6368</td><td>2.59613</td><td>4.20847</td><td>-1.86198e-5</td></tr><tr><th>24</th><td>65.0363</td><td>2.64055</td><td>4.24168</td><td>-1.91898e-5</td></tr><tr><th>25</th><td>65.1498</td><td>2.63184</td><td>4.25448</td><td>-1.58664e-5</td></tr><tr><th>26</th><td>65.323</td><td>2.61004</td><td>4.22698</td><td>-1.74179e-5</td></tr><tr><th>27</th><td>65.4805</td><td>2.65665</td><td>4.26759</td><td>-1.70565e-5</td></tr><tr><th>28</th><td>64.8411</td><td>2.59133</td><td>4.16395</td><td>-2.52917e-5</td></tr><tr><th>29</th><td>64.6817</td><td>2.61094</td><td>4.19867</td><td>-2.22405e-5</td></tr><tr><th>30</th><td>65.06</td><td>2.59093</td><td>4.18336</td><td>-2.20099e-5</td></tr><tr><th>&vellip;</th><td>&vellip;</td><td>&vellip;</td><td>&vellip;</td><td>&vellip;</td></tr></tbody></table>"
      ],
      "text/latex": [
       "\\begin{tabular}{r|cccc}\n",
       "\t& χ² & N & c & bg\\\\\n",
       "\t\\hline\n",
       "\t& Float64 & Float64 & Float64 & Float64\\\\\n",
       "\t\\hline\n",
       "\t1 & 64.6799 & 2.61148 & 4.20103 & -2.19212e-5 \\\\\n",
       "\t2 & 65.2247 & 2.63625 & 4.22217 & -2.18093e-5 \\\\\n",
       "\t3 & 65.0267 & 2.60043 & 4.16315 & -2.67412e-5 \\\\\n",
       "\t4 & 65.0163 & 2.58483 & 4.14695 & -2.72739e-5 \\\\\n",
       "\t5 & 64.786 & 2.60243 & 4.19567 & -2.15604e-5 \\\\\n",
       "\t6 & 65.0851 & 2.62754 & 4.20807 & -2.29681e-5 \\\\\n",
       "\t7 & 65.2116 & 2.62994 & 4.25398 & -1.56921e-5 \\\\\n",
       "\t8 & 65.4255 & 2.59603 & 4.20397 & -1.93223e-5 \\\\\n",
       "\t9 & 65.5859 & 2.56342 & 4.12654 & -2.76742e-5 \\\\\n",
       "\t10 & 65.6014 & 2.58893 & 4.19366 & -2.00281e-5 \\\\\n",
       "\t11 & 65.517 & 2.61674 & 4.24188 & -1.58848e-5 \\\\\n",
       "\t12 & 64.8327 & 2.62974 & 4.22528 & -2.04078e-5 \\\\\n",
       "\t13 & 65.0587 & 2.61904 & 4.23468 & -1.73798e-5 \\\\\n",
       "\t14 & 64.8385 & 2.61094 & 4.18606 & -2.43442e-5 \\\\\n",
       "\t15 & 64.7333 & 2.61854 & 4.20617 & -2.20407e-5 \\\\\n",
       "\t16 & 65.0632 & 2.60053 & 4.16215 & -2.69245e-5 \\\\\n",
       "\t17 & 64.7569 & 2.62074 & 4.22387 & -1.94256e-5 \\\\\n",
       "\t18 & 65.5755 & 2.57853 & 4.17056 & -2.24103e-5 \\\\\n",
       "\t19 & 64.7896 & 2.61464 & 4.21777 & -1.9594e-5 \\\\\n",
       "\t20 & 65.3089 & 2.57192 & 4.14155 & -2.63513e-5 \\\\\n",
       "\t21 & 65.2452 & 2.62954 & 4.25438 & -1.55731e-5 \\\\\n",
       "\t22 & 65.4701 & 2.62984 & 4.20277 & -2.41691e-5 \\\\\n",
       "\t23 & 65.6368 & 2.59613 & 4.20847 & -1.86198e-5 \\\\\n",
       "\t24 & 65.0363 & 2.64055 & 4.24168 & -1.91898e-5 \\\\\n",
       "\t25 & 65.1498 & 2.63184 & 4.25448 & -1.58664e-5 \\\\\n",
       "\t26 & 65.323 & 2.61004 & 4.22698 & -1.74179e-5 \\\\\n",
       "\t27 & 65.4805 & 2.65665 & 4.26759 & -1.70565e-5 \\\\\n",
       "\t28 & 64.8411 & 2.59133 & 4.16395 & -2.52917e-5 \\\\\n",
       "\t29 & 64.6817 & 2.61094 & 4.19867 & -2.22405e-5 \\\\\n",
       "\t30 & 65.06 & 2.59093 & 4.18336 & -2.20099e-5 \\\\\n",
       "\t$\\dots$ & $\\dots$ & $\\dots$ & $\\dots$ & $\\dots$ \\\\\n",
       "\\end{tabular}\n"
      ],
      "text/plain": [
       "164×4 DataFrame\n",
       "│ Row │ χ²      │ N       │ c       │ bg          │\n",
       "│     │ \u001b[90mFloat64\u001b[39m │ \u001b[90mFloat64\u001b[39m │ \u001b[90mFloat64\u001b[39m │ \u001b[90mFloat64\u001b[39m     │\n",
       "├─────┼─────────┼─────────┼─────────┼─────────────┤\n",
       "│ 1   │ 64.6799 │ 2.61148 │ 4.20103 │ -2.19212e-5 │\n",
       "│ 2   │ 65.2247 │ 2.63625 │ 4.22217 │ -2.18093e-5 │\n",
       "│ 3   │ 65.0267 │ 2.60043 │ 4.16315 │ -2.67412e-5 │\n",
       "│ 4   │ 65.0163 │ 2.58483 │ 4.14695 │ -2.72739e-5 │\n",
       "│ 5   │ 64.786  │ 2.60243 │ 4.19567 │ -2.15604e-5 │\n",
       "│ 6   │ 65.0851 │ 2.62754 │ 4.20807 │ -2.29681e-5 │\n",
       "│ 7   │ 65.2116 │ 2.62994 │ 4.25398 │ -1.56921e-5 │\n",
       "│ 8   │ 65.4255 │ 2.59603 │ 4.20397 │ -1.93223e-5 │\n",
       "│ 9   │ 65.5859 │ 2.56342 │ 4.12654 │ -2.76742e-5 │\n",
       "│ 10  │ 65.6014 │ 2.58893 │ 4.19366 │ -2.00281e-5 │\n",
       "⋮\n",
       "│ 154 │ 65.2751 │ 2.64835 │ 4.27239 │ -1.51609e-5 │\n",
       "│ 155 │ 64.9443 │ 2.59463 │ 4.15875 │ -2.66661e-5 │\n",
       "│ 156 │ 65.4169 │ 2.61874 │ 4.24298 │ -1.5976e-5  │\n",
       "│ 157 │ 64.8853 │ 2.60914 │ 4.21307 │ -1.96154e-5 │\n",
       "│ 158 │ 65.1524 │ 2.62644 │ 4.20387 │ -2.35184e-5 │\n",
       "│ 159 │ 65.2517 │ 2.58313 │ 4.17196 │ -2.28231e-5 │\n",
       "│ 160 │ 65.2445 │ 2.57282 │ 4.13444 │ -2.76812e-5 │\n",
       "│ 161 │ 65.366  │ 2.56882 │ 4.12884 │ -2.80579e-5 │\n",
       "│ 162 │ 64.7359 │ 2.60473 │ 4.19677 │ -2.16965e-5 │\n",
       "│ 163 │ 64.7035 │ 2.61394 │ 4.21027 │ -2.0725e-5  │\n",
       "│ 164 │ 64.7839 │ 2.62744 │ 4.22407 │ -2.02933e-5 │"
      ]
     },
     "execution_count": 44,
     "metadata": {},
     "output_type": "execute_result"
    }
   ],
   "source": [
    "# random sampling of parameters in given ranges, keeping those within 1σ\n",
    "@time parsam_df = contour_df_samples(fit1, χsq1, (:N, :c), ([2.5,2.8], [4.0,4.3]), nsamples = 3000)"
   ]
  },
  {
   "cell_type": "code",
   "execution_count": 45,
   "metadata": {
    "ExecuteTime": {
     "end_time": "2020-07-10T18:53:40.329000+08:00",
     "start_time": "2020-07-10T10:53:40.324Z"
    }
   },
   "outputs": [
    {
     "data": {
      "text/plain": [
       "((2.561320440146716, 2.6624541513837947), (4.111837279093031, 4.288096032010671))"
      ]
     },
     "execution_count": 45,
     "metadata": {},
     "output_type": "execute_result"
    }
   ],
   "source": [
    "# get parameter ranges\n",
    "extrema(parsam_df.:N), extrema(parsam_df.:c)"
   ]
  },
  {
   "cell_type": "code",
   "execution_count": 51,
   "metadata": {
    "ExecuteTime": {
     "end_time": "2020-07-10T18:55:15.457000+08:00",
     "start_time": "2020-07-10T10:55:15.162Z"
    }
   },
   "outputs": [
    {
     "data": {
      "image/png": "[encoded data removed]"
     },
     "execution_count": 51,
     "metadata": {},
     "output_type": "execute_result"
    }
   ],
   "source": [
    "scatter(parsam_df.:N, parsam_df.:c, xlab = \"N\", ylab = \"c\")"
   ]
  },
  {
   "cell_type": "code",
   "execution_count": 38,
   "metadata": {
    "ExecuteTime": {
     "end_time": "2020-07-10T18:51:13.969000+08:00",
     "start_time": "2020-07-10T10:51:13.467Z"
    }
   },
   "outputs": [
    {
     "name": "stdout",
     "output_type": "stream",
     "text": [
      "  0.446644 seconds (848.99 k allocations: 28.235 MiB, 5.62% gc time)\n"
     ]
    },
    {
     "data": {
      "text/html": [
       "<table class=\"data-frame\"><thead><tr><th></th><th>χ²</th><th>x0</th><th>x1</th><th>x2</th></tr><tr><th></th><th>Float64</th><th>Float64</th><th>Float64</th><th>Float64</th></tr></thead><tbody><p>9 rows × 4 columns</p><tr><th>1</th><td>64.6799</td><td>2.61148</td><td>4.20103</td><td>-2.19212e-5</td></tr><tr><th>2</th><td>65.5178</td><td>2.61081</td><td>4.2048</td><td>-2.78979e-5</td></tr><tr><th>3</th><td>65.3242</td><td>2.65165</td><td>4.26066</td><td>-1.84084e-5</td></tr><tr><th>4</th><td>64.9696</td><td>2.63904</td><td>4.24955</td><td>-1.78679e-5</td></tr><tr><th>5</th><td>65.6072</td><td>2.61862</td><td>4.23544</td><td>-2.24324e-5</td></tr><tr><th>6</th><td>65.0331</td><td>2.58318</td><td>4.14745</td><td>-2.80781e-5</td></tr><tr><th>7</th><td>65.1127</td><td>2.64084</td><td>4.25646</td><td>-1.87688e-5</td></tr><tr><th>8</th><td>65.0023</td><td>2.62523</td><td>4.21411</td><td>-1.85285e-5</td></tr><tr><th>9</th><td>65.4548</td><td>2.5988</td><td>4.2015</td><td>-2.44144e-5</td></tr></tbody></table>"
      ],
      "text/latex": [
       "\\begin{tabular}{r|cccc}\n",
       "\t& χ² & x0 & x1 & x2\\\\\n",
       "\t\\hline\n",
       "\t& Float64 & Float64 & Float64 & Float64\\\\\n",
       "\t\\hline\n",
       "\t1 & 64.6799 & 2.61148 & 4.20103 & -2.19212e-5 \\\\\n",
       "\t2 & 65.5178 & 2.61081 & 4.2048 & -2.78979e-5 \\\\\n",
       "\t3 & 65.3242 & 2.65165 & 4.26066 & -1.84084e-5 \\\\\n",
       "\t4 & 64.9696 & 2.63904 & 4.24955 & -1.78679e-5 \\\\\n",
       "\t5 & 65.6072 & 2.61862 & 4.23544 & -2.24324e-5 \\\\\n",
       "\t6 & 65.0331 & 2.58318 & 4.14745 & -2.80781e-5 \\\\\n",
       "\t7 & 65.1127 & 2.64084 & 4.25646 & -1.87688e-5 \\\\\n",
       "\t8 & 65.0023 & 2.62523 & 4.21411 & -1.85285e-5 \\\\\n",
       "\t9 & 65.4548 & 2.5988 & 4.2015 & -2.44144e-5 \\\\\n",
       "\\end{tabular}\n"
      ],
      "text/plain": [
       "9×4 DataFrame\n",
       "│ Row │ χ²      │ x0      │ x1      │ x2          │\n",
       "│     │ \u001b[90mFloat64\u001b[39m │ \u001b[90mFloat64\u001b[39m │ \u001b[90mFloat64\u001b[39m │ \u001b[90mFloat64\u001b[39m     │\n",
       "├─────┼─────────┼─────────┼─────────┼─────────────┤\n",
       "│ 1   │ 64.6799 │ 2.61148 │ 4.20103 │ -2.19212e-5 │\n",
       "│ 2   │ 65.5178 │ 2.61081 │ 4.2048  │ -2.78979e-5 │\n",
       "│ 3   │ 65.3242 │ 2.65165 │ 4.26066 │ -1.84084e-5 │\n",
       "│ 4   │ 64.9696 │ 2.63904 │ 4.24955 │ -1.78679e-5 │\n",
       "│ 5   │ 65.6072 │ 2.61862 │ 4.23544 │ -2.24324e-5 │\n",
       "│ 6   │ 65.0331 │ 2.58318 │ 4.14745 │ -2.80781e-5 │\n",
       "│ 7   │ 65.1127 │ 2.64084 │ 4.25646 │ -1.87688e-5 │\n",
       "│ 8   │ 65.0023 │ 2.62523 │ 4.21411 │ -1.85285e-5 │\n",
       "│ 9   │ 65.4548 │ 2.5988  │ 4.2015  │ -2.44144e-5 │"
      ]
     },
     "execution_count": 38,
     "metadata": {},
     "output_type": "execute_result"
    }
   ],
   "source": [
    "@time contour_df_samples(fit, χsq, (:x0, :x1, :x2), ([2.5,2.8],  [4.0,4.3], (-3e-5,3e-5)), nsamples = 1000)"
   ]
  },
  {
   "cell_type": "code",
   "execution_count": 57,
   "metadata": {
    "ExecuteTime": {
     "end_time": "2020-07-10T18:56:50.159000+08:00",
     "start_time": "2020-07-10T10:56:50.104Z"
    }
   },
   "outputs": [
    {
     "name": "stdout",
     "output_type": "stream",
     "text": [
      "  0.033775 seconds (335.09 k allocations: 6.470 MiB)\n"
     ]
    },
    {
     "data": {
      "text/html": [
       "<table class=\"data-frame\"><thead><tr><th></th><th>χ²</th><th>x0</th><th>x1</th><th>x2</th></tr><tr><th></th><th>Float64</th><th>Float64</th><th>Float64</th><th>Float64</th></tr></thead><tbody><p>8 rows × 4 columns</p><tr><th>1</th><td>64.6799</td><td>2.61148</td><td>4.20103</td><td>-2.19212e-5</td></tr><tr><th>2</th><td>65.5614</td><td>2.56316</td><td>4.11968</td><td>-2.88302e-5</td></tr><tr><th>3</th><td>65.0779</td><td>2.57895</td><td>4.14646</td><td>-2.65198e-5</td></tr><tr><th>4</th><td>64.785</td><td>2.59474</td><td>4.17304</td><td>-2.42721e-5</td></tr><tr><th>5</th><td>64.6803</td><td>2.61053</td><td>4.19944</td><td>-2.20544e-5</td></tr><tr><th>6</th><td>64.7617</td><td>2.62632</td><td>4.2256</td><td>-1.98768e-5</td></tr><tr><th>7</th><td>65.0271</td><td>2.64211</td><td>4.2515</td><td>-1.77407e-5</td></tr><tr><th>8</th><td>65.4744</td><td>2.65789</td><td>4.27721</td><td>-1.56345e-5</td></tr></tbody></table>"
      ],
      "text/latex": [
       "\\begin{tabular}{r|cccc}\n",
       "\t& χ² & x0 & x1 & x2\\\\\n",
       "\t\\hline\n",
       "\t& Float64 & Float64 & Float64 & Float64\\\\\n",
       "\t\\hline\n",
       "\t1 & 64.6799 & 2.61148 & 4.20103 & -2.19212e-5 \\\\\n",
       "\t2 & 65.5614 & 2.56316 & 4.11968 & -2.88302e-5 \\\\\n",
       "\t3 & 65.0779 & 2.57895 & 4.14646 & -2.65198e-5 \\\\\n",
       "\t4 & 64.785 & 2.59474 & 4.17304 & -2.42721e-5 \\\\\n",
       "\t5 & 64.6803 & 2.61053 & 4.19944 & -2.20544e-5 \\\\\n",
       "\t6 & 64.7617 & 2.62632 & 4.2256 & -1.98768e-5 \\\\\n",
       "\t7 & 65.0271 & 2.64211 & 4.2515 & -1.77407e-5 \\\\\n",
       "\t8 & 65.4744 & 2.65789 & 4.27721 & -1.56345e-5 \\\\\n",
       "\\end{tabular}\n"
      ],
      "text/plain": [
       "8×4 DataFrame\n",
       "│ Row │ χ²      │ x0      │ x1      │ x2          │\n",
       "│     │ \u001b[90mFloat64\u001b[39m │ \u001b[90mFloat64\u001b[39m │ \u001b[90mFloat64\u001b[39m │ \u001b[90mFloat64\u001b[39m     │\n",
       "├─────┼─────────┼─────────┼─────────┼─────────────┤\n",
       "│ 1   │ 64.6799 │ 2.61148 │ 4.20103 │ -2.19212e-5 │\n",
       "│ 2   │ 65.5614 │ 2.56316 │ 4.11968 │ -2.88302e-5 │\n",
       "│ 3   │ 65.0779 │ 2.57895 │ 4.14646 │ -2.65198e-5 │\n",
       "│ 4   │ 64.785  │ 2.59474 │ 4.17304 │ -2.42721e-5 │\n",
       "│ 5   │ 64.6803 │ 2.61053 │ 4.19944 │ -2.20544e-5 │\n",
       "│ 6   │ 64.7617 │ 2.62632 │ 4.2256  │ -1.98768e-5 │\n",
       "│ 7   │ 65.0271 │ 2.64211 │ 4.2515  │ -1.77407e-5 │\n",
       "│ 8   │ 65.4744 │ 2.65789 │ 4.27721 │ -1.56345e-5 │"
      ]
     },
     "execution_count": 57,
     "metadata": {},
     "output_type": "execute_result"
    }
   ],
   "source": [
    "@time contour_df_samples(fit, χsq, :x0, (2.5,2.8), nsamples = 20)"
   ]
  },
  {
   "cell_type": "markdown",
   "metadata": {},
   "source": [
    "## Example A in the iminuit tutorial\n",
    "\n",
    "The example is [Example A: Fit of a gaussian model to a histogram](https://nbviewer.jupyter.org/github/scikit-hep/iminuit/blob/master/tutorial/automatic_differentiation.ipynb)"
   ]
  },
  {
   "cell_type": "code",
   "execution_count": 58,
   "metadata": {
    "ExecuteTime": {
     "end_time": "2020-07-10T18:57:19.573000+08:00",
     "start_time": "2020-07-10T10:57:19.555Z"
    }
   },
   "outputs": [],
   "source": [
    "using PyCall"
   ]
  },
  {
   "cell_type": "code",
   "execution_count": 59,
   "metadata": {
    "ExecuteTime": {
     "end_time": "2020-07-10T18:57:30.061000+08:00",
     "start_time": "2020-07-10T10:57:29.081Z"
    }
   },
   "outputs": [
    {
     "data": {
      "text/plain": [
       "([1, 0, 0, 0, 0, 0, 0, 0, 0, 0  …  0, 0, 0, 0, 0, 0, 0, 0, 0, 1], [-3.8378621427178974, -3.830092502694802, -3.8223228626717063, -3.8145532226486107, -3.806783582625515, -3.7990139426024196, -3.791244302579324, -3.7834746625562286, -3.775705022533133, -3.7679353825100375  …  3.8618511201697956, 3.869620760192891, 3.8773904002159867, 3.8851600402390822, 3.892929680262178, 3.9006993202852733, 3.908468960308369, 3.9162386003314644, 3.92400824035456, 3.931777880377655])"
      ]
     },
     "execution_count": 59,
     "metadata": {},
     "output_type": "execute_result"
    }
   ],
   "source": [
    "# import numpy from Python to generate the same data as in the example\n",
    "np = pyimport(:numpy)\n",
    "default_rng = pyimport(\"numpy.random\").default_rng\n",
    "rng = default_rng(seed=1)\n",
    "const w, xe = np.histogram(rng.normal(0, 1, 10000), bins=1000)"
   ]
  },
  {
   "cell_type": "code",
   "execution_count": 60,
   "metadata": {
    "ExecuteTime": {
     "end_time": "2020-07-10T18:57:31.301000+08:00",
     "start_time": "2020-07-10T10:57:30.918Z"
    }
   },
   "outputs": [
    {
     "data": {
      "text/plain": [
       "score (generic function with 1 method)"
      ]
     },
     "execution_count": 60,
     "metadata": {},
     "output_type": "execute_result"
    }
   ],
   "source": [
    "# define the model and the score function to minimize\n",
    "using SpecialFunctions\n",
    "\n",
    "function cdf(x, par)\n",
    "    mu, sigma = par\n",
    "    z = (x - mu) / sigma\n",
    "    return 0.5 * (1 + erf(z / sqrt(2))) \n",
    "end\n",
    "\n",
    "function score(par)\n",
    "    amp = par[1]\n",
    "    rest = par[2:end]\n",
    "    mu = amp * (cdf.(xe[2:end], Ref(rest)) - cdf.(xe[1:end-1], Ref(rest)) )\n",
    "    return 2 * sum(@. mu - w * log(mu + 1e-100))\n",
    "end"
   ]
  },
  {
   "cell_type": "code",
   "execution_count": 61,
   "metadata": {
    "ExecuteTime": {
     "end_time": "2020-07-10T18:57:32.110000+08:00",
     "start_time": "2020-07-10T10:57:31.974Z"
    }
   },
   "outputs": [],
   "source": [
    "const start_values = [1.5 * sum(w), 1.0, 2.0]\n",
    "const limits = [(0, nothing), nothing, (0, nothing)];"
   ]
  },
  {
   "cell_type": "code",
   "execution_count": 62,
   "metadata": {
    "ExecuteTime": {
     "end_time": "2020-07-10T18:57:33.509000+08:00",
     "start_time": "2020-07-10T10:57:32.950Z"
    }
   },
   "outputs": [],
   "source": [
    "# w/o grad\n",
    "m = Minuit(score, start_values, limit=limits)\n",
    "m.strategy = 0\n",
    "\n",
    "# using grad\n",
    "grad_fd(pars) =  gradient(score, pars)\n",
    "m_fd = Minuit(score, start_values, limit=limits, grad = grad_fd)\n",
    "m_fd.strategy = 0;"
   ]
  },
  {
   "cell_type": "code",
   "execution_count": 63,
   "metadata": {
    "ExecuteTime": {
     "end_time": "2020-07-10T18:57:46.990000+08:00",
     "start_time": "2020-07-10T10:57:34.329Z"
    }
   },
   "outputs": [
    {
     "name": "stdout",
     "output_type": "stream",
     "text": [
      "  627.100 μs (475 allocations: 460.64 KiB)\n"
     ]
    },
    {
     "data": {
      "text/html": [
       "<table>\n",
       "<tr> <td colspan=\"2\" style=\"text-align:center\" title=\"Minimum value of function\"> FCN = -3.871e+04 </td> <td colspan=\"3\" title=\"No. of calls in last algorithm and total number of calls\"> Ncalls = 8 (39692 total) </td> </tr>\n",
       "<tr> <td colspan=\"2\" style=\"text-align:center\" title=\"Estimated distance to minimum and target threshold\"> EDM = 2.01e-12 (Goal: 0.0002) </td> <td colspan=\"3\" title=\"Increase in FCN which corresponds to 1 standard deviation\"> up = 1.0 </td> </tr>\n",
       "<tr> <td title=\"Validity of the migrad call\"> Valid Min. </td> <td title=\"Validity of parameters\"> Valid Param. </td> <td title=\"Is EDM above goal EDM?\"> Above EDM </td> <td colspan=\"2\" title=\"Did last migrad call reach max call limit?\"> Reached call limit </td> </tr>\n",
       "<tr> <td style=\"background-color:#92CCA6;\"> True </td> <td style=\"background-color:#92CCA6;\"> True </td> <td style=\"background-color:#92CCA6;\"> False </td> <td colspan=\"2\" style=\"background-color:#92CCA6;\"> False </td> </tr>\n",
       "<tr> <td title=\"Did Hesse fail?\"> Hesse failed </td> <td title=\"Has covariance matrix\"> Has cov. </td> <td title=\"Is covariance matrix accurate?\"> Accurate </td> <td title=\"Is covariance matrix positive definite?\"> Pos. def. </td> <td title=\"Was positive definiteness enforced by Minuit?\"> Forced </td> </tr>\n",
       "<tr> <td style=\"background-color:#92CCA6;\"> False </td> <td style=\"background-color:#92CCA6;\"> True </td> <td style=\"background-color:#92CCA6;\"> True </td> <td style=\"background-color:#92CCA6;\"> True </td> <td style=\"background-color:#92CCA6;\"> False </td> </tr>\n",
       "</table>\n",
       "<table>\n",
       "<tr style=\"background-color:#F4F4F4;\"> <td/> <th title=\"Variable name\"> Name </th> <th title=\"Value of parameter\"> Value </th> <th title=\"Hesse error\"> Hesse Error </th> <th title=\"Minos lower error\"> Minos Error- </th> <th title=\"Minos upper error\"> Minos Error+ </th> <th title=\"Lower limit of the parameter\"> Limit- </th> <th title=\"Upper limit of the parameter\"> Limit+ </th> <th title=\"Is the parameter fixed in the fit\"> Fixed </th> </tr>\n",
       "<tr style=\"background-color:#FFFFFF;\"> <th> 0 </th> <td> x0 </td> <td> 10.0e3 </td> <td> 0.1e3 </td> <td>  </td> <td>  </td> <td> 0 </td> <td>  </td> <td>  </td> </tr>\n",
       "<tr style=\"background-color:#F4F4F4;\"> <th> 1 </th> <td> x1 </td> <td> -0.011 </td> <td> 0.010 </td> <td>  </td> <td>  </td> <td>  </td> <td>  </td> <td>  </td> </tr>\n",
       "<tr style=\"background-color:#FFFFFF;\"> <th> 2 </th> <td> x2 </td> <td> 0.999 </td> <td> 0.007 </td> <td>  </td> <td>  </td> <td> 0 </td> <td>  </td> <td>  </td> </tr>\n",
       "</table>\n"
      ],
      "text/plain": [
       "PyObject MigradResult(fmin=FMin(fval=-38710.19985212475, edm=2.0142820069460498e-12, tolerance=0.1, nfcn=8, ncalls=39692, up=1.0, is_valid=True, has_valid_parameters=True, has_accurate_covar=True, has_posdef_covar=True, has_made_posdef_covar=False, hesse_failed=False, has_covariance=True, is_above_max_edm=False, has_reached_call_limit=False), params=[Param(number=0, name='x0', value=10001.040137685515, error=99.56265139939478, is_const=False, is_fixed=False, has_limits=True, has_lower_limit=True, has_upper_limit=False, lower_limit=0.0, upper_limit=None), Param(number=1, name='x1', value=-0.01105171350465089, error=0.010013546547205668, is_const=False, is_fixed=False, has_limits=False, has_lower_limit=False, has_upper_limit=False, lower_limit=None, upper_limit=None), Param(number=2, name='x2', value=0.9992897105689829, error=0.007141203766656945, is_const=False, is_fixed=False, has_limits=True, has_lower_limit=True, has_upper_limit=False, lower_limit=0.0, upper_limit=None)])"
      ]
     },
     "execution_count": 63,
     "metadata": {},
     "output_type": "execute_result"
    }
   ],
   "source": [
    "@btime migrad(m)"
   ]
  },
  {
   "cell_type": "code",
   "execution_count": 64,
   "metadata": {
    "ExecuteTime": {
     "end_time": "2020-07-10T18:58:02.095000+08:00",
     "start_time": "2020-07-10T10:57:48.944Z"
    }
   },
   "outputs": [
    {
     "name": "stdout",
     "output_type": "stream",
     "text": [
      "  380.300 μs (257 allocations: 348.22 KiB)\n"
     ]
    },
    {
     "data": {
      "text/html": [
       "<table>\n",
       "<tr> <td colspan=\"2\" style=\"text-align:center\" title=\"Minimum value of function\"> FCN = -3.871e+04 </td> <td colspan=\"3\" title=\"No. of calls in last algorithm and total number of calls\"> Ncalls = 3 (27164 total) </td> </tr>\n",
       "<tr> <td colspan=\"2\" style=\"text-align:center\" title=\"Estimated distance to minimum and target threshold\"> EDM = 9.41e-12 (Goal: 0.0002) </td> <td colspan=\"3\" title=\"Increase in FCN which corresponds to 1 standard deviation\"> up = 1.0 </td> </tr>\n",
       "<tr> <td title=\"Validity of the migrad call\"> Valid Min. </td> <td title=\"Validity of parameters\"> Valid Param. </td> <td title=\"Is EDM above goal EDM?\"> Above EDM </td> <td colspan=\"2\" title=\"Did last migrad call reach max call limit?\"> Reached call limit </td> </tr>\n",
       "<tr> <td style=\"background-color:#92CCA6;\"> True </td> <td style=\"background-color:#92CCA6;\"> True </td> <td style=\"background-color:#92CCA6;\"> False </td> <td colspan=\"2\" style=\"background-color:#92CCA6;\"> False </td> </tr>\n",
       "<tr> <td title=\"Did Hesse fail?\"> Hesse failed </td> <td title=\"Has covariance matrix\"> Has cov. </td> <td title=\"Is covariance matrix accurate?\"> Accurate </td> <td title=\"Is covariance matrix positive definite?\"> Pos. def. </td> <td title=\"Was positive definiteness enforced by Minuit?\"> Forced </td> </tr>\n",
       "<tr> <td style=\"background-color:#92CCA6;\"> False </td> <td style=\"background-color:#92CCA6;\"> True </td> <td style=\"background-color:#92CCA6;\"> True </td> <td style=\"background-color:#92CCA6;\"> True </td> <td style=\"background-color:#92CCA6;\"> False </td> </tr>\n",
       "</table>\n",
       "<table>\n",
       "<tr style=\"background-color:#F4F4F4;\"> <td/> <th title=\"Variable name\"> Name </th> <th title=\"Value of parameter\"> Value </th> <th title=\"Hesse error\"> Hesse Error </th> <th title=\"Minos lower error\"> Minos Error- </th> <th title=\"Minos upper error\"> Minos Error+ </th> <th title=\"Lower limit of the parameter\"> Limit- </th> <th title=\"Upper limit of the parameter\"> Limit+ </th> <th title=\"Is the parameter fixed in the fit\"> Fixed </th> </tr>\n",
       "<tr style=\"background-color:#FFFFFF;\"> <th> 0 </th> <td> x0 </td> <td> 10.0e3 </td> <td> 0.1e3 </td> <td>  </td> <td>  </td> <td> 0 </td> <td>  </td> <td>  </td> </tr>\n",
       "<tr style=\"background-color:#F4F4F4;\"> <th> 1 </th> <td> x1 </td> <td> -0.011 </td> <td> 0.010 </td> <td>  </td> <td>  </td> <td>  </td> <td>  </td> <td>  </td> </tr>\n",
       "<tr style=\"background-color:#FFFFFF;\"> <th> 2 </th> <td> x2 </td> <td> 0.999 </td> <td> 0.007 </td> <td>  </td> <td>  </td> <td> 0 </td> <td>  </td> <td>  </td> </tr>\n",
       "</table>\n"
      ],
      "text/plain": [
       "PyObject MigradResult(fmin=FMin(fval=-38710.19985212736, edm=9.414200054796711e-12, tolerance=0.1, nfcn=3, ncalls=27164, up=1.0, is_valid=True, has_valid_parameters=True, has_accurate_covar=True, has_posdef_covar=True, has_made_posdef_covar=False, hesse_failed=False, has_covariance=True, is_above_max_edm=False, has_reached_call_limit=False), params=[Param(number=0, name='x0', value=10001.039987391317, error=99.95742260033421, is_const=False, is_fixed=False, has_limits=True, has_lower_limit=True, has_upper_limit=False, lower_limit=0.0, upper_limit=None), Param(number=1, name='x1', value=-0.011051729329187911, error=0.009992544958620243, is_const=False, is_fixed=False, has_limits=False, has_lower_limit=False, has_upper_limit=False, lower_limit=None, upper_limit=None), Param(number=2, name='x2', value=0.9992893655857928, error=0.00710107169380747, is_const=False, is_fixed=False, has_limits=True, has_lower_limit=True, has_upper_limit=False, lower_limit=0.0, upper_limit=None)])"
      ]
     },
     "execution_count": 64,
     "metadata": {},
     "output_type": "execute_result"
    }
   ],
   "source": [
    "@btime migrad(m_fd)"
   ]
  },
  {
   "cell_type": "code",
   "execution_count": null,
   "metadata": {},
   "outputs": [],
   "source": []
  }
 ],
 "metadata": {
  "@webio": {
   "lastCommId": null,
   "lastKernelId": null
  },
  "kernelspec": {
   "display_name": "Julia 1.4.2",
   "language": "julia",
   "name": "julia-1.4"
  },
  "language_info": {
   "file_extension": ".jl",
   "mimetype": "application/julia",
   "name": "julia",
   "version": "1.4.2"
  },
  "latex_envs": {
   "LaTeX_envs_menu_present": true,
   "autoclose": false,
   "autocomplete": true,
   "bibliofile": "biblio.bib",
   "cite_by": "apalike",
   "current_citInitial": 1,
   "eqLabelWithNumbers": true,
   "eqNumInitial": 1,
   "hotkeys": {
    "equation": "Ctrl-E",
    "itemize": "Ctrl-I"
   },
   "labels_anchors": false,
   "latex_user_defs": false,
   "report_style_numbering": false,
   "user_envs_cfg": false
  },
  "toc": {
   "base_numbering": 1,
   "nav_menu": {},
   "number_sections": true,
   "sideBar": true,
   "skip_h1_title": false,
   "title_cell": "Table of Contents",
   "title_sidebar": "Contents",
   "toc_cell": false,
   "toc_position": {},
   "toc_section_display": true,
   "toc_window_display": true
  },
  "varInspector": {
   "cols": {
    "lenName": 16,
    "lenType": 16,
    "lenVar": 40
   },
   "kernels_config": {
    "python": {
     "delete_cmd_postfix": "",
     "delete_cmd_prefix": "del ",
     "library": "var_list.py",
     "varRefreshCmd": "print(var_dic_list())"
    },
    "r": {
     "delete_cmd_postfix": ") ",
     "delete_cmd_prefix": "rm(",
     "library": "var_list.r",
     "varRefreshCmd": "cat(var_dic_list()) "
    }
   },
   "types_to_exclude": [
    "module",
    "function",
    "builtin_function_or_method",
    "instance",
    "_Feature"
   ],
   "window_display": false
  }
 },
 "nbformat": 4,
 "nbformat_minor": 4
}
