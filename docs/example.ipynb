{
 "cells": [
  {
   "cell_type": "code",
   "execution_count": null,
   "metadata": {},
   "outputs": [],
   "source": [
    "ENV[\"PYTHON\"]=\"\"\n",
    "using Pkg\n",
    "Pkg.build(\"PyCall\")\n",
    "Pkg.add(\"BenchmarkTools\")"
   ]
  },
  {
   "cell_type": "code",
   "execution_count": 1,
   "metadata": {
    "ExecuteTime": {
     "end_time": "2020-07-15T22:42:55.311000+08:00",
     "start_time": "2020-07-15T14:42:21.896Z"
    },
    "tags": []
   },
   "outputs": [
    {
     "name": "stderr",
     "output_type": "stream",
     "text": [
      "┌ Info: Precompiling IMinuit [beb75e20-2205-47e6-ad51-640e9c2309f1]\n",
      "└ @ Base loading.jl:1278\n"
     ]
    }
   ],
   "source": [
    "using IMinuit\n",
    "using BenchmarkTools"
   ]
  },
  {
   "cell_type": "code",
   "execution_count": 2,
   "metadata": {
    "ExecuteTime": {
     "end_time": "2020-07-15T22:43:02.225000+08:00",
     "start_time": "2020-07-15T14:43:00.402Z"
    }
   },
   "outputs": [
    {
     "data": {
      "text/plain": [
       "f1 (generic function with 1 method)"
      ]
     },
     "execution_count": 2,
     "metadata": {},
     "output_type": "execute_result"
    }
   ],
   "source": [
    "f(x) = x[1]^2 + (x[2]-1)^2 + (x[3]-2)^4\n",
    "f1(x, y, z) = x^2 + (y-1)^2 + (z-2)^4"
   ]
  },
  {
   "cell_type": "code",
   "execution_count": 3,
   "metadata": {
    "ExecuteTime": {
     "end_time": "2020-07-15T22:43:06.754000+08:00",
     "start_time": "2020-07-15T14:43:05.258Z"
    }
   },
   "outputs": [
    {
     "data": {
      "text/html": [
       "<table>\n",
       "<tr> <td colspan=\"2\" style=\"text-align:center\" title=\"Minimum value of function\"> FCN = 1 </td> <td colspan=\"3\" title=\"No. of calls in last algorithm and total number of calls\"> Ncalls = 45 (45 total) </td> </tr>\n",
       "<tr> <td colspan=\"2\" style=\"text-align:center\" title=\"Estimated distance to minimum and target threshold\"> EDM = 2.47e-05 (Goal: 0.0002) </td> <td colspan=\"3\" title=\"Increase in FCN which corresponds to 1 standard deviation\"> up = 1.0 </td> </tr>\n",
       "<tr> <td title=\"Validity of the migrad call\"> Valid Min. </td> <td title=\"Validity of parameters\"> Valid Param. </td> <td title=\"Is EDM above goal EDM?\"> Above EDM </td> <td colspan=\"2\" title=\"Did last migrad call reach max call limit?\"> Reached call limit </td> </tr>\n",
       "<tr> <td style=\"background-color:#92CCA6;\"> True </td> <td style=\"background-color:#92CCA6;\"> True </td> <td style=\"background-color:#92CCA6;\"> False </td> <td colspan=\"2\" style=\"background-color:#92CCA6;\"> False </td> </tr>\n",
       "<tr> <td title=\"Did Hesse fail?\"> Hesse failed </td> <td title=\"Has covariance matrix\"> Has cov. </td> <td title=\"Is covariance matrix accurate?\"> Accurate </td> <td title=\"Is covariance matrix positive definite?\"> Pos. def. </td> <td title=\"Was positive definiteness enforced by Minuit?\"> Forced </td> </tr>\n",
       "<tr> <td style=\"background-color:#92CCA6;\"> False </td> <td style=\"background-color:#92CCA6;\"> True </td> <td style=\"background-color:#92CCA6;\"> True </td> <td style=\"background-color:#92CCA6;\"> True </td> <td style=\"background-color:#92CCA6;\"> False </td> </tr>\n",
       "</table>\n",
       "<table>\n",
       "<tr style=\"background-color:#F4F4F4;\"> <td/> <th title=\"Variable name\"> Name </th> <th title=\"Value of parameter\"> Value </th> <th title=\"Hesse error\"> Hesse Error </th> <th title=\"Minos lower error\"> Minos Error- </th> <th title=\"Minos upper error\"> Minos Error+ </th> <th title=\"Lower limit of the parameter\"> Limit- </th> <th title=\"Upper limit of the parameter\"> Limit+ </th> <th title=\"Is the parameter fixed in the fit\"> Fixed </th> </tr>\n",
       "<tr style=\"background-color:#FFFFFF;\"> <th> 0 </th> <td> x0 </td> <td> 1.00 </td> <td> 0.01 </td> <td>  </td> <td>  </td> <td>  </td> <td>  </td> <td> yes </td> </tr>\n",
       "<tr style=\"background-color:#F4F4F4;\"> <th> 1 </th> <td> x1 </td> <td> 1 </td> <td> 1 </td> <td>  </td> <td>  </td> <td>  </td> <td>  </td> <td>  </td> </tr>\n",
       "<tr style=\"background-color:#FFFFFF;\"> <th> 2 </th> <td> x2 </td> <td> 2 </td> <td> 5 </td> <td>  </td> <td>  </td> <td>  </td> <td>  </td> <td>  </td> </tr>\n",
       "</table>\n"
      ],
      "text/plain": [
       "PyObject MigradResult(fmin=FMin(fval=1.0000370129083695, edm=2.4670682282505703e-05, tolerance=0.1, nfcn=45, ncalls=45, up=1.0, is_valid=True, has_valid_parameters=True, has_accurate_covar=True, has_posdef_covar=True, has_made_posdef_covar=False, hesse_failed=False, has_covariance=True, is_above_max_edm=False, has_reached_call_limit=False), params=[Param(number=0, name='x0', value=1.0, error=0.01, is_const=False, is_fixed=True, has_limits=False, has_lower_limit=False, has_upper_limit=False, lower_limit=None, upper_limit=None), Param(number=1, name='x1', value=1.0, error=0.9999999999400042, is_const=False, is_fixed=False, has_limits=False, has_lower_limit=False, has_upper_limit=False, lower_limit=None, upper_limit=None), Param(number=2, name='x2', value=2.0779988685764814, error=5.233092083066116, is_const=False, is_fixed=False, has_limits=False, has_lower_limit=False, has_upper_limit=False, lower_limit=None, upper_limit=None)])"
      ]
     },
     "execution_count": 3,
     "metadata": {},
     "output_type": "execute_result"
    }
   ],
   "source": [
    "# using array parameters\n",
    "m = Minuit(f, [1, 1, 4], fix_x0 = true)\n",
    "migrad(m)"
   ]
  },
  {
   "cell_type": "code",
   "execution_count": 4,
   "metadata": {},
   "outputs": [
    {
     "data": {
      "text/html": [
       "<table>\n",
       "<tr> <td colspan=\"2\" style=\"text-align:center\" title=\"Minimum value of function\"> FCN = 7.285e-06 </td> <td colspan=\"3\" title=\"No. of calls in last algorithm and total number of calls\"> Ncalls = 40 (40 total) </td> </tr>\n",
       "<tr> <td colspan=\"2\" style=\"text-align:center\" title=\"Estimated distance to minimum and target threshold\"> EDM = 4.85e-06 (Goal: 0.0002) </td> <td colspan=\"3\" title=\"Increase in FCN which corresponds to 1 standard deviation\"> up = 1.0 </td> </tr>\n",
       "<tr> <td title=\"Validity of the migrad call\"> Valid Min. </td> <td title=\"Validity of parameters\"> Valid Param. </td> <td title=\"Is EDM above goal EDM?\"> Above EDM </td> <td colspan=\"2\" title=\"Did last migrad call reach max call limit?\"> Reached call limit </td> </tr>\n",
       "<tr> <td style=\"background-color:#92CCA6;\"> True </td> <td style=\"background-color:#92CCA6;\"> True </td> <td style=\"background-color:#92CCA6;\"> False </td> <td colspan=\"2\" style=\"background-color:#92CCA6;\"> False </td> </tr>\n",
       "<tr> <td title=\"Did Hesse fail?\"> Hesse failed </td> <td title=\"Has covariance matrix\"> Has cov. </td> <td title=\"Is covariance matrix accurate?\"> Accurate </td> <td title=\"Is covariance matrix positive definite?\"> Pos. def. </td> <td title=\"Was positive definiteness enforced by Minuit?\"> Forced </td> </tr>\n",
       "<tr> <td style=\"background-color:#92CCA6;\"> False </td> <td style=\"background-color:#92CCA6;\"> True </td> <td style=\"background-color:#92CCA6;\"> True </td> <td style=\"background-color:#92CCA6;\"> True </td> <td style=\"background-color:#92CCA6;\"> False </td> </tr>\n",
       "</table>\n",
       "<table>\n",
       "<tr style=\"background-color:#F4F4F4;\"> <td/> <th title=\"Variable name\"> Name </th> <th title=\"Value of parameter\"> Value </th> <th title=\"Hesse error\"> Hesse Error </th> <th title=\"Minos lower error\"> Minos Error- </th> <th title=\"Minos upper error\"> Minos Error+ </th> <th title=\"Lower limit of the parameter\"> Limit- </th> <th title=\"Upper limit of the parameter\"> Limit+ </th> <th title=\"Is the parameter fixed in the fit\"> Fixed </th> </tr>\n",
       "<tr style=\"background-color:#FFFFFF;\"> <th> 0 </th> <td> x0 </td> <td> -0 </td> <td> 1 </td> <td>  </td> <td>  </td> <td>  </td> <td>  </td> <td>  </td> </tr>\n",
       "<tr style=\"background-color:#F4F4F4;\"> <th> 1 </th> <td> x1 </td> <td> 1 </td> <td> 1 </td> <td>  </td> <td>  </td> <td>  </td> <td>  </td> <td>  </td> </tr>\n",
       "<tr style=\"background-color:#FFFFFF;\"> <th> 2 </th> <td> x2 </td> <td> 2 </td> <td> 8 </td> <td>  </td> <td>  </td> <td>  </td> <td>  </td> <td>  </td> </tr>\n",
       "</table>\n"
      ],
      "text/plain": [
       "PyObject MigradResult(fmin=FMin(fval=7.285091391992251e-06, edm=4.854434939210982e-06, tolerance=0.1, nfcn=40, ncalls=40, up=1.0, is_valid=True, has_valid_parameters=True, has_accurate_covar=True, has_posdef_covar=True, has_made_posdef_covar=False, hesse_failed=False, has_covariance=True, is_above_max_edm=False, has_reached_call_limit=False), params=[Param(number=0, name='x0', value=-9.230505249036014e-11, error=0.9999999999999991, is_const=False, is_fixed=False, has_limits=False, has_lower_limit=False, has_upper_limit=False, lower_limit=None, upper_limit=None), Param(number=1, name='x1', value=1.0, error=0.9999999999998908, is_const=False, is_fixed=False, has_limits=False, has_lower_limit=False, has_upper_limit=False, lower_limit=None, upper_limit=None), Param(number=2, name='x2', value=2.0519527751467623, error=7.854497166409804, is_const=False, is_fixed=False, has_limits=False, has_lower_limit=False, has_upper_limit=False, lower_limit=None, upper_limit=None)])"
      ]
     },
     "execution_count": 4,
     "metadata": {},
     "output_type": "execute_result"
    }
   ],
   "source": [
    "# a new fit can continue from the previous fit\n",
    "m_new = Minuit(f, m, fix_x0 = false)\n",
    "migrad(m_new)"
   ]
  },
  {
   "cell_type": "code",
   "execution_count": 5,
   "metadata": {
    "ExecuteTime": {
     "end_time": "2020-07-15T22:43:19.582000+08:00",
     "start_time": "2020-07-15T14:43:19.577Z"
    }
   },
   "outputs": [
    {
     "data": {
      "text/html": [
       "<table>\n",
       "<tr> <td colspan=\"2\" style=\"text-align:center\" title=\"Minimum value of function\"> FCN = 0.0001006 </td> <td colspan=\"3\" title=\"No. of calls in last algorithm and total number of calls\"> Ncalls = 69 (69 total) </td> </tr>\n",
       "<tr> <td colspan=\"2\" style=\"text-align:center\" title=\"Estimated distance to minimum and target threshold\"> EDM = 6.75e-05 (Goal: 0.0002) </td> <td colspan=\"3\" title=\"Increase in FCN which corresponds to 1 standard deviation\"> up = 1.0 </td> </tr>\n",
       "<tr> <td title=\"Validity of the migrad call\"> Valid Min. </td> <td title=\"Validity of parameters\"> Valid Param. </td> <td title=\"Is EDM above goal EDM?\"> Above EDM </td> <td colspan=\"2\" title=\"Did last migrad call reach max call limit?\"> Reached call limit </td> </tr>\n",
       "<tr> <td style=\"background-color:#92CCA6;\"> True </td> <td style=\"background-color:#92CCA6;\"> True </td> <td style=\"background-color:#92CCA6;\"> False </td> <td colspan=\"2\" style=\"background-color:#92CCA6;\"> False </td> </tr>\n",
       "<tr> <td title=\"Did Hesse fail?\"> Hesse failed </td> <td title=\"Has covariance matrix\"> Has cov. </td> <td title=\"Is covariance matrix accurate?\"> Accurate </td> <td title=\"Is covariance matrix positive definite?\"> Pos. def. </td> <td title=\"Was positive definiteness enforced by Minuit?\"> Forced </td> </tr>\n",
       "<tr> <td style=\"background-color:#92CCA6;\"> False </td> <td style=\"background-color:#92CCA6;\"> True </td> <td style=\"background-color:#92CCA6;\"> True </td> <td style=\"background-color:#92CCA6;\"> True </td> <td style=\"background-color:#92CCA6;\"> False </td> </tr>\n",
       "</table>\n",
       "<table>\n",
       "<tr style=\"background-color:#F4F4F4;\"> <td/> <th title=\"Variable name\"> Name </th> <th title=\"Value of parameter\"> Value </th> <th title=\"Hesse error\"> Hesse Error </th> <th title=\"Minos lower error\"> Minos Error- </th> <th title=\"Minos upper error\"> Minos Error+ </th> <th title=\"Lower limit of the parameter\"> Limit- </th> <th title=\"Upper limit of the parameter\"> Limit+ </th> <th title=\"Is the parameter fixed in the fit\"> Fixed </th> </tr>\n",
       "<tr style=\"background-color:#FFFFFF;\"> <th> 0 </th> <td> x0 </td> <td> 0 </td> <td> 1 </td> <td>  </td> <td>  </td> <td>  </td> <td>  </td> <td>  </td> </tr>\n",
       "<tr style=\"background-color:#F4F4F4;\"> <th> 1 </th> <td> x1 </td> <td> 1 </td> <td> 1 </td> <td>  </td> <td>  </td> <td>  </td> <td>  </td> <td>  </td> </tr>\n",
       "<tr style=\"background-color:#FFFFFF;\"> <th> 2 </th> <td> x2 </td> <td> 2 </td> <td> 4 </td> <td>  </td> <td>  </td> <td>  </td> <td>  </td> <td>  </td> </tr>\n",
       "</table>\n"
      ],
      "text/plain": [
       "PyObject MigradResult(fmin=FMin(fval=0.00010058909436091441, edm=6.749340318344347e-05, tolerance=0.1, nfcn=69, ncalls=69, up=1.0, is_valid=True, has_valid_parameters=True, has_accurate_covar=True, has_posdef_covar=True, has_made_posdef_covar=False, hesse_failed=False, has_covariance=True, is_above_max_edm=False, has_reached_call_limit=False), params=[Param(number=0, name='x0', value=0.0011440753757503627, error=1.0000000000000058, is_const=False, is_fixed=False, has_limits=False, has_lower_limit=False, has_upper_limit=False, lower_limit=None, upper_limit=None), Param(number=1, name='x1', value=1.0, error=0.9999999999999785, is_const=False, is_fixed=False, has_limits=False, has_lower_limit=False, has_upper_limit=False, lower_limit=None, upper_limit=None), Param(number=2, name='x2', value=2.099819558675038, error=4.089726291666442, is_const=False, is_fixed=False, has_limits=False, has_lower_limit=False, has_upper_limit=False, lower_limit=None, upper_limit=None)])"
      ]
     },
     "execution_count": 5,
     "metadata": {},
     "output_type": "execute_result"
    }
   ],
   "source": [
    "# using array parameters, using `ForwardDiff: gradient` to compute the gradient\n",
    "gradf(x) = gradient(f, x)\n",
    "mgrad = Minuit(f, [1, 1, 4], grad = gradf)\n",
    "migrad(mgrad)"
   ]
  },
  {
   "cell_type": "code",
   "execution_count": 6,
   "metadata": {
    "ExecuteTime": {
     "end_time": "2020-07-15T22:43:23.397000+08:00",
     "start_time": "2020-07-15T14:43:23.392Z"
    }
   },
   "outputs": [
    {
     "data": {
      "text/html": [
       "<table>\n",
       "<tr> <td colspan=\"2\" style=\"text-align:center\" title=\"Minimum value of function\"> FCN = 0.0001683 </td> <td colspan=\"3\" title=\"No. of calls in last algorithm and total number of calls\"> Ncalls = 89 (89 total) </td> </tr>\n",
       "<tr> <td colspan=\"2\" style=\"text-align:center\" title=\"Estimated distance to minimum and target threshold\"> EDM = 0.000115 (Goal: 0.0002) </td> <td colspan=\"3\" title=\"Increase in FCN which corresponds to 1 standard deviation\"> up = 1.0 </td> </tr>\n",
       "<tr> <td title=\"Validity of the migrad call\"> Valid Min. </td> <td title=\"Validity of parameters\"> Valid Param. </td> <td title=\"Is EDM above goal EDM?\"> Above EDM </td> <td colspan=\"2\" title=\"Did last migrad call reach max call limit?\"> Reached call limit </td> </tr>\n",
       "<tr> <td style=\"background-color:#92CCA6;\"> True </td> <td style=\"background-color:#92CCA6;\"> True </td> <td style=\"background-color:#92CCA6;\"> False </td> <td colspan=\"2\" style=\"background-color:#92CCA6;\"> False </td> </tr>\n",
       "<tr> <td title=\"Did Hesse fail?\"> Hesse failed </td> <td title=\"Has covariance matrix\"> Has cov. </td> <td title=\"Is covariance matrix accurate?\"> Accurate </td> <td title=\"Is covariance matrix positive definite?\"> Pos. def. </td> <td title=\"Was positive definiteness enforced by Minuit?\"> Forced </td> </tr>\n",
       "<tr> <td style=\"background-color:#92CCA6;\"> False </td> <td style=\"background-color:#92CCA6;\"> True </td> <td style=\"background-color:#92CCA6;\"> True </td> <td style=\"background-color:#92CCA6;\"> True </td> <td style=\"background-color:#92CCA6;\"> False </td> </tr>\n",
       "</table>\n",
       "<table>\n",
       "<tr style=\"background-color:#F4F4F4;\"> <td/> <th title=\"Variable name\"> Name </th> <th title=\"Value of parameter\"> Value </th> <th title=\"Hesse error\"> Hesse Error </th> <th title=\"Minos lower error\"> Minos Error- </th> <th title=\"Minos upper error\"> Minos Error+ </th> <th title=\"Lower limit of the parameter\"> Limit- </th> <th title=\"Upper limit of the parameter\"> Limit+ </th> <th title=\"Is the parameter fixed in the fit\"> Fixed </th> </tr>\n",
       "<tr style=\"background-color:#FFFFFF;\"> <th> 0 </th> <td> x </td> <td> 0 </td> <td> 1 </td> <td>  </td> <td>  </td> <td>  </td> <td>  </td> <td>  </td> </tr>\n",
       "<tr style=\"background-color:#F4F4F4;\"> <th> 1 </th> <td> y </td> <td> 1 </td> <td> 1 </td> <td>  </td> <td>  </td> <td>  </td> <td>  </td> <td>  </td> </tr>\n",
       "<tr style=\"background-color:#FFFFFF;\"> <th> 2 </th> <td> z </td> <td> 2 </td> <td> 4 </td> <td>  </td> <td>  </td> <td>  </td> <td>  </td> <td>  </td> </tr>\n",
       "</table>\n"
      ],
      "text/plain": [
       "PyObject MigradResult(fmin=FMin(fval=0.0001682888749907514, edm=0.00011476370188508502, tolerance=0.1, nfcn=89, ncalls=89, up=1.0, is_valid=True, has_valid_parameters=True, has_accurate_covar=True, has_posdef_covar=True, has_made_posdef_covar=False, hesse_failed=False, has_covariance=True, is_above_max_edm=False, has_reached_call_limit=False), params=[Param(number=0, name='x', value=0.002778199292675712, error=0.9999999999999966, is_const=False, is_fixed=False, has_limits=False, has_lower_limit=False, has_upper_limit=False, lower_limit=None, upper_limit=None), Param(number=1, name='y', value=1.0000000000000002, error=0.9999999999998966, is_const=False, is_fixed=False, has_limits=False, has_lower_limit=False, has_upper_limit=False, lower_limit=None, upper_limit=None), Param(number=2, name='z', value=2.112568383318672, error=3.626614534698427, is_const=False, is_fixed=False, has_limits=False, has_lower_limit=False, has_upper_limit=False, lower_limit=None, upper_limit=None)])"
      ]
     },
     "execution_count": 6,
     "metadata": {},
     "output_type": "execute_result"
    }
   ],
   "source": [
    "# parameters are given individually\n",
    "m1 = Minuit(f1, x = 1, y = 1, z = 4)\n",
    "migrad(m1)"
   ]
  },
  {
   "cell_type": "code",
   "execution_count": 7,
   "metadata": {
    "ExecuteTime": {
     "end_time": "2020-07-15T22:45:14.865000+08:00",
     "start_time": "2020-07-15T14:45:13.958Z"
    }
   },
   "outputs": [
    {
     "name": "stdout",
     "output_type": "stream",
     "text": [
      "iminuit.version.__version__ = \"1.4.9\"\n"
     ]
    },
    {
     "data": {
      "text/plain": [
       "102-element Array{Symbol,1}:\n",
       " :LEAST_SQUARES\n",
       " :LIKELIHOOD\n",
       " :__class__\n",
       " :__delattr__\n",
       " :__dir__\n",
       " :__doc__\n",
       " :__eq__\n",
       " :__format__\n",
       " :__ge__\n",
       " :__getattribute__\n",
       " :__gt__\n",
       " :__hash__\n",
       " :__init__\n",
       " ⋮\n",
       " :profile\n",
       " :set_errordef\n",
       " :set_print_level\n",
       " :set_strategy\n",
       " :set_up\n",
       " :strategy\n",
       " :throw_nan\n",
       " :tol\n",
       " :use_array_call\n",
       " :valid\n",
       " :values\n",
       " :var2pos"
      ]
     },
     "execution_count": 7,
     "metadata": {},
     "output_type": "execute_result"
    }
   ],
   "source": [
    "@show iminuit.version.__version__\n",
    "propertynames(m)"
   ]
  },
  {
   "cell_type": "code",
   "execution_count": 8,
   "metadata": {
    "ExecuteTime": {
     "end_time": "2020-07-09T11:37:23.301000+08:00",
     "start_time": "2020-07-09T03:37:21.957Z"
    }
   },
   "outputs": [
    {
     "data": {
      "text/plain": [
       "Docstring pulled from the Python `iminuit`:\n",
       "\n",
       "Minuit.migrad(self, ncall=None, resume=True, int nsplit=1, precision=None)\n",
       "Run MIGRAD.\n",
       "\n",
       "        MIGRAD is a robust minimisation algorithm which earned its reputation\n",
       "        in 40+ years of almost exclusive usage in high-energy physics. How\n",
       "        MIGRAD works is described in the `MINUIT paper`_.\n",
       "\n",
       "        **Arguments:**\n",
       "\n",
       "            * **ncall**: integer or None, optional; (approximate)\n",
       "              maximum number of call before MIGRAD will stop trying. Default: None\n",
       "              (indicates to use MIGRAD's internal heuristic). Using nsplit > 1\n",
       "              requires ncall > 0. Note: MIGRAD may slightly violate this limit,\n",
       "              because it checks the condition only after a full iteration of the\n",
       "              algorithm, which usually performs several function calls.\n",
       "\n",
       "            * **resume**: boolean indicating whether MIGRAD should resume from\n",
       "              the previous minimiser attempt(True) or should start from the\n",
       "              beginning(False). Default True.\n",
       "\n",
       "            * **nsplit**: split MIGRAD in to *split* runs. Max fcn call\n",
       "              for each run is ncall/nsplit. MIGRAD stops when it found the\n",
       "              function minimum to be valid or ncall is reached. This is useful\n",
       "              for getting progress. However, you need to make sure that\n",
       "              ncall/nsplit is large enough. Otherwise, MIGRAD will think\n",
       "              that the minimum is invalid due to exceeding max call\n",
       "              (ncall/nsplit). Default 1(no split).\n",
       "\n",
       "            * **precision**: override miniut own's internal precision.\n",
       "\n",
       "        **Return:**\n",
       "\n",
       "            :ref:`function-minimum-sruct`, list of :ref:`minuit-param-struct`\n",
       "        "
      ]
     },
     "execution_count": 8,
     "metadata": {},
     "output_type": "execute_result"
    }
   ],
   "source": [
    "# the doc strings are from `iminuit`\n",
    "@doc migrad"
   ]
  },
  {
   "cell_type": "markdown",
   "metadata": {},
   "source": [
    "## Example: Fit to the BES data of the π⁺π⁻ energy distribution of ψ'→J/ψπ⁺π⁻\n",
    "\n",
    "The data are taken from [BES Collaboration, Phys. Rev. D 62 (2000) 032002](https://inspirehep.net/literature/507637).\n",
    "\n",
    "Here we use a simple model, which is not meant to be the correct one, to fit to the data."
   ]
  },
  {
   "cell_type": "code",
   "execution_count": null,
   "metadata": {},
   "outputs": [],
   "source": [
    "Pkg.add(\"CSV\")\n",
    "Pkg.add(\"DataFrames\")\n",
    "Pkg.add(\"Plots\")\n",
    "Pkg.add(\"LaTeXStrings\")\n",
    "Pkg.add(\"PyPlot\")"
   ]
  },
  {
   "cell_type": "code",
   "execution_count": 2,
   "metadata": {
    "ExecuteTime": {
     "end_time": "2020-07-15T22:45:52.682000+08:00",
     "start_time": "2020-07-15T14:45:24.851Z"
    }
   },
   "outputs": [],
   "source": [
    "using CSV\n",
    "using DataFrames\n",
    "using Plots\n",
    "pyplot(framestyle = :box, minorticks = 5)\n",
    "using LaTeXStrings"
   ]
  },
  {
   "cell_type": "code",
   "execution_count": 3,
   "metadata": {
    "ExecuteTime": {
     "end_time": "2020-07-15T22:46:20.580000+08:00",
     "start_time": "2020-07-15T14:45:55.888Z"
    }
   },
   "outputs": [
    {
     "data": {
      "text/plain": [
       "Data([0.303, 0.309, 0.321, 0.327, 0.333, 0.339, 0.345, 0.351, 0.357, 0.363  …  0.531, 0.537, 0.543, 0.549, 0.555, 0.561, 0.567, 0.573, 0.579, 0.585], [8.522656, 44.87459, 29.63286, 58.13258, 28.2143, 129.0572, 181.7821, 199.5301, 269.4043, 186.1139  …  5217.45, 5867.647, 5717.979, 5527.38, 5548.063, 5386.82, 5425.564, 4744.075, 3899.626, 2725.864], [14.44523, 78.24785, 23.01279, 28.29703, 14.79316, 35.48893, 43.7948, 42.20547, 49.41916, 42.54225  …  164.0276, 174.4779, 169.0323, 165.0818, 164.632, 160.1847, 160.5301, 149.5817, 138.9569, 117.8775], 47)"
      ]
     },
     "execution_count": 3,
     "metadata": {},
     "output_type": "execute_result"
    }
   ],
   "source": [
    "data_df = DataFrame!(CSV.File(\"./testdata.csv\"))\n",
    "const data = Data(data_df)"
   ]
  },
  {
   "cell_type": "code",
   "execution_count": 4,
   "metadata": {
    "ExecuteTime": {
     "end_time": "2020-07-15T22:47:29.588000+08:00",
     "start_time": "2020-07-15T14:47:29.099Z"
    }
   },
   "outputs": [
    {
     "data": {
      "image/png": "[encoded data removed]"
     },
     "execution_count": 4,
     "metadata": {},
     "output_type": "execute_result"
    }
   ],
   "source": [
    "@plt_data data  xlab=L\"m_{\\pi\\pi}\"*\" [GeV]\"  ylab=\"Events\""
   ]
  },
  {
   "cell_type": "code",
   "execution_count": 5,
   "metadata": {
    "ExecuteTime": {
     "end_time": "2020-07-15T22:48:07.645000+08:00",
     "start_time": "2020-07-15T14:48:07.382Z"
    }
   },
   "outputs": [
    {
     "data": {
      "text/plain": [
       "dist (generic function with 2 methods)"
      ]
     },
     "execution_count": 5,
     "metadata": {},
     "output_type": "execute_result"
    }
   ],
   "source": [
    "const M = 3.686; const mπ = 0.14; const mJ = 3.097; \n",
    "\n",
    "λ(x, y, z) = x^2 + y^2 + z^2 - 2x*y - 2y*z - 2z*x\n",
    "\n",
    "# a simple function that will be used to fit the data: QCD multipole expansion model for ψ'→J/ψπ⁺π⁻\n",
    "# The important ππ FSI effect is not taken into account\n",
    "# bg is just for introducing a third parameter\n",
    "function dist(w, N, c, bg) \n",
    "    if (w ≤ 2mπ || w ≥ M-mJ)\n",
    "        res = 0.0\n",
    "    else\n",
    "        q1 = sqrt(λ(w^2, mπ^2, mπ^2))/(2w)\n",
    "        q2 = sqrt(λ(M^2, w^2, mJ^2))/(2M)\n",
    "        res = N * q1 * q2 * (w^2 - c*mπ^2)^2 + bg\n",
    "    end\n",
    "    return res * 1e6\n",
    "end;\n",
    "\n",
    "dist(x, p) = dist(x, p...)"
   ]
  },
  {
   "cell_type": "code",
   "execution_count": 6,
   "metadata": {
    "ExecuteTime": {
     "end_time": "2020-07-15T22:48:54.462000+08:00",
     "start_time": "2020-07-15T14:48:54.165Z"
    }
   },
   "outputs": [],
   "source": [
    "# parameters given individually\n",
    "χsq1(N, c, bg) = chisq(dist, data, (N, c, bg));\n",
    "\n",
    "# all parameters are vairables of χsq\n",
    "fit1 = Minuit(χsq1, N = 1, c = 2, bg = 0, error_N = 0.1, error_c = 0.1, error_bg = 0.1)\n",
    "fit1.strategy = 1;"
   ]
  },
  {
   "cell_type": "code",
   "execution_count": 7,
   "metadata": {
    "ExecuteTime": {
     "end_time": "2020-07-15T23:00:24.158000+08:00",
     "start_time": "2020-07-15T15:00:24.146Z"
    }
   },
   "outputs": [
    {
     "data": {
      "text/html": [
       "<table>\n",
       "<tr> <td colspan=\"2\" style=\"text-align:center\" title=\"Minimum value of function\"> FCN = 68.22 </td> <td colspan=\"3\" title=\"No. of calls in last algorithm and total number of calls\"> Ncalls = 60 (60 total) </td> </tr>\n",
       "<tr> <td colspan=\"2\" style=\"text-align:center\" title=\"Estimated distance to minimum and target threshold\"> EDM = 6.15e-05 (Goal: 0.0002) </td> <td colspan=\"3\" title=\"Increase in FCN which corresponds to 1 standard deviation\"> up = 1.0 </td> </tr>\n",
       "<tr> <td title=\"Validity of the migrad call\"> Valid Min. </td> <td title=\"Validity of parameters\"> Valid Param. </td> <td title=\"Is EDM above goal EDM?\"> Above EDM </td> <td colspan=\"2\" title=\"Did last migrad call reach max call limit?\"> Reached call limit </td> </tr>\n",
       "<tr> <td style=\"background-color:#92CCA6;\"> True </td> <td style=\"background-color:#92CCA6;\"> True </td> <td style=\"background-color:#92CCA6;\"> False </td> <td colspan=\"2\" style=\"background-color:#92CCA6;\"> False </td> </tr>\n",
       "<tr> <td title=\"Did Hesse fail?\"> Hesse failed </td> <td title=\"Has covariance matrix\"> Has cov. </td> <td title=\"Is covariance matrix accurate?\"> Accurate </td> <td title=\"Is covariance matrix positive definite?\"> Pos. def. </td> <td title=\"Was positive definiteness enforced by Minuit?\"> Forced </td> </tr>\n",
       "<tr> <td style=\"background-color:#92CCA6;\"> False </td> <td style=\"background-color:#92CCA6;\"> True </td> <td style=\"background-color:#92CCA6;\"> True </td> <td style=\"background-color:#92CCA6;\"> True </td> <td style=\"background-color:#92CCA6;\"> False </td> </tr>\n",
       "</table>\n",
       "<table>\n",
       "<tr style=\"background-color:#F4F4F4;\"> <td/> <th title=\"Variable name\"> Name </th> <th title=\"Value of parameter\"> Value </th> <th title=\"Hesse error\"> Hesse Error </th> <th title=\"Minos lower error\"> Minos Error- </th> <th title=\"Minos upper error\"> Minos Error+ </th> <th title=\"Lower limit of the parameter\"> Limit- </th> <th title=\"Upper limit of the parameter\"> Limit+ </th> <th title=\"Is the parameter fixed in the fit\"> Fixed </th> </tr>\n",
       "<tr style=\"background-color:#FFFFFF;\"> <th> 0 </th> <td> N </td> <td> 2.67 </td> <td> 0.04 </td> <td>  </td> <td>  </td> <td>  </td> <td>  </td> <td>  </td> </tr>\n",
       "<tr style=\"background-color:#F4F4F4;\"> <th> 1 </th> <td> c </td> <td> 4.33 </td> <td> 0.06 </td> <td>  </td> <td>  </td> <td>  </td> <td>  </td> <td>  </td> </tr>\n",
       "<tr style=\"background-color:#FFFFFF;\"> <th> 2 </th> <td> bg </td> <td> 0.0 </td> <td> 0.1 </td> <td>  </td> <td>  </td> <td>  </td> <td>  </td> <td> yes </td> </tr>\n",
       "</table>\n"
      ],
      "text/plain": [
       "PyObject MigradResult(fmin=FMin(fval=68.21841491568557, edm=6.14734842872889e-05, tolerance=0.1, nfcn=60, ncalls=60, up=1.0, is_valid=True, has_valid_parameters=True, has_accurate_covar=True, has_posdef_covar=True, has_made_posdef_covar=False, hesse_failed=False, has_covariance=True, is_above_max_edm=False, has_reached_call_limit=False), params=[Param(number=0, name='N', value=2.6681960437143837, error=0.04224516409271021, is_const=False, is_fixed=False, has_limits=False, has_lower_limit=False, has_upper_limit=False, lower_limit=None, upper_limit=None), Param(number=1, name='c', value=4.326170735305057, error=0.061681228609901384, is_const=False, is_fixed=False, has_limits=False, has_lower_limit=False, has_upper_limit=False, lower_limit=None, upper_limit=None), Param(number=2, name='bg', value=0.0, error=0.1, is_const=False, is_fixed=True, has_limits=False, has_lower_limit=False, has_upper_limit=False, lower_limit=None, upper_limit=None)])"
      ]
     },
     "execution_count": 7,
     "metadata": {},
     "output_type": "execute_result"
    }
   ],
   "source": [
    "# parameters are collected into a tuple or an array, which is the only variable of χsq\n",
    "parname = [:N, :c, :bg]\n",
    "χsq(par) = chisq(dist, data, par)\n",
    "gradf(par) = gradient(χsq, par)\n",
    "fit = Minuit(χsq, [1, 2, 0], error = 0.1*ones(3), name = parname, grad = gradf)\n",
    "fit.strategy = 1;\n",
    "\n",
    "# or simply using model_fit or @model_fit\n",
    "fit2 = model_fit(dist, data, [1, 2, 0], error = 0.1*ones(3), name = parname, fix_bg = true)\n",
    "fit2.strategy = 1;\n",
    "migrad(fit2)"
   ]
  },
  {
   "cell_type": "code",
   "execution_count": 8,
   "metadata": {},
   "outputs": [
    {
     "data": {
      "text/html": [
       "<table>\n",
       "<tr> <td colspan=\"2\" style=\"text-align:center\" title=\"Minimum value of function\"> FCN = 64.68 </td> <td colspan=\"3\" title=\"No. of calls in last algorithm and total number of calls\"> Ncalls = 65 (65 total) </td> </tr>\n",
       "<tr> <td colspan=\"2\" style=\"text-align:center\" title=\"Estimated distance to minimum and target threshold\"> EDM = 2.08e-05 (Goal: 0.0002) </td> <td colspan=\"3\" title=\"Increase in FCN which corresponds to 1 standard deviation\"> up = 1.0 </td> </tr>\n",
       "<tr> <td title=\"Validity of the migrad call\"> Valid Min. </td> <td title=\"Validity of parameters\"> Valid Param. </td> <td title=\"Is EDM above goal EDM?\"> Above EDM </td> <td colspan=\"2\" title=\"Did last migrad call reach max call limit?\"> Reached call limit </td> </tr>\n",
       "<tr> <td style=\"background-color:#92CCA6;\"> True </td> <td style=\"background-color:#92CCA6;\"> True </td> <td style=\"background-color:#92CCA6;\"> False </td> <td colspan=\"2\" style=\"background-color:#92CCA6;\"> False </td> </tr>\n",
       "<tr> <td title=\"Did Hesse fail?\"> Hesse failed </td> <td title=\"Has covariance matrix\"> Has cov. </td> <td title=\"Is covariance matrix accurate?\"> Accurate </td> <td title=\"Is covariance matrix positive definite?\"> Pos. def. </td> <td title=\"Was positive definiteness enforced by Minuit?\"> Forced </td> </tr>\n",
       "<tr> <td style=\"background-color:#92CCA6;\"> False </td> <td style=\"background-color:#92CCA6;\"> True </td> <td style=\"background-color:#92CCA6;\"> True </td> <td style=\"background-color:#92CCA6;\"> True </td> <td style=\"background-color:#92CCA6;\"> False </td> </tr>\n",
       "</table>\n",
       "<table>\n",
       "<tr style=\"background-color:#F4F4F4;\"> <td/> <th title=\"Variable name\"> Name </th> <th title=\"Value of parameter\"> Value </th> <th title=\"Hesse error\"> Hesse Error </th> <th title=\"Minos lower error\"> Minos Error- </th> <th title=\"Minos upper error\"> Minos Error+ </th> <th title=\"Lower limit of the parameter\"> Limit- </th> <th title=\"Upper limit of the parameter\"> Limit+ </th> <th title=\"Is the parameter fixed in the fit\"> Fixed </th> </tr>\n",
       "<tr style=\"background-color:#FFFFFF;\"> <th> 0 </th> <td> N </td> <td> 2.61 </td> <td> 0.05 </td> <td>  </td> <td>  </td> <td>  </td> <td>  </td> <td>  </td> </tr>\n",
       "<tr style=\"background-color:#F4F4F4;\"> <th> 1 </th> <td> c </td> <td> 4.20 </td> <td> 0.09 </td> <td>  </td> <td>  </td> <td>  </td> <td>  </td> <td>  </td> </tr>\n",
       "<tr style=\"background-color:#FFFFFF;\"> <th> 2 </th> <td> bg </td> <td> -0.022e-3 </td> <td> 0.012e-3 </td> <td>  </td> <td>  </td> <td>  </td> <td>  </td> <td>  </td> </tr>\n",
       "</table>\n"
      ],
      "text/plain": [
       "PyObject MigradResult(fmin=FMin(fval=64.67995814372355, edm=2.0802796267468135e-05, tolerance=0.1, nfcn=65, ncalls=65, up=1.0, is_valid=True, has_valid_parameters=True, has_accurate_covar=True, has_posdef_covar=True, has_made_posdef_covar=False, hesse_failed=False, has_covariance=True, is_above_max_edm=False, has_reached_call_limit=False), params=[Param(number=0, name='N', value=2.611694784029727, error=0.051774157148768825, is_const=False, is_fixed=False, has_limits=False, has_lower_limit=False, has_upper_limit=False, lower_limit=None, upper_limit=None), Param(number=1, name='c', value=4.201402659318696, error=0.09309868134226096, is_const=False, is_fixed=False, has_limits=False, has_lower_limit=False, has_upper_limit=False, lower_limit=None, upper_limit=None), Param(number=2, name='bg', value=-2.187403330680718e-05, error=1.1893819057631849e-05, is_const=False, is_fixed=False, has_limits=False, has_lower_limit=False, has_upper_limit=False, lower_limit=None, upper_limit=None)])"
      ]
     },
     "execution_count": 8,
     "metadata": {},
     "output_type": "execute_result"
    }
   ],
   "source": [
    "# the privous fit status can be passed to a new fit\n",
    "fit2_new = model_fit(dist, data, fit2, name = parname, fix_bg = false)\n",
    "migrad(fit2_new)"
   ]
  },
  {
   "cell_type": "code",
   "execution_count": 8,
   "metadata": {
    "ExecuteTime": {
     "end_time": "2020-07-12T09:35:16.578000+08:00",
     "start_time": "2020-07-12T01:35:06.799Z"
    }
   },
   "outputs": [
    {
     "name": "stdout",
     "output_type": "stream",
     "text": [
      "  116.600 μs (1488 allocations: 40.48 KiB)\n"
     ]
    },
    {
     "data": {
      "text/html": [
       "<table>\n",
       "<tr> <td colspan=\"2\" style=\"text-align:center\" title=\"Minimum value of function\"> FCN = 64.68 </td> <td colspan=\"3\" title=\"No. of calls in last algorithm and total number of calls\"> Ncalls = 3 (109923 total) </td> </tr>\n",
       "<tr> <td colspan=\"2\" style=\"text-align:center\" title=\"Estimated distance to minimum and target threshold\"> EDM = 9.36e-15 (Goal: 0.0002) </td> <td colspan=\"3\" title=\"Increase in FCN which corresponds to 1 standard deviation\"> up = 1.0 </td> </tr>\n",
       "<tr> <td title=\"Validity of the migrad call\"> Valid Min. </td> <td title=\"Validity of parameters\"> Valid Param. </td> <td title=\"Is EDM above goal EDM?\"> Above EDM </td> <td colspan=\"2\" title=\"Did last migrad call reach max call limit?\"> Reached call limit </td> </tr>\n",
       "<tr> <td style=\"background-color:#92CCA6;\"> True </td> <td style=\"background-color:#92CCA6;\"> True </td> <td style=\"background-color:#92CCA6;\"> False </td> <td colspan=\"2\" style=\"background-color:#92CCA6;\"> False </td> </tr>\n",
       "<tr> <td title=\"Did Hesse fail?\"> Hesse failed </td> <td title=\"Has covariance matrix\"> Has cov. </td> <td title=\"Is covariance matrix accurate?\"> Accurate </td> <td title=\"Is covariance matrix positive definite?\"> Pos. def. </td> <td title=\"Was positive definiteness enforced by Minuit?\"> Forced </td> </tr>\n",
       "<tr> <td style=\"background-color:#92CCA6;\"> False </td> <td style=\"background-color:#92CCA6;\"> True </td> <td style=\"background-color:#92CCA6;\"> True </td> <td style=\"background-color:#92CCA6;\"> True </td> <td style=\"background-color:#92CCA6;\"> False </td> </tr>\n",
       "</table>\n",
       "<table>\n",
       "<tr style=\"background-color:#F4F4F4;\"> <td/> <th title=\"Variable name\"> Name </th> <th title=\"Value of parameter\"> Value </th> <th title=\"Hesse error\"> Hesse Error </th> <th title=\"Minos lower error\"> Minos Error- </th> <th title=\"Minos upper error\"> Minos Error+ </th> <th title=\"Lower limit of the parameter\"> Limit- </th> <th title=\"Upper limit of the parameter\"> Limit+ </th> <th title=\"Is the parameter fixed in the fit\"> Fixed </th> </tr>\n",
       "<tr style=\"background-color:#FFFFFF;\"> <th> 0 </th> <td> x0 </td> <td> 2.61 </td> <td> 0.05 </td> <td> -0.05 </td> <td> 0.05 </td> <td>  </td> <td>  </td> <td>  </td> </tr>\n",
       "<tr style=\"background-color:#F4F4F4;\"> <th> 1 </th> <td> x1 </td> <td> 4.20 </td> <td> 0.09 </td> <td> -0.09 </td> <td> 0.09 </td> <td>  </td> <td>  </td> <td>  </td> </tr>\n",
       "<tr style=\"background-color:#FFFFFF;\"> <th> 2 </th> <td> x2 </td> <td> -0.022e-3 </td> <td> 0.012e-3 </td> <td> -0.012e-3 </td> <td> 0.012e-3 </td> <td>  </td> <td>  </td> <td>  </td> </tr>\n",
       "</table>\n"
      ],
      "text/plain": [
       "PyObject MigradResult(fmin=FMin(fval=64.67993733507895, edm=9.357751294516442e-15, tolerance=0.1, nfcn=3, ncalls=109923, up=1.0, is_valid=True, has_valid_parameters=True, has_accurate_covar=True, has_posdef_covar=True, has_made_posdef_covar=False, hesse_failed=False, has_covariance=True, is_above_max_edm=False, has_reached_call_limit=False), params=[Param(number=0, name='x0', value=2.6114833151653025, error=0.05177673323060879, is_const=False, is_fixed=False, has_limits=False, has_lower_limit=False, has_upper_limit=False, lower_limit=None, upper_limit=None), Param(number=1, name='x1', value=4.201031332818215, error=0.09311776395965805, is_const=False, is_fixed=False, has_limits=False, has_lower_limit=False, has_upper_limit=False, lower_limit=None, upper_limit=None), Param(number=2, name='x2', value=-2.1921187450274414e-05, error=1.1895993246464892e-05, is_const=False, is_fixed=False, has_limits=False, has_lower_limit=False, has_upper_limit=False, lower_limit=None, upper_limit=None)])"
      ]
     },
     "execution_count": 8,
     "metadata": {},
     "output_type": "execute_result"
    }
   ],
   "source": [
    "@btime migrad(fit)\n",
    "minos(fit)\n",
    "migrad(fit)"
   ]
  },
  {
   "cell_type": "code",
   "execution_count": 9,
   "metadata": {
    "ExecuteTime": {
     "end_time": "2020-07-12T09:35:24.767000+08:00",
     "start_time": "2020-07-12T01:35:07.908Z"
    }
   },
   "outputs": [
    {
     "name": "stdout",
     "output_type": "stream",
     "text": [
      "  73.600 μs (481 allocations: 9.27 KiB)\n"
     ]
    },
    {
     "data": {
      "text/html": [
       "<table>\n",
       "<tr> <td colspan=\"2\" style=\"text-align:center\" title=\"Minimum value of function\"> FCN = 64.68 </td> <td colspan=\"3\" title=\"No. of calls in last algorithm and total number of calls\"> Ncalls = 14 (702922 total) </td> </tr>\n",
       "<tr> <td colspan=\"2\" style=\"text-align:center\" title=\"Estimated distance to minimum and target threshold\"> EDM = 1.52e-14 (Goal: 0.0002) </td> <td colspan=\"3\" title=\"Increase in FCN which corresponds to 1 standard deviation\"> up = 1.0 </td> </tr>\n",
       "<tr> <td title=\"Validity of the migrad call\"> Valid Min. </td> <td title=\"Validity of parameters\"> Valid Param. </td> <td title=\"Is EDM above goal EDM?\"> Above EDM </td> <td colspan=\"2\" title=\"Did last migrad call reach max call limit?\"> Reached call limit </td> </tr>\n",
       "<tr> <td style=\"background-color:#92CCA6;\"> True </td> <td style=\"background-color:#92CCA6;\"> True </td> <td style=\"background-color:#92CCA6;\"> False </td> <td colspan=\"2\" style=\"background-color:#92CCA6;\"> False </td> </tr>\n",
       "<tr> <td title=\"Did Hesse fail?\"> Hesse failed </td> <td title=\"Has covariance matrix\"> Has cov. </td> <td title=\"Is covariance matrix accurate?\"> Accurate </td> <td title=\"Is covariance matrix positive definite?\"> Pos. def. </td> <td title=\"Was positive definiteness enforced by Minuit?\"> Forced </td> </tr>\n",
       "<tr> <td style=\"background-color:#92CCA6;\"> False </td> <td style=\"background-color:#92CCA6;\"> True </td> <td style=\"background-color:#92CCA6;\"> True </td> <td style=\"background-color:#92CCA6;\"> True </td> <td style=\"background-color:#92CCA6;\"> False </td> </tr>\n",
       "</table>\n",
       "<table>\n",
       "<tr style=\"background-color:#F4F4F4;\"> <td/> <th title=\"Variable name\"> Name </th> <th title=\"Value of parameter\"> Value </th> <th title=\"Hesse error\"> Hesse Error </th> <th title=\"Minos lower error\"> Minos Error- </th> <th title=\"Minos upper error\"> Minos Error+ </th> <th title=\"Lower limit of the parameter\"> Limit- </th> <th title=\"Upper limit of the parameter\"> Limit+ </th> <th title=\"Is the parameter fixed in the fit\"> Fixed </th> </tr>\n",
       "<tr style=\"background-color:#FFFFFF;\"> <th> 0 </th> <td> N </td> <td> 2.61 </td> <td> 0.05 </td> <td> -0.05 </td> <td> 0.05 </td> <td>  </td> <td>  </td> <td>  </td> </tr>\n",
       "<tr style=\"background-color:#F4F4F4;\"> <th> 1 </th> <td> c </td> <td> 4.20 </td> <td> 0.09 </td> <td> -0.09 </td> <td> 0.09 </td> <td>  </td> <td>  </td> <td>  </td> </tr>\n",
       "<tr style=\"background-color:#FFFFFF;\"> <th> 2 </th> <td> bg </td> <td> -0.022e-3 </td> <td> 0.012e-3 </td> <td> -0.012e-3 </td> <td> 0.012e-3 </td> <td>  </td> <td>  </td> <td>  </td> </tr>\n",
       "</table>\n"
      ],
      "text/plain": [
       "PyObject MigradResult(fmin=FMin(fval=64.679937335079, edm=1.5156345070287753e-14, tolerance=0.1, nfcn=14, ncalls=702922, up=1.0, is_valid=True, has_valid_parameters=True, has_accurate_covar=True, has_posdef_covar=True, has_made_posdef_covar=False, hesse_failed=False, has_covariance=True, is_above_max_edm=False, has_reached_call_limit=False), params=[Param(number=0, name='N', value=2.6114833211935484, error=0.051776712195704004, is_const=False, is_fixed=False, has_limits=False, has_lower_limit=False, has_upper_limit=False, lower_limit=None, upper_limit=None), Param(number=1, name='c', value=4.201031344545451, error=0.09311685621270735, is_const=False, is_fixed=False, has_limits=False, has_lower_limit=False, has_upper_limit=False, lower_limit=None, upper_limit=None), Param(number=2, name='bg', value=-2.192118618207932e-05, error=1.1895620973146581e-05, is_const=False, is_fixed=False, has_limits=False, has_lower_limit=False, has_upper_limit=False, lower_limit=None, upper_limit=None)])"
      ]
     },
     "execution_count": 9,
     "metadata": {},
     "output_type": "execute_result"
    }
   ],
   "source": [
    "@btime migrad(fit1)\n",
    "minos(fit1)\n",
    "migrad(fit1)"
   ]
  },
  {
   "cell_type": "code",
   "execution_count": 10,
   "metadata": {
    "ExecuteTime": {
     "end_time": "2020-07-12T09:35:24.774000+08:00",
     "start_time": "2020-07-12T01:35:10.247Z"
    }
   },
   "outputs": [
    {
     "data": {
      "text/html": [
       "<table>\n",
       "<tr> <td/> <th colspan=\"2\" style=\"text-align:center\" title=\"Parameter name\"> N </th> <th colspan=\"2\" style=\"text-align:center\" title=\"Parameter name\"> c </th> <th colspan=\"2\" style=\"text-align:center\" title=\"Parameter name\"> bg </th> </tr>\n",
       "<tr> <th title=\"Lower and upper minos error of the parameter\"> Error </th> <td> -0.05 </td> <td> 0.05 </td> <td> -0.09 </td> <td> 0.09 </td> <td> -0.012e-3 </td> <td> 0.012e-3 </td> </tr>\n",
       "<tr> <th title=\"Validity of lower/upper minos error\"> Valid </th> <td style=\"background-color:#92CCA6;\"> True </td> <td style=\"background-color:#92CCA6;\"> True </td> <td style=\"background-color:#92CCA6;\"> True </td> <td style=\"background-color:#92CCA6;\"> True </td> <td style=\"background-color:#92CCA6;\"> True </td> <td style=\"background-color:#92CCA6;\"> True </td> </tr>\n",
       "<tr> <th title=\"Did scan hit limit of any parameter?\"> At Limit </th> <td style=\"background-color:#92CCA6;\"> False </td> <td style=\"background-color:#92CCA6;\"> False </td> <td style=\"background-color:#92CCA6;\"> False </td> <td style=\"background-color:#92CCA6;\"> False </td> <td style=\"background-color:#92CCA6;\"> False </td> <td style=\"background-color:#92CCA6;\"> False </td> </tr>\n",
       "<tr> <th title=\"Did scan hit function call limit?\"> Max FCN </th> <td style=\"background-color:#92CCA6;\"> False </td> <td style=\"background-color:#92CCA6;\"> False </td> <td style=\"background-color:#92CCA6;\"> False </td> <td style=\"background-color:#92CCA6;\"> False </td> <td style=\"background-color:#92CCA6;\"> False </td> <td style=\"background-color:#92CCA6;\"> False </td> </tr>\n",
       "<tr> <th title=\"New minimum found when doing scan?\"> New Min </th> <td style=\"background-color:#92CCA6;\"> False </td> <td style=\"background-color:#92CCA6;\"> False </td> <td style=\"background-color:#92CCA6;\"> False </td> <td style=\"background-color:#92CCA6;\"> False </td> <td style=\"background-color:#92CCA6;\"> False </td> <td style=\"background-color:#92CCA6;\"> False </td> </tr>\n",
       "</table>\n"
      ],
      "text/plain": [
       "PyObject MErrors([('N', MError(name='N', is_valid=True, lower=-0.05145257573454067, upper=0.05210385773044046, lower_valid=True, upper_valid=True, at_lower_limit=False, at_upper_limit=False, at_lower_max_fcn=False, at_upper_max_fcn=False, lower_new_min=False, upper_new_min=False, nfcn=56, min=2.6114833211935484)), ('c', MError(name='c', is_valid=True, lower=-0.09392066407552968, upper=0.09232893682255511, lower_valid=True, upper_valid=True, at_lower_limit=False, at_upper_limit=False, at_lower_max_fcn=False, at_upper_max_fcn=False, lower_new_min=False, upper_new_min=False, nfcn=56, min=4.201031344545451)), ('bg', MError(name='bg', is_valid=True, lower=-1.2031491205034717e-05, upper=1.1765608570813917e-05, lower_valid=True, upper_valid=True, at_lower_limit=False, at_upper_limit=False, at_lower_max_fcn=False, at_upper_max_fcn=False, lower_new_min=False, upper_new_min=False, nfcn=56, min=-2.192118618207932e-05))])"
      ]
     },
     "execution_count": 10,
     "metadata": {},
     "output_type": "execute_result"
    }
   ],
   "source": [
    "minos(fit1)"
   ]
  },
  {
   "cell_type": "code",
   "execution_count": 12,
   "metadata": {
    "ExecuteTime": {
     "end_time": "2020-07-12T09:35:44.978000+08:00",
     "start_time": "2020-07-12T01:35:44.579Z"
    }
   },
   "outputs": [
    {
     "data": {
      "image/png": "[encoded data removed]"
     },
     "execution_count": 12,
     "metadata": {},
     "output_type": "execute_result"
    }
   ],
   "source": [
    "# the ordering of dist, fit and data does not matter\n",
    "@plt_best dist fit data"
   ]
  },
  {
   "cell_type": "code",
   "execution_count": 13,
   "metadata": {
    "ExecuteTime": {
     "end_time": "2020-07-12T09:35:47.205000+08:00",
     "start_time": "2020-07-12T01:35:46.983Z"
    }
   },
   "outputs": [
    {
     "data": {
      "image/png": "[encoded data removed]",
      "text/plain": [
       "PyPlot.Figure(PyObject <Figure size 640x480 with 1 Axes>)"
      ]
     },
     "metadata": {},
     "output_type": "display_data"
    },
    {
     "data": {
      "text/plain": [
       "([2.4561531846064364, 2.4592911671637516, 2.4624291497210673, 2.4655671322783825, 2.4687051148356978, 2.4718430973930134, 2.4749810799503287, 2.4781190625076444, 2.4812570450649596, 2.484395027622275  …  2.738571614764822, 2.7417095973221373, 2.7448475798794525, 2.747985562436768, 2.7511235449940834, 2.7542615275513986, 2.7573995101087143, 2.7605374926660295, 2.7636754752233452, 2.7668134577806605], [3.9216807759073293, 3.9273242217384023, 3.932967667569476, 3.938611113400549, 3.944254559231622, 3.9498980050626953, 3.9555414508937683, 3.9611848967248418, 3.9668283425559148, 3.972471788386988  …  4.429590900703915, 4.435234346534989, 4.440877792366061, 4.446521238197135, 4.452164684028208, 4.457808129859281, 4.463451575690354, 4.469095021521428, 4.4747384673525, 4.480381913183574], [20.972585684547113 20.022934908552898 … 290.280110975979 296.3574252092246; 21.148382447267153 20.131613966475754 … 285.0424527312081 291.0755140159173; … ; 350.8725474805894 342.54598215294766 … 19.826339420220364 20.935927070797632; 357.49518711030873 349.085022026704 … 19.595624194661738 20.647949873483995])"
      ]
     },
     "execution_count": 13,
     "metadata": {},
     "output_type": "execute_result"
    }
   ],
   "source": [
    "# MIGRAD contour of two parameters with the other ones fixed\n",
    "# needs PyPlot or the pyplot backend of Plots\n",
    "fit1.draw_contour(:N, :c, bound=3, bins=100)"
   ]
  },
  {
   "cell_type": "code",
   "execution_count": 14,
   "metadata": {
    "ExecuteTime": {
     "end_time": "2020-07-12T09:35:53.437000+08:00",
     "start_time": "2020-07-12T01:35:53.230Z"
    }
   },
   "outputs": [
    {
     "data": {
      "image/png": "[encoded data removed]",
      "text/plain": [
       "PyPlot.Figure(PyObject <Figure size 640x480 with 1 Axes>)"
      ]
     },
     "metadata": {},
     "output_type": "display_data"
    },
    {
     "name": "stderr",
     "output_type": "stream",
     "text": [
      "Error in MnContours : unable to find point on Contour : i+1 = 6\n",
      "Error in MnContours : found  only i points : i = 5\n"
     ]
    },
    {
     "data": {
      "text/plain": [
       "PyObject <matplotlib.contour.ContourSet object at 0x7fd8c8793fd0>"
      ]
     },
     "execution_count": 14,
     "metadata": {},
     "output_type": "execute_result"
    }
   ],
   "source": [
    "# contour of parameter space from MINOS\n",
    "fit1.draw_mncontour(:N, :c, nsigma=3, numpoints=100)"
   ]
  },
  {
   "cell_type": "code",
   "execution_count": 15,
   "metadata": {
    "ExecuteTime": {
     "end_time": "2020-07-12T09:35:56.232000+08:00",
     "start_time": "2020-07-12T01:35:56.100Z"
    }
   },
   "outputs": [
    {
     "data": {
      "text/html": [
       "<table>\n",
       "<tr> <td/> <th> N </th> <th> c </th> <th> bg </th> </tr>\n",
       "<tr> <th> N </th> <td> 1.00 </td> <td style=\"background-color:rgb(250,111,111)\">  0.93 </td> <td style=\"background-color:rgb(250,159,159)\">  0.61 </td> </tr>\n",
       "<tr> <th> c </th> <td style=\"background-color:rgb(250,111,111)\">  0.93 </td> <td> 1.00 </td> <td style=\"background-color:rgb(250,138,138)\">  0.75 </td> </tr>\n",
       "<tr> <th> bg </th> <td style=\"background-color:rgb(250,159,159)\">  0.61 </td> <td style=\"background-color:rgb(250,138,138)\">  0.75 </td> <td> 1.00 </td> </tr>\n",
       "</table>\n"
      ],
      "text/plain": [
       "PyObject ((1.0, 0.9252133738369328, 0.6055255848641659), (0.9252133738369328, 1.0, 0.7483973089680895), (0.6055255848641659, 0.7483973089680895, 1.0))"
      ]
     },
     "execution_count": 15,
     "metadata": {},
     "output_type": "execute_result"
    }
   ],
   "source": [
    "matrix(fit1, correlation = true)"
   ]
  },
  {
   "cell_type": "code",
   "execution_count": 16,
   "metadata": {
    "ExecuteTime": {
     "end_time": "2020-07-12T09:35:57.060000+08:00",
     "start_time": "2020-07-12T01:35:56.818Z"
    }
   },
   "outputs": [
    {
     "name": "stdout",
     "output_type": "stream",
     "text": [
      "fit1.matrix = ((0.0026808279257967637, 0.004460717050849894, 3.729529830296808e-7), (0.004460717050849894, 0.008670748910938015, 8.289868474538332e-7), (3.729529830296808e-7, 8.289868474538332e-7, 1.4150579833676482e-10))\n"
     ]
    },
    {
     "data": {
      "text/html": [
       "<table>\n",
       "<tr> <td/> <th> N </th> <th> c </th> <th> bg </th> </tr>\n",
       "<tr> <th> N </th> <td> 0.003 </td> <td style=\"background-color:rgb(250,111,111)\"> 0.004 </td> <td style=\"background-color:rgb(250,159,159)\"> 0.000 </td> </tr>\n",
       "<tr> <th> c </th> <td style=\"background-color:rgb(250,111,111)\"> 0.004 </td> <td> 0.009 </td> <td style=\"background-color:rgb(250,138,138)\"> 0.000 </td> </tr>\n",
       "<tr> <th> bg </th> <td style=\"background-color:rgb(250,159,159)\"> 0.000 </td> <td style=\"background-color:rgb(250,138,138)\"> 0.000 </td> <td> 0.000 </td> </tr>\n",
       "</table>\n"
      ],
      "text/plain": [
       "PyObject ((0.0026808279257967637, 0.004460717050849894, 3.729529830296808e-07), (0.004460717050849894, 0.008670748910938015, 8.289868474538332e-07), (3.729529830296808e-07, 8.289868474538332e-07, 1.4150579833676482e-10))"
      ]
     },
     "execution_count": 16,
     "metadata": {},
     "output_type": "execute_result"
    }
   ],
   "source": [
    "@show fit1.matrix\n",
    "matrix(fit1)"
   ]
  },
  {
   "cell_type": "code",
   "execution_count": 18,
   "metadata": {
    "ExecuteTime": {
     "end_time": "2020-07-12T09:36:05.388000+08:00",
     "start_time": "2020-07-12T01:36:05.339Z"
    }
   },
   "outputs": [
    {
     "name": "stdout",
     "output_type": "stream",
     "text": [
      "  0.030399 seconds (56.06 k allocations: 1.447 MiB)\n"
     ]
    },
    {
     "data": {
      "text/html": [
       "<table class=\"data-frame\"><thead><tr><th></th><th>chisq</th><th>N</th><th>c</th><th>bg</th></tr><tr><th></th><th>Float64</th><th>Float64</th><th>Float64</th><th>Float64</th></tr></thead><tbody><p>22 rows × 4 columns</p><tr><th>1</th><td>64.6799</td><td>2.61148</td><td>4.20103</td><td>-2.19212e-5</td></tr><tr><th>2</th><td>65.6799</td><td>2.56003</td><td>4.11414</td><td>-2.93031e-5</td></tr><tr><th>3</th><td>65.6799</td><td>2.66359</td><td>4.28643</td><td>-1.48855e-5</td></tr><tr><th>4</th><td>65.68</td><td>2.56385</td><td>4.10711</td><td>-3.10184e-5</td></tr><tr><th>5</th><td>65.6799</td><td>2.65961</td><td>4.29336</td><td>-1.32339e-5</td></tr><tr><th>6</th><td>65.68</td><td>2.5798</td><td>4.13027</td><td>-3.39527e-5</td></tr><tr><th>7</th><td>65.68</td><td>2.64221</td><td>4.2688</td><td>-1.01556e-5</td></tr><tr><th>8</th><td>65.68</td><td>2.56003</td><td>4.11439</td><td>-2.92436e-5</td></tr><tr><th>9</th><td>65.6799</td><td>2.5638</td><td>4.10711</td><td>-3.10202e-5</td></tr><tr><th>10</th><td>65.68</td><td>2.62543</td><td>4.19027</td><td>-2.56233e-5</td></tr><tr><th>11</th><td>65.6799</td><td>2.66359</td><td>4.28649</td><td>-1.48948e-5</td></tr><tr><th>12</th><td>65.6799</td><td>2.65962</td><td>4.29336</td><td>-1.32556e-5</td></tr><tr><th>13</th><td>65.68</td><td>2.56003</td><td>4.11426</td><td>-2.92484e-5</td></tr><tr><th>14</th><td>65.6801</td><td>2.57964</td><td>4.13014</td><td>-3.39527e-5</td></tr><tr><th>15</th><td>65.6799</td><td>2.62161</td><td>4.19628</td><td>-2.97972e-5</td></tr><tr><th>16</th><td>65.68</td><td>2.66359</td><td>4.28615</td><td>-1.48963e-5</td></tr><tr><th>17</th><td>65.68</td><td>2.64229</td><td>4.26894</td><td>-1.01556e-5</td></tr><tr><th>18</th><td>65.68</td><td>2.56393</td><td>4.10711</td><td>-3.10364e-5</td></tr><tr><th>19</th><td>65.68</td><td>2.5797</td><td>4.12981</td><td>-3.39527e-5</td></tr><tr><th>20</th><td>65.68</td><td>2.62357</td><td>4.21158</td><td>-2.87507e-5</td></tr><tr><th>21</th><td>65.68</td><td>2.65952</td><td>4.29336</td><td>-1.32348e-5</td></tr><tr><th>22</th><td>65.6799</td><td>2.64226</td><td>4.26916</td><td>-1.01556e-5</td></tr></tbody></table>"
      ],
      "text/latex": [
       "\\begin{tabular}{r|cccc}\n",
       "\t& chisq & N & c & bg\\\\\n",
       "\t\\hline\n",
       "\t& Float64 & Float64 & Float64 & Float64\\\\\n",
       "\t\\hline\n",
       "\t1 & 64.6799 & 2.61148 & 4.20103 & -2.19212e-5 \\\\\n",
       "\t2 & 65.6799 & 2.56003 & 4.11414 & -2.93031e-5 \\\\\n",
       "\t3 & 65.6799 & 2.66359 & 4.28643 & -1.48855e-5 \\\\\n",
       "\t4 & 65.68 & 2.56385 & 4.10711 & -3.10184e-5 \\\\\n",
       "\t5 & 65.6799 & 2.65961 & 4.29336 & -1.32339e-5 \\\\\n",
       "\t6 & 65.68 & 2.5798 & 4.13027 & -3.39527e-5 \\\\\n",
       "\t7 & 65.68 & 2.64221 & 4.2688 & -1.01556e-5 \\\\\n",
       "\t8 & 65.68 & 2.56003 & 4.11439 & -2.92436e-5 \\\\\n",
       "\t9 & 65.6799 & 2.5638 & 4.10711 & -3.10202e-5 \\\\\n",
       "\t10 & 65.68 & 2.62543 & 4.19027 & -2.56233e-5 \\\\\n",
       "\t11 & 65.6799 & 2.66359 & 4.28649 & -1.48948e-5 \\\\\n",
       "\t12 & 65.6799 & 2.65962 & 4.29336 & -1.32556e-5 \\\\\n",
       "\t13 & 65.68 & 2.56003 & 4.11426 & -2.92484e-5 \\\\\n",
       "\t14 & 65.6801 & 2.57964 & 4.13014 & -3.39527e-5 \\\\\n",
       "\t15 & 65.6799 & 2.62161 & 4.19628 & -2.97972e-5 \\\\\n",
       "\t16 & 65.68 & 2.66359 & 4.28615 & -1.48963e-5 \\\\\n",
       "\t17 & 65.68 & 2.64229 & 4.26894 & -1.01556e-5 \\\\\n",
       "\t18 & 65.68 & 2.56393 & 4.10711 & -3.10364e-5 \\\\\n",
       "\t19 & 65.68 & 2.5797 & 4.12981 & -3.39527e-5 \\\\\n",
       "\t20 & 65.68 & 2.62357 & 4.21158 & -2.87507e-5 \\\\\n",
       "\t21 & 65.68 & 2.65952 & 4.29336 & -1.32348e-5 \\\\\n",
       "\t22 & 65.6799 & 2.64226 & 4.26916 & -1.01556e-5 \\\\\n",
       "\\end{tabular}\n"
      ],
      "text/plain": [
       "22×4 DataFrame\n",
       "│ Row │ chisq   │ N       │ c       │ bg          │\n",
       "│     │ \u001b[90mFloat64\u001b[39m │ \u001b[90mFloat64\u001b[39m │ \u001b[90mFloat64\u001b[39m │ \u001b[90mFloat64\u001b[39m     │\n",
       "├─────┼─────────┼─────────┼─────────┼─────────────┤\n",
       "│ 1   │ 64.6799 │ 2.61148 │ 4.20103 │ -2.19212e-5 │\n",
       "│ 2   │ 65.6799 │ 2.56003 │ 4.11414 │ -2.93031e-5 │\n",
       "│ 3   │ 65.6799 │ 2.66359 │ 4.28643 │ -1.48855e-5 │\n",
       "│ 4   │ 65.68   │ 2.56385 │ 4.10711 │ -3.10184e-5 │\n",
       "│ 5   │ 65.6799 │ 2.65961 │ 4.29336 │ -1.32339e-5 │\n",
       "│ 6   │ 65.68   │ 2.5798  │ 4.13027 │ -3.39527e-5 │\n",
       "│ 7   │ 65.68   │ 2.64221 │ 4.2688  │ -1.01556e-5 │\n",
       "│ 8   │ 65.68   │ 2.56003 │ 4.11439 │ -2.92436e-5 │\n",
       "│ 9   │ 65.6799 │ 2.5638  │ 4.10711 │ -3.10202e-5 │\n",
       "│ 10  │ 65.68   │ 2.62543 │ 4.19027 │ -2.56233e-5 │\n",
       "│ 11  │ 65.6799 │ 2.66359 │ 4.28649 │ -1.48948e-5 │\n",
       "│ 12  │ 65.6799 │ 2.65962 │ 4.29336 │ -1.32556e-5 │\n",
       "│ 13  │ 65.68   │ 2.56003 │ 4.11426 │ -2.92484e-5 │\n",
       "│ 14  │ 65.6801 │ 2.57964 │ 4.13014 │ -3.39527e-5 │\n",
       "│ 15  │ 65.6799 │ 2.62161 │ 4.19628 │ -2.97972e-5 │\n",
       "│ 16  │ 65.68   │ 2.66359 │ 4.28615 │ -1.48963e-5 │\n",
       "│ 17  │ 65.68   │ 2.64229 │ 4.26894 │ -1.01556e-5 │\n",
       "│ 18  │ 65.68   │ 2.56393 │ 4.10711 │ -3.10364e-5 │\n",
       "│ 19  │ 65.68   │ 2.5797  │ 4.12981 │ -3.39527e-5 │\n",
       "│ 20  │ 65.68   │ 2.62357 │ 4.21158 │ -2.87507e-5 │\n",
       "│ 21  │ 65.68   │ 2.65952 │ 4.29336 │ -1.32348e-5 │\n",
       "│ 22  │ 65.6799 │ 2.64226 │ 4.26916 │ -1.01556e-5 │"
      ]
     },
     "execution_count": 18,
     "metadata": {},
     "output_type": "execute_result"
    }
   ],
   "source": [
    "# this gives parameter sets at the 1σ boundary\n",
    "@time contour_df(fit1, χsq1, npts = 5)"
   ]
  },
  {
   "cell_type": "code",
   "execution_count": 20,
   "metadata": {},
   "outputs": [
    {
     "name": "stdout",
     "output_type": "stream",
     "text": [
      "  1.121674 seconds (2.72 M allocations: 87.125 MiB, 4.58% gc time)\n"
     ]
    },
    {
     "data": {
      "text/html": [
       "<table class=\"data-frame\"><thead><tr><th></th><th>chisq</th><th>N</th><th>c</th><th>bg</th></tr><tr><th></th><th>Float64</th><th>Float64</th><th>Float64</th><th>Float64</th></tr></thead><tbody><p>168 rows × 4 columns</p><tr><th>1</th><td>64.6799</td><td>2.61148</td><td>4.20103</td><td>-2.19212e-5</td></tr><tr><th>2</th><td>65.5073</td><td>2.56962</td><td>4.11594</td><td>-3.03416e-5</td></tr><tr><th>3</th><td>64.9254</td><td>2.63565</td><td>4.23498</td><td>-1.96192e-5</td></tr><tr><th>4</th><td>65.6177</td><td>2.56222</td><td>4.12314</td><td>-2.8078e-5</td></tr><tr><th>5</th><td>64.8431</td><td>2.62984</td><td>4.23828</td><td>-1.82591e-5</td></tr><tr><th>6</th><td>65.6722</td><td>2.66245</td><td>4.27809</td><td>-1.61106e-5</td></tr><tr><th>7</th><td>65.1872</td><td>2.62854</td><td>4.20707</td><td>-2.32734e-5</td></tr><tr><th>8</th><td>65.1948</td><td>2.64385</td><td>4.26689</td><td>-1.54546e-5</td></tr><tr><th>9</th><td>64.9147</td><td>2.58663</td><td>4.15745</td><td>-2.57081e-5</td></tr><tr><th>10</th><td>64.9352</td><td>2.63525</td><td>4.23278</td><td>-1.99227e-5</td></tr><tr><th>11</th><td>64.9659</td><td>2.63194</td><td>4.24758</td><td>-1.70113e-5</td></tr><tr><th>12</th><td>65.1888</td><td>2.63605</td><td>4.22287</td><td>-2.16651e-5</td></tr><tr><th>13</th><td>65.5824</td><td>2.63104</td><td>4.20277</td><td>-2.43333e-5</td></tr><tr><th>14</th><td>65.2395</td><td>2.60143</td><td>4.20987</td><td>-1.90993e-5</td></tr><tr><th>15</th><td>64.7876</td><td>2.60674</td><td>4.20427</td><td>-2.07278e-5</td></tr><tr><th>16</th><td>64.7876</td><td>2.62744</td><td>4.23148</td><td>-1.90953e-5</td></tr><tr><th>17</th><td>64.9752</td><td>2.59003</td><td>4.17756</td><td>-2.28542e-5</td></tr><tr><th>18</th><td>65.4389</td><td>2.57312</td><td>4.15265</td><td>-2.46366e-5</td></tr><tr><th>19</th><td>65.6606</td><td>2.64755</td><td>4.2852</td><td>-1.29847e-5</td></tr><tr><th>20</th><td>64.7571</td><td>2.59713</td><td>4.17676</td><td>-2.39796e-5</td></tr><tr><th>21</th><td>65.1569</td><td>2.59943</td><td>4.20397</td><td>-1.97807e-5</td></tr><tr><th>22</th><td>64.6919</td><td>2.61264</td><td>4.19917</td><td>-2.23931e-5</td></tr><tr><th>23</th><td>65.1956</td><td>2.61824</td><td>4.18736</td><td>-2.51283e-5</td></tr><tr><th>24</th><td>65.5094</td><td>2.57392</td><td>4.15735</td><td>-2.3969e-5</td></tr><tr><th>25</th><td>64.9619</td><td>2.61424</td><td>4.22427</td><td>-1.85054e-5</td></tr><tr><th>26</th><td>65.0639</td><td>2.59223</td><td>4.15125</td><td>-2.75959e-5</td></tr><tr><th>27</th><td>65.1067</td><td>2.59923</td><td>4.20217</td><td>-2.00465e-5</td></tr><tr><th>28</th><td>64.7869</td><td>2.61364</td><td>4.21607</td><td>-1.97349e-5</td></tr><tr><th>29</th><td>65.3967</td><td>2.60654</td><td>4.16305</td><td>-2.76185e-5</td></tr><tr><th>30</th><td>65.5409</td><td>2.65855</td><td>4.27099</td><td>-1.67528e-5</td></tr><tr><th>&vellip;</th><td>&vellip;</td><td>&vellip;</td><td>&vellip;</td><td>&vellip;</td></tr></tbody></table>"
      ],
      "text/latex": [
       "\\begin{tabular}{r|cccc}\n",
       "\t& chisq & N & c & bg\\\\\n",
       "\t\\hline\n",
       "\t& Float64 & Float64 & Float64 & Float64\\\\\n",
       "\t\\hline\n",
       "\t1 & 64.6799 & 2.61148 & 4.20103 & -2.19212e-5 \\\\\n",
       "\t2 & 65.5073 & 2.56962 & 4.11594 & -3.03416e-5 \\\\\n",
       "\t3 & 64.9254 & 2.63565 & 4.23498 & -1.96192e-5 \\\\\n",
       "\t4 & 65.6177 & 2.56222 & 4.12314 & -2.8078e-5 \\\\\n",
       "\t5 & 64.8431 & 2.62984 & 4.23828 & -1.82591e-5 \\\\\n",
       "\t6 & 65.6722 & 2.66245 & 4.27809 & -1.61106e-5 \\\\\n",
       "\t7 & 65.1872 & 2.62854 & 4.20707 & -2.32734e-5 \\\\\n",
       "\t8 & 65.1948 & 2.64385 & 4.26689 & -1.54546e-5 \\\\\n",
       "\t9 & 64.9147 & 2.58663 & 4.15745 & -2.57081e-5 \\\\\n",
       "\t10 & 64.9352 & 2.63525 & 4.23278 & -1.99227e-5 \\\\\n",
       "\t11 & 64.9659 & 2.63194 & 4.24758 & -1.70113e-5 \\\\\n",
       "\t12 & 65.1888 & 2.63605 & 4.22287 & -2.16651e-5 \\\\\n",
       "\t13 & 65.5824 & 2.63104 & 4.20277 & -2.43333e-5 \\\\\n",
       "\t14 & 65.2395 & 2.60143 & 4.20987 & -1.90993e-5 \\\\\n",
       "\t15 & 64.7876 & 2.60674 & 4.20427 & -2.07278e-5 \\\\\n",
       "\t16 & 64.7876 & 2.62744 & 4.23148 & -1.90953e-5 \\\\\n",
       "\t17 & 64.9752 & 2.59003 & 4.17756 & -2.28542e-5 \\\\\n",
       "\t18 & 65.4389 & 2.57312 & 4.15265 & -2.46366e-5 \\\\\n",
       "\t19 & 65.6606 & 2.64755 & 4.2852 & -1.29847e-5 \\\\\n",
       "\t20 & 64.7571 & 2.59713 & 4.17676 & -2.39796e-5 \\\\\n",
       "\t21 & 65.1569 & 2.59943 & 4.20397 & -1.97807e-5 \\\\\n",
       "\t22 & 64.6919 & 2.61264 & 4.19917 & -2.23931e-5 \\\\\n",
       "\t23 & 65.1956 & 2.61824 & 4.18736 & -2.51283e-5 \\\\\n",
       "\t24 & 65.5094 & 2.57392 & 4.15735 & -2.3969e-5 \\\\\n",
       "\t25 & 64.9619 & 2.61424 & 4.22427 & -1.85054e-5 \\\\\n",
       "\t26 & 65.0639 & 2.59223 & 4.15125 & -2.75959e-5 \\\\\n",
       "\t27 & 65.1067 & 2.59923 & 4.20217 & -2.00465e-5 \\\\\n",
       "\t28 & 64.7869 & 2.61364 & 4.21607 & -1.97349e-5 \\\\\n",
       "\t29 & 65.3967 & 2.60654 & 4.16305 & -2.76185e-5 \\\\\n",
       "\t30 & 65.5409 & 2.65855 & 4.27099 & -1.67528e-5 \\\\\n",
       "\t$\\dots$ & $\\dots$ & $\\dots$ & $\\dots$ & $\\dots$ \\\\\n",
       "\\end{tabular}\n"
      ],
      "text/plain": [
       "168×4 DataFrame\n",
       "│ Row │ chisq   │ N       │ c       │ bg          │\n",
       "│     │ \u001b[90mFloat64\u001b[39m │ \u001b[90mFloat64\u001b[39m │ \u001b[90mFloat64\u001b[39m │ \u001b[90mFloat64\u001b[39m     │\n",
       "├─────┼─────────┼─────────┼─────────┼─────────────┤\n",
       "│ 1   │ 64.6799 │ 2.61148 │ 4.20103 │ -2.19212e-5 │\n",
       "│ 2   │ 65.5073 │ 2.56962 │ 4.11594 │ -3.03416e-5 │\n",
       "│ 3   │ 64.9254 │ 2.63565 │ 4.23498 │ -1.96192e-5 │\n",
       "│ 4   │ 65.6177 │ 2.56222 │ 4.12314 │ -2.8078e-5  │\n",
       "│ 5   │ 64.8431 │ 2.62984 │ 4.23828 │ -1.82591e-5 │\n",
       "│ 6   │ 65.6722 │ 2.66245 │ 4.27809 │ -1.61106e-5 │\n",
       "│ 7   │ 65.1872 │ 2.62854 │ 4.20707 │ -2.32734e-5 │\n",
       "│ 8   │ 65.1948 │ 2.64385 │ 4.26689 │ -1.54546e-5 │\n",
       "│ 9   │ 64.9147 │ 2.58663 │ 4.15745 │ -2.57081e-5 │\n",
       "│ 10  │ 64.9352 │ 2.63525 │ 4.23278 │ -1.99227e-5 │\n",
       "⋮\n",
       "│ 158 │ 65.5511 │ 2.62764 │ 4.25879 │ -1.46066e-5 │\n",
       "│ 159 │ 65.0112 │ 2.61714 │ 4.23038 │ -1.78292e-5 │\n",
       "│ 160 │ 65.4158 │ 2.56812 │ 4.13384 │ -2.71111e-5 │\n",
       "│ 161 │ 64.7193 │ 2.60694 │ 4.18716 │ -2.36078e-5 │\n",
       "│ 162 │ 64.973  │ 2.59743 │ 4.19416 │ -2.11163e-5 │\n",
       "│ 163 │ 65.3821 │ 2.61834 │ 4.18326 │ -2.58085e-5 │\n",
       "│ 164 │ 65.2513 │ 2.61494 │ 4.23338 │ -1.70342e-5 │\n",
       "│ 165 │ 65.2743 │ 2.65155 │ 4.26819 │ -1.62732e-5 │\n",
       "│ 166 │ 64.7036 │ 2.61934 │ 4.21317 │ -2.09857e-5 │\n",
       "│ 167 │ 65.5457 │ 2.58043 │ 4.12364 │ -3.05723e-5 │\n",
       "│ 168 │ 64.8476 │ 2.63194 │ 4.23098 │ -1.97734e-5 │"
      ]
     },
     "execution_count": 20,
     "metadata": {},
     "output_type": "execute_result"
    }
   ],
   "source": [
    "# random sampling of parameters in given ranges, keeping those within 1σ\n",
    "@time parsam_df = contour_df_samples(fit1, χsq1, (:N, :c), ([2.5,2.8], [4.0,4.3]), nsamples = 3000)"
   ]
  },
  {
   "cell_type": "code",
   "execution_count": 21,
   "metadata": {
    "ExecuteTime": {
     "end_time": "2020-07-12T09:36:29.503000+08:00",
     "start_time": "2020-07-12T01:36:29.500Z"
    }
   },
   "outputs": [
    {
     "data": {
      "text/plain": [
       "((2.5616205401800602, 2.662654218072691), (4.111337112370791, 4.290896965655218))"
      ]
     },
     "execution_count": 21,
     "metadata": {},
     "output_type": "execute_result"
    }
   ],
   "source": [
    "# get parameter ranges\n",
    "extrema(parsam_df.:N), extrema(parsam_df.:c)"
   ]
  },
  {
   "cell_type": "code",
   "execution_count": 22,
   "metadata": {
    "ExecuteTime": {
     "end_time": "2020-07-12T09:36:30.728000+08:00",
     "start_time": "2020-07-12T01:36:30.360Z"
    }
   },
   "outputs": [
    {
     "data": {
      "image/png": "[encoded data removed]"
     },
     "execution_count": 22,
     "metadata": {},
     "output_type": "execute_result"
    }
   ],
   "source": [
    "scatter(parsam_df.:N, parsam_df.:c, xlab = \"N\", ylab = \"c\")"
   ]
  },
  {
   "cell_type": "code",
   "execution_count": 24,
   "metadata": {},
   "outputs": [
    {
     "name": "stdout",
     "output_type": "stream",
     "text": [
      "  0.256838 seconds (619.84 k allocations: 22.200 MiB)\n"
     ]
    },
    {
     "data": {
      "text/html": [
       "<table class=\"data-frame\"><thead><tr><th></th><th>chisq</th><th>x0</th><th>x1</th><th>x2</th></tr><tr><th></th><th>Float64</th><th>Float64</th><th>Float64</th><th>Float64</th></tr></thead><tbody><p>14 rows × 4 columns</p><tr><th>1</th><td>64.6799</td><td>2.61148</td><td>4.20103</td><td>-2.19212e-5</td></tr><tr><th>2</th><td>65.1487</td><td>2.58529</td><td>4.15465</td><td>-2.26727e-5</td></tr><tr><th>3</th><td>65.3413</td><td>2.59429</td><td>4.18168</td><td>-1.76276e-5</td></tr><tr><th>4</th><td>64.9135</td><td>2.61471</td><td>4.19279</td><td>-2.58559e-5</td></tr><tr><th>5</th><td>65.4099</td><td>2.62823</td><td>4.23003</td><td>-2.52553e-5</td></tr><tr><th>6</th><td>64.8081</td><td>2.61441</td><td>4.21532</td><td>-1.82282e-5</td></tr><tr><th>7</th><td>64.9823</td><td>2.61652</td><td>4.1961</td><td>-2.05706e-5</td></tr><tr><th>8</th><td>64.9631</td><td>2.58769</td><td>4.16366</td><td>-2.67568e-5</td></tr><tr><th>9</th><td>65.6156</td><td>2.58318</td><td>4.17237</td><td>-2.71772e-5</td></tr><tr><th>10</th><td>65.4836</td><td>2.65015</td><td>4.25285</td><td>-2.13514e-5</td></tr><tr><th>11</th><td>65.6701</td><td>2.56547</td><td>4.10961</td><td>-2.93393e-5</td></tr><tr><th>12</th><td>65.2734</td><td>2.63213</td><td>4.21562</td><td>-2.4955e-5</td></tr><tr><th>13</th><td>65.1976</td><td>2.62462</td><td>4.24655</td><td>-1.62462e-5</td></tr><tr><th>14</th><td>65.4716</td><td>2.62973</td><td>4.24865</td><td>-2.13514e-5</td></tr></tbody></table>"
      ],
      "text/latex": [
       "\\begin{tabular}{r|cccc}\n",
       "\t& chisq & x0 & x1 & x2\\\\\n",
       "\t\\hline\n",
       "\t& Float64 & Float64 & Float64 & Float64\\\\\n",
       "\t\\hline\n",
       "\t1 & 64.6799 & 2.61148 & 4.20103 & -2.19212e-5 \\\\\n",
       "\t2 & 65.1487 & 2.58529 & 4.15465 & -2.26727e-5 \\\\\n",
       "\t3 & 65.3413 & 2.59429 & 4.18168 & -1.76276e-5 \\\\\n",
       "\t4 & 64.9135 & 2.61471 & 4.19279 & -2.58559e-5 \\\\\n",
       "\t5 & 65.4099 & 2.62823 & 4.23003 & -2.52553e-5 \\\\\n",
       "\t6 & 64.8081 & 2.61441 & 4.21532 & -1.82282e-5 \\\\\n",
       "\t7 & 64.9823 & 2.61652 & 4.1961 & -2.05706e-5 \\\\\n",
       "\t8 & 64.9631 & 2.58769 & 4.16366 & -2.67568e-5 \\\\\n",
       "\t9 & 65.6156 & 2.58318 & 4.17237 & -2.71772e-5 \\\\\n",
       "\t10 & 65.4836 & 2.65015 & 4.25285 & -2.13514e-5 \\\\\n",
       "\t11 & 65.6701 & 2.56547 & 4.10961 & -2.93393e-5 \\\\\n",
       "\t12 & 65.2734 & 2.63213 & 4.21562 & -2.4955e-5 \\\\\n",
       "\t13 & 65.1976 & 2.62462 & 4.24655 & -1.62462e-5 \\\\\n",
       "\t14 & 65.4716 & 2.62973 & 4.24865 & -2.13514e-5 \\\\\n",
       "\\end{tabular}\n"
      ],
      "text/plain": [
       "14×4 DataFrame\n",
       "│ Row │ chisq   │ x0      │ x1      │ x2          │\n",
       "│     │ \u001b[90mFloat64\u001b[39m │ \u001b[90mFloat64\u001b[39m │ \u001b[90mFloat64\u001b[39m │ \u001b[90mFloat64\u001b[39m     │\n",
       "├─────┼─────────┼─────────┼─────────┼─────────────┤\n",
       "│ 1   │ 64.6799 │ 2.61148 │ 4.20103 │ -2.19212e-5 │\n",
       "│ 2   │ 65.1487 │ 2.58529 │ 4.15465 │ -2.26727e-5 │\n",
       "│ 3   │ 65.3413 │ 2.59429 │ 4.18168 │ -1.76276e-5 │\n",
       "│ 4   │ 64.9135 │ 2.61471 │ 4.19279 │ -2.58559e-5 │\n",
       "│ 5   │ 65.4099 │ 2.62823 │ 4.23003 │ -2.52553e-5 │\n",
       "│ 6   │ 64.8081 │ 2.61441 │ 4.21532 │ -1.82282e-5 │\n",
       "│ 7   │ 64.9823 │ 2.61652 │ 4.1961  │ -2.05706e-5 │\n",
       "│ 8   │ 64.9631 │ 2.58769 │ 4.16366 │ -2.67568e-5 │\n",
       "│ 9   │ 65.6156 │ 2.58318 │ 4.17237 │ -2.71772e-5 │\n",
       "│ 10  │ 65.4836 │ 2.65015 │ 4.25285 │ -2.13514e-5 │\n",
       "│ 11  │ 65.6701 │ 2.56547 │ 4.10961 │ -2.93393e-5 │\n",
       "│ 12  │ 65.2734 │ 2.63213 │ 4.21562 │ -2.4955e-5  │\n",
       "│ 13  │ 65.1976 │ 2.62462 │ 4.24655 │ -1.62462e-5 │\n",
       "│ 14  │ 65.4716 │ 2.62973 │ 4.24865 │ -2.13514e-5 │"
      ]
     },
     "execution_count": 24,
     "metadata": {},
     "output_type": "execute_result"
    }
   ],
   "source": [
    "@time contour_df_samples(fit, χsq, (:x0, :x1, :x2), ([2.5,2.8],  [4.0,4.3], (-3e-5,3e-5)), nsamples = 1000)"
   ]
  },
  {
   "cell_type": "code",
   "execution_count": 26,
   "metadata": {},
   "outputs": [
    {
     "name": "stdout",
     "output_type": "stream",
     "text": [
      "  0.056369 seconds (340.98 k allocations: 7.254 MiB)\n"
     ]
    },
    {
     "data": {
      "text/html": [
       "<table class=\"data-frame\"><thead><tr><th></th><th>chisq</th><th>x0</th><th>x1</th><th>x2</th></tr><tr><th></th><th>Float64</th><th>Float64</th><th>Float64</th><th>Float64</th></tr></thead><tbody><p>8 rows × 4 columns</p><tr><th>1</th><td>64.6799</td><td>2.61148</td><td>4.20103</td><td>-2.19212e-5</td></tr><tr><th>2</th><td>65.5614</td><td>2.56316</td><td>4.11968</td><td>-2.88302e-5</td></tr><tr><th>3</th><td>65.0779</td><td>2.57895</td><td>4.14646</td><td>-2.65198e-5</td></tr><tr><th>4</th><td>64.785</td><td>2.59474</td><td>4.17304</td><td>-2.42721e-5</td></tr><tr><th>5</th><td>64.6803</td><td>2.61053</td><td>4.19944</td><td>-2.20544e-5</td></tr><tr><th>6</th><td>64.7617</td><td>2.62632</td><td>4.2256</td><td>-1.98768e-5</td></tr><tr><th>7</th><td>65.0271</td><td>2.64211</td><td>4.2515</td><td>-1.77407e-5</td></tr><tr><th>8</th><td>65.4744</td><td>2.65789</td><td>4.27721</td><td>-1.56345e-5</td></tr></tbody></table>"
      ],
      "text/latex": [
       "\\begin{tabular}{r|cccc}\n",
       "\t& chisq & x0 & x1 & x2\\\\\n",
       "\t\\hline\n",
       "\t& Float64 & Float64 & Float64 & Float64\\\\\n",
       "\t\\hline\n",
       "\t1 & 64.6799 & 2.61148 & 4.20103 & -2.19212e-5 \\\\\n",
       "\t2 & 65.5614 & 2.56316 & 4.11968 & -2.88302e-5 \\\\\n",
       "\t3 & 65.0779 & 2.57895 & 4.14646 & -2.65198e-5 \\\\\n",
       "\t4 & 64.785 & 2.59474 & 4.17304 & -2.42721e-5 \\\\\n",
       "\t5 & 64.6803 & 2.61053 & 4.19944 & -2.20544e-5 \\\\\n",
       "\t6 & 64.7617 & 2.62632 & 4.2256 & -1.98768e-5 \\\\\n",
       "\t7 & 65.0271 & 2.64211 & 4.2515 & -1.77407e-5 \\\\\n",
       "\t8 & 65.4744 & 2.65789 & 4.27721 & -1.56345e-5 \\\\\n",
       "\\end{tabular}\n"
      ],
      "text/plain": [
       "8×4 DataFrame\n",
       "│ Row │ chisq   │ x0      │ x1      │ x2          │\n",
       "│     │ \u001b[90mFloat64\u001b[39m │ \u001b[90mFloat64\u001b[39m │ \u001b[90mFloat64\u001b[39m │ \u001b[90mFloat64\u001b[39m     │\n",
       "├─────┼─────────┼─────────┼─────────┼─────────────┤\n",
       "│ 1   │ 64.6799 │ 2.61148 │ 4.20103 │ -2.19212e-5 │\n",
       "│ 2   │ 65.5614 │ 2.56316 │ 4.11968 │ -2.88302e-5 │\n",
       "│ 3   │ 65.0779 │ 2.57895 │ 4.14646 │ -2.65198e-5 │\n",
       "│ 4   │ 64.785  │ 2.59474 │ 4.17304 │ -2.42721e-5 │\n",
       "│ 5   │ 64.6803 │ 2.61053 │ 4.19944 │ -2.20544e-5 │\n",
       "│ 6   │ 64.7617 │ 2.62632 │ 4.2256  │ -1.98768e-5 │\n",
       "│ 7   │ 65.0271 │ 2.64211 │ 4.2515  │ -1.77407e-5 │\n",
       "│ 8   │ 65.4744 │ 2.65789 │ 4.27721 │ -1.56345e-5 │"
      ]
     },
     "execution_count": 26,
     "metadata": {},
     "output_type": "execute_result"
    }
   ],
   "source": [
    "@time contour_df_samples(fit, χsq, :x0, (2.5,2.8), nsamples = 20)"
   ]
  },
  {
   "cell_type": "markdown",
   "metadata": {},
   "source": [
    "## Example A in the iminuit tutorial\n",
    "\n",
    "The example is [Example A: Fit of a gaussian model to a histogram](https://nbviewer.jupyter.org/github/scikit-hep/iminuit/blob/master/tutorial/automatic_differentiation.ipynb)"
   ]
  },
  {
   "cell_type": "code",
   "execution_count": null,
   "metadata": {},
   "outputs": [],
   "source": [
    "Pkg.add(\"SpecialFunctions\")"
   ]
  },
  {
   "cell_type": "code",
   "execution_count": 58,
   "metadata": {
    "ExecuteTime": {
     "end_time": "2020-07-10T18:57:19.573000+08:00",
     "start_time": "2020-07-10T10:57:19.555Z"
    }
   },
   "outputs": [],
   "source": [
    "using PyCall"
   ]
  },
  {
   "cell_type": "code",
   "execution_count": 59,
   "metadata": {
    "ExecuteTime": {
     "end_time": "2020-07-10T18:57:30.061000+08:00",
     "start_time": "2020-07-10T10:57:29.081Z"
    }
   },
   "outputs": [
    {
     "data": {
      "text/plain": [
       "([1, 0, 0, 0, 0, 0, 0, 0, 0, 0  …  0, 0, 0, 0, 0, 0, 0, 0, 0, 1], [-3.8378621427178974, -3.830092502694802, -3.8223228626717063, -3.8145532226486107, -3.806783582625515, -3.7990139426024196, -3.791244302579324, -3.7834746625562286, -3.775705022533133, -3.7679353825100375  …  3.8618511201697956, 3.869620760192891, 3.8773904002159867, 3.8851600402390822, 3.892929680262178, 3.9006993202852733, 3.908468960308369, 3.9162386003314644, 3.92400824035456, 3.931777880377655])"
      ]
     },
     "execution_count": 59,
     "metadata": {},
     "output_type": "execute_result"
    }
   ],
   "source": [
    "# import numpy from Python to generate the same data as in the example\n",
    "np = pyimport(:numpy)\n",
    "default_rng = pyimport(\"numpy.random\").default_rng\n",
    "rng = default_rng(seed=1)\n",
    "const w, xe = np.histogram(rng.normal(0, 1, 10000), bins=1000)"
   ]
  },
  {
   "cell_type": "code",
   "execution_count": 60,
   "metadata": {
    "ExecuteTime": {
     "end_time": "2020-07-10T18:57:31.301000+08:00",
     "start_time": "2020-07-10T10:57:30.918Z"
    }
   },
   "outputs": [
    {
     "data": {
      "text/plain": [
       "score (generic function with 1 method)"
      ]
     },
     "execution_count": 60,
     "metadata": {},
     "output_type": "execute_result"
    }
   ],
   "source": [
    "# define the model and the score function to minimize\n",
    "using SpecialFunctions\n",
    "\n",
    "function cdf(x, par)\n",
    "    mu, sigma = par\n",
    "    z = (x - mu) / sigma\n",
    "    return 0.5 * (1 + erf(z / sqrt(2))) \n",
    "end\n",
    "\n",
    "function score(par)\n",
    "    amp = par[1]\n",
    "    rest = par[2:end]\n",
    "    mu = amp * (cdf.(xe[2:end], Ref(rest)) - cdf.(xe[1:end-1], Ref(rest)) )\n",
    "    return 2 * sum(@. mu - w * log(mu + 1e-100))\n",
    "end"
   ]
  },
  {
   "cell_type": "code",
   "execution_count": 61,
   "metadata": {
    "ExecuteTime": {
     "end_time": "2020-07-10T18:57:32.110000+08:00",
     "start_time": "2020-07-10T10:57:31.974Z"
    }
   },
   "outputs": [],
   "source": [
    "const start_values = [1.5 * sum(w), 1.0, 2.0]\n",
    "const limits = [(0, nothing), nothing, (0, nothing)];"
   ]
  },
  {
   "cell_type": "code",
   "execution_count": 62,
   "metadata": {
    "ExecuteTime": {
     "end_time": "2020-07-10T18:57:33.509000+08:00",
     "start_time": "2020-07-10T10:57:32.950Z"
    }
   },
   "outputs": [],
   "source": [
    "# w/o grad\n",
    "m = Minuit(score, start_values, limit=limits)\n",
    "m.strategy = 0\n",
    "\n",
    "# using grad\n",
    "grad_fd(pars) =  gradient(score, pars)\n",
    "m_fd = Minuit(score, start_values, limit=limits, grad = grad_fd)\n",
    "m_fd.strategy = 0;"
   ]
  },
  {
   "cell_type": "code",
   "execution_count": 63,
   "metadata": {
    "ExecuteTime": {
     "end_time": "2020-07-10T18:57:46.990000+08:00",
     "start_time": "2020-07-10T10:57:34.329Z"
    }
   },
   "outputs": [
    {
     "name": "stdout",
     "output_type": "stream",
     "text": [
      "  627.100 μs (475 allocations: 460.64 KiB)\n"
     ]
    },
    {
     "data": {
      "text/html": [
       "<table>\n",
       "<tr> <td colspan=\"2\" style=\"text-align:center\" title=\"Minimum value of function\"> FCN = -3.871e+04 </td> <td colspan=\"3\" title=\"No. of calls in last algorithm and total number of calls\"> Ncalls = 8 (39692 total) </td> </tr>\n",
       "<tr> <td colspan=\"2\" style=\"text-align:center\" title=\"Estimated distance to minimum and target threshold\"> EDM = 2.01e-12 (Goal: 0.0002) </td> <td colspan=\"3\" title=\"Increase in FCN which corresponds to 1 standard deviation\"> up = 1.0 </td> </tr>\n",
       "<tr> <td title=\"Validity of the migrad call\"> Valid Min. </td> <td title=\"Validity of parameters\"> Valid Param. </td> <td title=\"Is EDM above goal EDM?\"> Above EDM </td> <td colspan=\"2\" title=\"Did last migrad call reach max call limit?\"> Reached call limit </td> </tr>\n",
       "<tr> <td style=\"background-color:#92CCA6;\"> True </td> <td style=\"background-color:#92CCA6;\"> True </td> <td style=\"background-color:#92CCA6;\"> False </td> <td colspan=\"2\" style=\"background-color:#92CCA6;\"> False </td> </tr>\n",
       "<tr> <td title=\"Did Hesse fail?\"> Hesse failed </td> <td title=\"Has covariance matrix\"> Has cov. </td> <td title=\"Is covariance matrix accurate?\"> Accurate </td> <td title=\"Is covariance matrix positive definite?\"> Pos. def. </td> <td title=\"Was positive definiteness enforced by Minuit?\"> Forced </td> </tr>\n",
       "<tr> <td style=\"background-color:#92CCA6;\"> False </td> <td style=\"background-color:#92CCA6;\"> True </td> <td style=\"background-color:#92CCA6;\"> True </td> <td style=\"background-color:#92CCA6;\"> True </td> <td style=\"background-color:#92CCA6;\"> False </td> </tr>\n",
       "</table>\n",
       "<table>\n",
       "<tr style=\"background-color:#F4F4F4;\"> <td/> <th title=\"Variable name\"> Name </th> <th title=\"Value of parameter\"> Value </th> <th title=\"Hesse error\"> Hesse Error </th> <th title=\"Minos lower error\"> Minos Error- </th> <th title=\"Minos upper error\"> Minos Error+ </th> <th title=\"Lower limit of the parameter\"> Limit- </th> <th title=\"Upper limit of the parameter\"> Limit+ </th> <th title=\"Is the parameter fixed in the fit\"> Fixed </th> </tr>\n",
       "<tr style=\"background-color:#FFFFFF;\"> <th> 0 </th> <td> x0 </td> <td> 10.0e3 </td> <td> 0.1e3 </td> <td>  </td> <td>  </td> <td> 0 </td> <td>  </td> <td>  </td> </tr>\n",
       "<tr style=\"background-color:#F4F4F4;\"> <th> 1 </th> <td> x1 </td> <td> -0.011 </td> <td> 0.010 </td> <td>  </td> <td>  </td> <td>  </td> <td>  </td> <td>  </td> </tr>\n",
       "<tr style=\"background-color:#FFFFFF;\"> <th> 2 </th> <td> x2 </td> <td> 0.999 </td> <td> 0.007 </td> <td>  </td> <td>  </td> <td> 0 </td> <td>  </td> <td>  </td> </tr>\n",
       "</table>\n"
      ],
      "text/plain": [
       "PyObject MigradResult(fmin=FMin(fval=-38710.19985212475, edm=2.0142820069460498e-12, tolerance=0.1, nfcn=8, ncalls=39692, up=1.0, is_valid=True, has_valid_parameters=True, has_accurate_covar=True, has_posdef_covar=True, has_made_posdef_covar=False, hesse_failed=False, has_covariance=True, is_above_max_edm=False, has_reached_call_limit=False), params=[Param(number=0, name='x0', value=10001.040137685515, error=99.56265139939478, is_const=False, is_fixed=False, has_limits=True, has_lower_limit=True, has_upper_limit=False, lower_limit=0.0, upper_limit=None), Param(number=1, name='x1', value=-0.01105171350465089, error=0.010013546547205668, is_const=False, is_fixed=False, has_limits=False, has_lower_limit=False, has_upper_limit=False, lower_limit=None, upper_limit=None), Param(number=2, name='x2', value=0.9992897105689829, error=0.007141203766656945, is_const=False, is_fixed=False, has_limits=True, has_lower_limit=True, has_upper_limit=False, lower_limit=0.0, upper_limit=None)])"
      ]
     },
     "execution_count": 63,
     "metadata": {},
     "output_type": "execute_result"
    }
   ],
   "source": [
    "@btime migrad(m)"
   ]
  },
  {
   "cell_type": "code",
   "execution_count": 64,
   "metadata": {
    "ExecuteTime": {
     "end_time": "2020-07-10T18:58:02.095000+08:00",
     "start_time": "2020-07-10T10:57:48.944Z"
    }
   },
   "outputs": [
    {
     "name": "stdout",
     "output_type": "stream",
     "text": [
      "  380.300 μs (257 allocations: 348.22 KiB)\n"
     ]
    },
    {
     "data": {
      "text/html": [
       "<table>\n",
       "<tr> <td colspan=\"2\" style=\"text-align:center\" title=\"Minimum value of function\"> FCN = -3.871e+04 </td> <td colspan=\"3\" title=\"No. of calls in last algorithm and total number of calls\"> Ncalls = 3 (27164 total) </td> </tr>\n",
       "<tr> <td colspan=\"2\" style=\"text-align:center\" title=\"Estimated distance to minimum and target threshold\"> EDM = 9.41e-12 (Goal: 0.0002) </td> <td colspan=\"3\" title=\"Increase in FCN which corresponds to 1 standard deviation\"> up = 1.0 </td> </tr>\n",
       "<tr> <td title=\"Validity of the migrad call\"> Valid Min. </td> <td title=\"Validity of parameters\"> Valid Param. </td> <td title=\"Is EDM above goal EDM?\"> Above EDM </td> <td colspan=\"2\" title=\"Did last migrad call reach max call limit?\"> Reached call limit </td> </tr>\n",
       "<tr> <td style=\"background-color:#92CCA6;\"> True </td> <td style=\"background-color:#92CCA6;\"> True </td> <td style=\"background-color:#92CCA6;\"> False </td> <td colspan=\"2\" style=\"background-color:#92CCA6;\"> False </td> </tr>\n",
       "<tr> <td title=\"Did Hesse fail?\"> Hesse failed </td> <td title=\"Has covariance matrix\"> Has cov. </td> <td title=\"Is covariance matrix accurate?\"> Accurate </td> <td title=\"Is covariance matrix positive definite?\"> Pos. def. </td> <td title=\"Was positive definiteness enforced by Minuit?\"> Forced </td> </tr>\n",
       "<tr> <td style=\"background-color:#92CCA6;\"> False </td> <td style=\"background-color:#92CCA6;\"> True </td> <td style=\"background-color:#92CCA6;\"> True </td> <td style=\"background-color:#92CCA6;\"> True </td> <td style=\"background-color:#92CCA6;\"> False </td> </tr>\n",
       "</table>\n",
       "<table>\n",
       "<tr style=\"background-color:#F4F4F4;\"> <td/> <th title=\"Variable name\"> Name </th> <th title=\"Value of parameter\"> Value </th> <th title=\"Hesse error\"> Hesse Error </th> <th title=\"Minos lower error\"> Minos Error- </th> <th title=\"Minos upper error\"> Minos Error+ </th> <th title=\"Lower limit of the parameter\"> Limit- </th> <th title=\"Upper limit of the parameter\"> Limit+ </th> <th title=\"Is the parameter fixed in the fit\"> Fixed </th> </tr>\n",
       "<tr style=\"background-color:#FFFFFF;\"> <th> 0 </th> <td> x0 </td> <td> 10.0e3 </td> <td> 0.1e3 </td> <td>  </td> <td>  </td> <td> 0 </td> <td>  </td> <td>  </td> </tr>\n",
       "<tr style=\"background-color:#F4F4F4;\"> <th> 1 </th> <td> x1 </td> <td> -0.011 </td> <td> 0.010 </td> <td>  </td> <td>  </td> <td>  </td> <td>  </td> <td>  </td> </tr>\n",
       "<tr style=\"background-color:#FFFFFF;\"> <th> 2 </th> <td> x2 </td> <td> 0.999 </td> <td> 0.007 </td> <td>  </td> <td>  </td> <td> 0 </td> <td>  </td> <td>  </td> </tr>\n",
       "</table>\n"
      ],
      "text/plain": [
       "PyObject MigradResult(fmin=FMin(fval=-38710.19985212736, edm=9.414200054796711e-12, tolerance=0.1, nfcn=3, ncalls=27164, up=1.0, is_valid=True, has_valid_parameters=True, has_accurate_covar=True, has_posdef_covar=True, has_made_posdef_covar=False, hesse_failed=False, has_covariance=True, is_above_max_edm=False, has_reached_call_limit=False), params=[Param(number=0, name='x0', value=10001.039987391317, error=99.95742260033421, is_const=False, is_fixed=False, has_limits=True, has_lower_limit=True, has_upper_limit=False, lower_limit=0.0, upper_limit=None), Param(number=1, name='x1', value=-0.011051729329187911, error=0.009992544958620243, is_const=False, is_fixed=False, has_limits=False, has_lower_limit=False, has_upper_limit=False, lower_limit=None, upper_limit=None), Param(number=2, name='x2', value=0.9992893655857928, error=0.00710107169380747, is_const=False, is_fixed=False, has_limits=True, has_lower_limit=True, has_upper_limit=False, lower_limit=0.0, upper_limit=None)])"
      ]
     },
     "execution_count": 64,
     "metadata": {},
     "output_type": "execute_result"
    }
   ],
   "source": [
    "@btime migrad(m_fd)"
   ]
  },
  {
   "cell_type": "code",
   "execution_count": null,
   "metadata": {},
   "outputs": [],
   "source": []
  }
 ],
 "metadata": {
  "@webio": {
   "lastCommId": null,
   "lastKernelId": null
  },
  "kernelspec": {
   "display_name": "Julia 1.5.1",
   "language": "julia",
   "name": "julia-1.5"
  },
  "language_info": {
   "file_extension": ".jl",
   "mimetype": "application/julia",
   "name": "julia",
   "version": "1.5.1"
  },
  "latex_envs": {
   "LaTeX_envs_menu_present": true,
   "autoclose": false,
   "autocomplete": true,
   "bibliofile": "biblio.bib",
   "cite_by": "apalike",
   "current_citInitial": 1,
   "eqLabelWithNumbers": true,
   "eqNumInitial": 1,
   "hotkeys": {
    "equation": "Ctrl-E",
    "itemize": "Ctrl-I"
   },
   "labels_anchors": false,
   "latex_user_defs": false,
   "report_style_numbering": false,
   "user_envs_cfg": false
  },
  "toc": {
   "base_numbering": 1,
   "nav_menu": {},
   "number_sections": true,
   "sideBar": true,
   "skip_h1_title": false,
   "title_cell": "Table of Contents",
   "title_sidebar": "Contents",
   "toc_cell": false,
   "toc_position": {},
   "toc_section_display": true,
   "toc_window_display": true
  },
  "varInspector": {
   "cols": {
    "lenName": 16,
    "lenType": 16,
    "lenVar": 40
   },
   "kernels_config": {
    "python": {
     "delete_cmd_postfix": "",
     "delete_cmd_prefix": "del ",
     "library": "var_list.py",
     "varRefreshCmd": "print(var_dic_list())"
    },
    "r": {
     "delete_cmd_postfix": ") ",
     "delete_cmd_prefix": "rm(",
     "library": "var_list.r",
     "varRefreshCmd": "cat(var_dic_list()) "
    }
   },
   "types_to_exclude": [
    "module",
    "function",
    "builtin_function_or_method",
    "instance",
    "_Feature"
   ],
   "window_display": false
  }
 },
 "nbformat": 4,
 "nbformat_minor": 4
}
