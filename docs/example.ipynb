{
 "cells": [
  {
   "cell_type": "code",
   "execution_count": 1,
   "metadata": {
    "ExecuteTime": {
     "end_time": "2020-07-12T09:33:05.694000+08:00",
     "start_time": "2020-07-12T01:32:29.378Z"
    }
   },
   "outputs": [
    {
     "name": "stderr",
     "output_type": "stream",
     "text": [
      "┌ Info: Precompiling IMinuit [beb75e20-2205-47e6-ad51-640e9c2309f1]\n",
      "└ @ Base loading.jl:1260\n"
     ]
    }
   ],
   "source": [
    "using IMinuit\n",
    "using BenchmarkTools"
   ]
  },
  {
   "cell_type": "code",
   "execution_count": 2,
   "metadata": {
    "ExecuteTime": {
     "end_time": "2020-07-12T09:33:08.473000+08:00",
     "start_time": "2020-07-12T01:33:06.799Z"
    }
   },
   "outputs": [
    {
     "data": {
      "text/plain": [
       "f1 (generic function with 1 method)"
      ]
     },
     "execution_count": 2,
     "metadata": {},
     "output_type": "execute_result"
    }
   ],
   "source": [
    "f(x) = x[1]^2 + (x[2]-1)^2 + (x[3]-2)^4\n",
    "f1(x, y, z) = x^2 + (y-1)^2 + (z-2)^4"
   ]
  },
  {
   "cell_type": "code",
   "execution_count": 3,
   "metadata": {
    "ExecuteTime": {
     "end_time": "2020-07-12T09:33:10.235000+08:00",
     "start_time": "2020-07-12T01:33:08.594Z"
    }
   },
   "outputs": [
    {
     "data": {
      "text/plain": [
       "Fit(PyObject <iminuit._libiminuit.Minuit object at 0x5642cd901390>)"
      ]
     },
     "execution_count": 3,
     "metadata": {},
     "output_type": "execute_result"
    }
   ],
   "source": [
    "m = Minuit(f, [1, 1, 4])\n",
    "gradf(x) = gradient(f, x)\n",
    "mgrad = Minuit(f, [1, 1, 4], grad = gradf)\n",
    "m1 = Minuit(f1, x = 1, y = 1, z = 4)"
   ]
  },
  {
   "cell_type": "code",
   "execution_count": 6,
   "metadata": {
    "ExecuteTime": {
     "end_time": "2020-07-12T09:33:17.658000+08:00",
     "start_time": "2020-07-12T01:33:17.653Z"
    }
   },
   "outputs": [
    {
     "data": {
      "text/html": [
       "<table>\n",
       "<tr> <td colspan=\"2\" style=\"text-align:center\" title=\"Minimum value of function\"> FCN = 9.493e-06 </td> <td colspan=\"3\" title=\"No. of calls in last algorithm and total number of calls\"> Ncalls = 43 (132 total) </td> </tr>\n",
       "<tr> <td colspan=\"2\" style=\"text-align:center\" title=\"Estimated distance to minimum and target threshold\"> EDM = 7.56e-06 (Goal: 0.0002) </td> <td colspan=\"3\" title=\"Increase in FCN which corresponds to 1 standard deviation\"> up = 1.0 </td> </tr>\n",
       "<tr> <td title=\"Validity of the migrad call\"> Valid Min. </td> <td title=\"Validity of parameters\"> Valid Param. </td> <td title=\"Is EDM above goal EDM?\"> Above EDM </td> <td colspan=\"2\" title=\"Did last migrad call reach max call limit?\"> Reached call limit </td> </tr>\n",
       "<tr> <td style=\"background-color:#92CCA6;\"> True </td> <td style=\"background-color:#92CCA6;\"> True </td> <td style=\"background-color:#92CCA6;\"> False </td> <td colspan=\"2\" style=\"background-color:#92CCA6;\"> False </td> </tr>\n",
       "<tr> <td title=\"Did Hesse fail?\"> Hesse failed </td> <td title=\"Has covariance matrix\"> Has cov. </td> <td title=\"Is covariance matrix accurate?\"> Accurate </td> <td title=\"Is covariance matrix positive definite?\"> Pos. def. </td> <td title=\"Was positive definiteness enforced by Minuit?\"> Forced </td> </tr>\n",
       "<tr> <td style=\"background-color:#92CCA6;\"> False </td> <td style=\"background-color:#92CCA6;\"> True </td> <td style=\"background-color:#92CCA6;\"> True </td> <td style=\"background-color:#92CCA6;\"> True </td> <td style=\"background-color:#92CCA6;\"> False </td> </tr>\n",
       "</table>\n",
       "<table>\n",
       "<tr style=\"background-color:#F4F4F4;\"> <td/> <th title=\"Variable name\"> Name </th> <th title=\"Value of parameter\"> Value </th> <th title=\"Hesse error\"> Hesse Error </th> <th title=\"Minos lower error\"> Minos Error- </th> <th title=\"Minos upper error\"> Minos Error+ </th> <th title=\"Lower limit of the parameter\"> Limit- </th> <th title=\"Upper limit of the parameter\"> Limit+ </th> <th title=\"Is the parameter fixed in the fit\"> Fixed </th> </tr>\n",
       "<tr style=\"background-color:#FFFFFF;\"> <th> 0 </th> <td> x0 </td> <td> -0 </td> <td> 1 </td> <td>  </td> <td>  </td> <td>  </td> <td>  </td> <td>  </td> </tr>\n",
       "<tr style=\"background-color:#F4F4F4;\"> <th> 1 </th> <td> x1 </td> <td> 1 </td> <td> 1 </td> <td>  </td> <td>  </td> <td>  </td> <td>  </td> <td>  </td> </tr>\n",
       "<tr style=\"background-color:#FFFFFF;\"> <th> 2 </th> <td> x2 </td> <td> 2 </td> <td> 8 </td> <td>  </td> <td>  </td> <td>  </td> <td>  </td> <td>  </td> </tr>\n",
       "</table>\n"
      ],
      "text/plain": [
       "PyObject MigradResult(fmin=FMin(fval=9.493387842144756e-06, edm=7.557948258070814e-06, tolerance=0.1, nfcn=43, ncalls=132, up=1.0, is_valid=True, has_valid_parameters=True, has_accurate_covar=True, has_posdef_covar=True, has_made_posdef_covar=False, hesse_failed=False, has_covariance=True, is_above_max_edm=False, has_reached_call_limit=False), params=[Param(number=0, name='x0', value=-0.0019219642482053087, error=1.0, is_const=False, is_fixed=False, has_limits=False, has_lower_limit=False, has_upper_limit=False, lower_limit=None, upper_limit=None), Param(number=1, name='x1', value=0.9999999999999999, error=0.9999999999999709, is_const=False, is_fixed=False, has_limits=False, has_lower_limit=False, has_upper_limit=False, lower_limit=None, upper_limit=None), Param(number=2, name='x2', value=2.049073444072341, error=8.314383563105013, is_const=False, is_fixed=False, has_limits=False, has_lower_limit=False, has_upper_limit=False, lower_limit=None, upper_limit=None)])"
      ]
     },
     "execution_count": 6,
     "metadata": {},
     "output_type": "execute_result"
    }
   ],
   "source": [
    "# using array parameters\n",
    "migrad(m)"
   ]
  },
  {
   "cell_type": "code",
   "execution_count": 7,
   "metadata": {
    "ExecuteTime": {
     "end_time": "2020-07-12T09:33:18.479000+08:00",
     "start_time": "2020-07-12T01:33:18.475Z"
    }
   },
   "outputs": [
    {
     "data": {
      "text/html": [
       "<table>\n",
       "<tr> <td colspan=\"2\" style=\"text-align:center\" title=\"Minimum value of function\"> FCN = 2.423e-06 </td> <td colspan=\"3\" title=\"No. of calls in last algorithm and total number of calls\"> Ncalls = 37 (106 total) </td> </tr>\n",
       "<tr> <td colspan=\"2\" style=\"text-align:center\" title=\"Estimated distance to minimum and target threshold\"> EDM = 2.11e-06 (Goal: 0.0002) </td> <td colspan=\"3\" title=\"Increase in FCN which corresponds to 1 standard deviation\"> up = 1.0 </td> </tr>\n",
       "<tr> <td title=\"Validity of the migrad call\"> Valid Min. </td> <td title=\"Validity of parameters\"> Valid Param. </td> <td title=\"Is EDM above goal EDM?\"> Above EDM </td> <td colspan=\"2\" title=\"Did last migrad call reach max call limit?\"> Reached call limit </td> </tr>\n",
       "<tr> <td style=\"background-color:#92CCA6;\"> True </td> <td style=\"background-color:#92CCA6;\"> True </td> <td style=\"background-color:#92CCA6;\"> False </td> <td colspan=\"2\" style=\"background-color:#92CCA6;\"> False </td> </tr>\n",
       "<tr> <td title=\"Did Hesse fail?\"> Hesse failed </td> <td title=\"Has covariance matrix\"> Has cov. </td> <td title=\"Is covariance matrix accurate?\"> Accurate </td> <td title=\"Is covariance matrix positive definite?\"> Pos. def. </td> <td title=\"Was positive definiteness enforced by Minuit?\"> Forced </td> </tr>\n",
       "<tr> <td style=\"background-color:#92CCA6;\"> False </td> <td style=\"background-color:#92CCA6;\"> True </td> <td style=\"background-color:#92CCA6;\"> True </td> <td style=\"background-color:#92CCA6;\"> True </td> <td style=\"background-color:#92CCA6;\"> False </td> </tr>\n",
       "</table>\n",
       "<table>\n",
       "<tr style=\"background-color:#F4F4F4;\"> <td/> <th title=\"Variable name\"> Name </th> <th title=\"Value of parameter\"> Value </th> <th title=\"Hesse error\"> Hesse Error </th> <th title=\"Minos lower error\"> Minos Error- </th> <th title=\"Minos upper error\"> Minos Error+ </th> <th title=\"Lower limit of the parameter\"> Limit- </th> <th title=\"Upper limit of the parameter\"> Limit+ </th> <th title=\"Is the parameter fixed in the fit\"> Fixed </th> </tr>\n",
       "<tr style=\"background-color:#FFFFFF;\"> <th> 0 </th> <td> x0 </td> <td> -0 </td> <td> 1 </td> <td>  </td> <td>  </td> <td>  </td> <td>  </td> <td>  </td> </tr>\n",
       "<tr style=\"background-color:#F4F4F4;\"> <th> 1 </th> <td> x1 </td> <td> 1 </td> <td> 1 </td> <td>  </td> <td>  </td> <td>  </td> <td>  </td> <td>  </td> </tr>\n",
       "<tr style=\"background-color:#FFFFFF;\"> <th> 2 </th> <td> x2 </td> <td> 2 </td> <td> 13 </td> <td>  </td> <td>  </td> <td>  </td> <td>  </td> <td>  </td> </tr>\n",
       "</table>\n"
      ],
      "text/plain": [
       "PyObject MigradResult(fmin=FMin(fval=2.4231940887475173e-06, edm=2.1075772834323686e-06, tolerance=0.1, nfcn=37, ncalls=106, up=1.0, is_valid=True, has_valid_parameters=True, has_accurate_covar=True, has_posdef_covar=True, has_made_posdef_covar=False, hesse_failed=False, has_covariance=True, is_above_max_edm=False, has_reached_call_limit=False), params=[Param(number=0, name='x0', value=-0.001217235334930265, error=1.0000000000000002, is_const=False, is_fixed=False, has_limits=False, has_lower_limit=False, has_upper_limit=False, lower_limit=None, upper_limit=None), Param(number=1, name='x1', value=1.0000000000000004, error=1.000000000000033, is_const=False, is_fixed=False, has_limits=False, has_lower_limit=False, has_upper_limit=False, lower_limit=None, upper_limit=None), Param(number=2, name='x2', value=2.0311500535484273, error=13.070201301113903, is_const=False, is_fixed=False, has_limits=False, has_lower_limit=False, has_upper_limit=False, lower_limit=None, upper_limit=None)])"
      ]
     },
     "execution_count": 7,
     "metadata": {},
     "output_type": "execute_result"
    }
   ],
   "source": [
    "# using array parameters, usign `ForwardDiff: gradient` to compute the gradient\n",
    "migrad(mgrad)"
   ]
  },
  {
   "cell_type": "code",
   "execution_count": 9,
   "metadata": {
    "ExecuteTime": {
     "end_time": "2020-07-12T09:33:22.202000+08:00",
     "start_time": "2020-07-12T01:33:22.198Z"
    }
   },
   "outputs": [
    {
     "data": {
      "text/html": [
       "<table>\n",
       "<tr> <td colspan=\"2\" style=\"text-align:center\" title=\"Minimum value of function\"> FCN = 9.493e-06 </td> <td colspan=\"3\" title=\"No. of calls in last algorithm and total number of calls\"> Ncalls = 43 (132 total) </td> </tr>\n",
       "<tr> <td colspan=\"2\" style=\"text-align:center\" title=\"Estimated distance to minimum and target threshold\"> EDM = 7.56e-06 (Goal: 0.0002) </td> <td colspan=\"3\" title=\"Increase in FCN which corresponds to 1 standard deviation\"> up = 1.0 </td> </tr>\n",
       "<tr> <td title=\"Validity of the migrad call\"> Valid Min. </td> <td title=\"Validity of parameters\"> Valid Param. </td> <td title=\"Is EDM above goal EDM?\"> Above EDM </td> <td colspan=\"2\" title=\"Did last migrad call reach max call limit?\"> Reached call limit </td> </tr>\n",
       "<tr> <td style=\"background-color:#92CCA6;\"> True </td> <td style=\"background-color:#92CCA6;\"> True </td> <td style=\"background-color:#92CCA6;\"> False </td> <td colspan=\"2\" style=\"background-color:#92CCA6;\"> False </td> </tr>\n",
       "<tr> <td title=\"Did Hesse fail?\"> Hesse failed </td> <td title=\"Has covariance matrix\"> Has cov. </td> <td title=\"Is covariance matrix accurate?\"> Accurate </td> <td title=\"Is covariance matrix positive definite?\"> Pos. def. </td> <td title=\"Was positive definiteness enforced by Minuit?\"> Forced </td> </tr>\n",
       "<tr> <td style=\"background-color:#92CCA6;\"> False </td> <td style=\"background-color:#92CCA6;\"> True </td> <td style=\"background-color:#92CCA6;\"> True </td> <td style=\"background-color:#92CCA6;\"> True </td> <td style=\"background-color:#92CCA6;\"> False </td> </tr>\n",
       "</table>\n",
       "<table>\n",
       "<tr style=\"background-color:#F4F4F4;\"> <td/> <th title=\"Variable name\"> Name </th> <th title=\"Value of parameter\"> Value </th> <th title=\"Hesse error\"> Hesse Error </th> <th title=\"Minos lower error\"> Minos Error- </th> <th title=\"Minos upper error\"> Minos Error+ </th> <th title=\"Lower limit of the parameter\"> Limit- </th> <th title=\"Upper limit of the parameter\"> Limit+ </th> <th title=\"Is the parameter fixed in the fit\"> Fixed </th> </tr>\n",
       "<tr style=\"background-color:#FFFFFF;\"> <th> 0 </th> <td> x </td> <td> -0 </td> <td> 1 </td> <td>  </td> <td>  </td> <td>  </td> <td>  </td> <td>  </td> </tr>\n",
       "<tr style=\"background-color:#F4F4F4;\"> <th> 1 </th> <td> y </td> <td> 1 </td> <td> 1 </td> <td>  </td> <td>  </td> <td>  </td> <td>  </td> <td>  </td> </tr>\n",
       "<tr style=\"background-color:#FFFFFF;\"> <th> 2 </th> <td> z </td> <td> 2 </td> <td> 8 </td> <td>  </td> <td>  </td> <td>  </td> <td>  </td> <td>  </td> </tr>\n",
       "</table>\n"
      ],
      "text/plain": [
       "PyObject MigradResult(fmin=FMin(fval=9.493387842144756e-06, edm=7.557948258070814e-06, tolerance=0.1, nfcn=43, ncalls=132, up=1.0, is_valid=True, has_valid_parameters=True, has_accurate_covar=True, has_posdef_covar=True, has_made_posdef_covar=False, hesse_failed=False, has_covariance=True, is_above_max_edm=False, has_reached_call_limit=False), params=[Param(number=0, name='x', value=-0.0019219642482053087, error=1.0, is_const=False, is_fixed=False, has_limits=False, has_lower_limit=False, has_upper_limit=False, lower_limit=None, upper_limit=None), Param(number=1, name='y', value=0.9999999999999999, error=0.9999999999999709, is_const=False, is_fixed=False, has_limits=False, has_lower_limit=False, has_upper_limit=False, lower_limit=None, upper_limit=None), Param(number=2, name='z', value=2.049073444072341, error=8.314383563105013, is_const=False, is_fixed=False, has_limits=False, has_lower_limit=False, has_upper_limit=False, lower_limit=None, upper_limit=None)])"
      ]
     },
     "execution_count": 9,
     "metadata": {},
     "output_type": "execute_result"
    }
   ],
   "source": [
    "# parameters are given individually\n",
    "migrad(m1)"
   ]
  },
  {
   "cell_type": "code",
   "execution_count": 7,
   "metadata": {
    "ExecuteTime": {
     "end_time": "2020-07-09T11:37:10.415000+08:00",
     "start_time": "2020-07-09T03:37:07.550Z"
    }
   },
   "outputs": [
    {
     "data": {
      "text/plain": [
       "102-element Array{Symbol,1}:\n",
       " :LEAST_SQUARES\n",
       " :LIKELIHOOD\n",
       " :__class__\n",
       " :__delattr__\n",
       " :__dir__\n",
       " :__doc__\n",
       " :__eq__\n",
       " :__format__\n",
       " :__ge__\n",
       " :__getattribute__\n",
       " :__gt__\n",
       " :__hash__\n",
       " :__init__\n",
       " ⋮\n",
       " :profile\n",
       " :set_errordef\n",
       " :set_print_level\n",
       " :set_strategy\n",
       " :set_up\n",
       " :strategy\n",
       " :throw_nan\n",
       " :tol\n",
       " :use_array_call\n",
       " :valid\n",
       " :values\n",
       " :var2pos"
      ]
     },
     "execution_count": 7,
     "metadata": {},
     "output_type": "execute_result"
    }
   ],
   "source": [
    "propertynames(m)"
   ]
  },
  {
   "cell_type": "code",
   "execution_count": 8,
   "metadata": {
    "ExecuteTime": {
     "end_time": "2020-07-09T11:37:23.301000+08:00",
     "start_time": "2020-07-09T03:37:21.957Z"
    }
   },
   "outputs": [
    {
     "name": "stdout",
     "output_type": "stream",
     "text": [
      "search: \u001b[0m\u001b[1mm\u001b[22m\u001b[0m\u001b[1mi\u001b[22m\u001b[0m\u001b[1mg\u001b[22m\u001b[0m\u001b[1mr\u001b[22m\u001b[0m\u001b[1ma\u001b[22m\u001b[0m\u001b[1md\u001b[22m\n",
      "\n"
     ]
    },
    {
     "data": {
      "text/plain": [
       "Minuit.migrad(self, unsigned int ncall=0, resume=True, int nsplit=1, precision=None)\n",
       "Run MIGRAD.\n",
       "\n",
       "        MIGRAD is a robust minimisation algorithm which earned its reputation\n",
       "        in 40+ years of almost exclusive usage in high-energy physics. How\n",
       "        MIGRAD works is described in the `MINUIT paper`_.\n",
       "\n",
       "        **Arguments:**\n",
       "\n",
       "            * **ncall**: integer (approximate) maximum number of call before\n",
       "              MIGRAD will stop trying. Default: 0 (indicates to use MIGRAD's\n",
       "              internal heuristic). Using nsplit > 1 requires ncall > 0.\n",
       "              Note: MIGRAD may slightly violate this limit,\n",
       "              because it checks the condition only after a full iteration of the\n",
       "              algorithm, which usually performs several function calls.\n",
       "\n",
       "            * **resume**: boolean indicating whether MIGRAD should resume from\n",
       "              the previous minimiser attempt(True) or should start from the\n",
       "              beginning(False). Default True.\n",
       "\n",
       "            * **nsplit**: split MIGRAD in to *split* runs. Max fcn call\n",
       "              for each run is ncall/nsplit. MIGRAD stops when it found the\n",
       "              function minimum to be valid or ncall is reached. This is useful\n",
       "              for getting progress. However, you need to make sure that\n",
       "              ncall/nsplit is large enough. Otherwise, MIGRAD will think\n",
       "              that the minimum is invalid due to exceeding max call\n",
       "              (ncall/nsplit). Default 1(no split).\n",
       "\n",
       "            * **precision**: override miniut own's internal precision.\n",
       "\n",
       "        **Return:**\n",
       "\n",
       "            :ref:`function-minimum-sruct`, list of :ref:`minuit-param-struct`\n",
       "        "
      ]
     },
     "execution_count": 8,
     "metadata": {},
     "output_type": "execute_result"
    }
   ],
   "source": [
    "# the doc strings are from `iminuit`\n",
    "?migrad"
   ]
  },
  {
   "cell_type": "markdown",
   "metadata": {},
   "source": [
    "## Example: Fit to the BES data of the π⁺π⁻ energy distribution of ψ'→J/ψπ⁺π⁻\n",
    "\n",
    "The data are taken from [BES Collaboration, Phys. Rev. D 62 (2000) 032002](https://inspirehep.net/literature/507637).\n",
    "\n",
    "Here we use a simple model, which is not meant to be the correct one, to fit to the data."
   ]
  },
  {
   "cell_type": "code",
   "execution_count": 10,
   "metadata": {
    "ExecuteTime": {
     "end_time": "2020-07-12T09:34:02.836000+08:00",
     "start_time": "2020-07-12T01:33:29.773Z"
    }
   },
   "outputs": [],
   "source": [
    "using CSV\n",
    "using DataFrames\n",
    "using Plots\n",
    "pyplot()\n",
    "default(framestyle = :box, minorticks = 4)\n",
    "using LaTeXStrings"
   ]
  },
  {
   "cell_type": "code",
   "execution_count": 11,
   "metadata": {
    "ExecuteTime": {
     "end_time": "2020-07-12T09:34:27.793000+08:00",
     "start_time": "2020-07-12T01:33:46.638Z"
    }
   },
   "outputs": [
    {
     "data": {
      "text/plain": [
       "Data([0.303, 0.309, 0.321, 0.327, 0.333, 0.339, 0.345, 0.351, 0.357, 0.363  …  0.531, 0.537, 0.543, 0.549, 0.555, 0.561, 0.567, 0.573, 0.579, 0.585], [8.522656, 44.87459, 29.63286, 58.13258, 28.2143, 129.0572, 181.7821, 199.5301, 269.4043, 186.1139  …  5217.45, 5867.647, 5717.979, 5527.38, 5548.063, 5386.82, 5425.564, 4744.075, 3899.626, 2725.864], [14.44523, 78.24785, 23.01279, 28.29703, 14.79316, 35.48893, 43.7948, 42.20547, 49.41916, 42.54225  …  164.0276, 174.4779, 169.0323, 165.0818, 164.632, 160.1847, 160.5301, 149.5817, 138.9569, 117.8775], 47)"
      ]
     },
     "execution_count": 11,
     "metadata": {},
     "output_type": "execute_result"
    }
   ],
   "source": [
    "data_df = DataFrame!(CSV.File(\"./testdata.csv\"))\n",
    "const data = Data(data_df)"
   ]
  },
  {
   "cell_type": "code",
   "execution_count": 14,
   "metadata": {
    "ExecuteTime": {
     "end_time": "2020-07-12T09:34:53.925000+08:00",
     "start_time": "2020-07-12T01:34:53.649Z"
    }
   },
   "outputs": [
    {
     "data": {
      "image/png": "[encoded data removed]"
     },
     "execution_count": 14,
     "metadata": {},
     "output_type": "execute_result"
    }
   ],
   "source": [
    "@plt_data data"
   ]
  },
  {
   "cell_type": "code",
   "execution_count": 15,
   "metadata": {
    "ExecuteTime": {
     "end_time": "2020-07-12T09:34:55.930000+08:00",
     "start_time": "2020-07-12T01:34:55.918Z"
    }
   },
   "outputs": [
    {
     "data": {
      "text/plain": [
       "dist (generic function with 2 methods)"
      ]
     },
     "execution_count": 15,
     "metadata": {},
     "output_type": "execute_result"
    }
   ],
   "source": [
    "const M = 3.686; const mπ = 0.14; const mJ = 3.097; \n",
    "\n",
    "λ(x, y, z) = x^2 + y^2 + z^2 - 2x*y - 2y*z - 2z*x\n",
    "\n",
    "# a simple function that will be used to fit the data: QCD multipole expansion model for ψ'→J/ψπ⁺π⁻\n",
    "# The important ππ FSI effect is not taken into account\n",
    "# bg is just for introducing a third parameter\n",
    "function dist(w, N, c, bg) \n",
    "    if (w ≤ 2mπ || w ≥ M-mJ)\n",
    "        res = 0.0\n",
    "    else\n",
    "        q1 = sqrt(λ(w^2, mπ^2, mπ^2))/(2w)\n",
    "        q2 = sqrt(λ(M^2, w^2, mJ^2))/(2M)\n",
    "        res = N * q1 * q2 * (w^2 - c*mπ^2)^2 + bg\n",
    "    end\n",
    "    return res * 1e6\n",
    "end;\n",
    "\n",
    "dist(x, p) = dist(x, p...)"
   ]
  },
  {
   "cell_type": "code",
   "execution_count": 16,
   "metadata": {
    "ExecuteTime": {
     "end_time": "2020-07-12T09:34:58.784000+08:00",
     "start_time": "2020-07-12T01:34:58.780Z"
    }
   },
   "outputs": [],
   "source": [
    "# parameters in an array/tuple\n",
    "# χsq(par) = chisq((x, p) -> dist(x, p...), data, par)\n",
    "χsq(par) = chisq(dist, data, par)\n",
    "\n",
    "# parameters given individually\n",
    "χsq1(N, c, bg) = chisq(dist, data, (N, c, bg));"
   ]
  },
  {
   "cell_type": "code",
   "execution_count": 18,
   "metadata": {
    "ExecuteTime": {
     "end_time": "2020-07-12T09:35:04.940000+08:00",
     "start_time": "2020-07-12T01:35:04.587Z"
    }
   },
   "outputs": [],
   "source": [
    "# parameters are collected into a tuple or an array, which is the only variable of χsq\n",
    "gradf(par) = gradient(χsq, par)\n",
    "fit = Minuit(χsq, [1, 2, 0], error = 0.1*ones(3), grad = gradf)\n",
    "fit.strategy = 1;"
   ]
  },
  {
   "cell_type": "code",
   "execution_count": 19,
   "metadata": {
    "ExecuteTime": {
     "end_time": "2020-07-12T09:35:06.175000+08:00",
     "start_time": "2020-07-12T01:35:05.899Z"
    }
   },
   "outputs": [],
   "source": [
    "# all parameters are vairables of χsq\n",
    "fit1 = Minuit(χsq1, N = 1, c = 2, bg = 0, error_N = 0.1, error_c = 0.1, error_bg = 0.1)\n",
    "fit1.strategy = 1;"
   ]
  },
  {
   "cell_type": "code",
   "execution_count": 20,
   "metadata": {
    "ExecuteTime": {
     "end_time": "2020-07-12T09:35:16.578000+08:00",
     "start_time": "2020-07-12T01:35:06.799Z"
    }
   },
   "outputs": [
    {
     "name": "stdout",
     "output_type": "stream",
     "text": [
      "  96.200 μs (1443 allocations: 36.52 KiB)\n"
     ]
    },
    {
     "data": {
      "text/html": [
       "<table>\n",
       "<tr> <td colspan=\"2\" style=\"text-align:center\" title=\"Minimum value of function\"> FCN = 64.68 </td> <td colspan=\"3\" title=\"No. of calls in last algorithm and total number of calls\"> Ncalls = 3 (125106 total) </td> </tr>\n",
       "<tr> <td colspan=\"2\" style=\"text-align:center\" title=\"Estimated distance to minimum and target threshold\"> EDM = 9.36e-15 (Goal: 0.0002) </td> <td colspan=\"3\" title=\"Increase in FCN which corresponds to 1 standard deviation\"> up = 1.0 </td> </tr>\n",
       "<tr> <td title=\"Validity of the migrad call\"> Valid Min. </td> <td title=\"Validity of parameters\"> Valid Param. </td> <td title=\"Is EDM above goal EDM?\"> Above EDM </td> <td colspan=\"2\" title=\"Did last migrad call reach max call limit?\"> Reached call limit </td> </tr>\n",
       "<tr> <td style=\"background-color:#92CCA6;\"> True </td> <td style=\"background-color:#92CCA6;\"> True </td> <td style=\"background-color:#92CCA6;\"> False </td> <td colspan=\"2\" style=\"background-color:#92CCA6;\"> False </td> </tr>\n",
       "<tr> <td title=\"Did Hesse fail?\"> Hesse failed </td> <td title=\"Has covariance matrix\"> Has cov. </td> <td title=\"Is covariance matrix accurate?\"> Accurate </td> <td title=\"Is covariance matrix positive definite?\"> Pos. def. </td> <td title=\"Was positive definiteness enforced by Minuit?\"> Forced </td> </tr>\n",
       "<tr> <td style=\"background-color:#92CCA6;\"> False </td> <td style=\"background-color:#92CCA6;\"> True </td> <td style=\"background-color:#92CCA6;\"> True </td> <td style=\"background-color:#92CCA6;\"> True </td> <td style=\"background-color:#92CCA6;\"> False </td> </tr>\n",
       "</table>\n",
       "<table>\n",
       "<tr style=\"background-color:#F4F4F4;\"> <td/> <th title=\"Variable name\"> Name </th> <th title=\"Value of parameter\"> Value </th> <th title=\"Hesse error\"> Hesse Error </th> <th title=\"Minos lower error\"> Minos Error- </th> <th title=\"Minos upper error\"> Minos Error+ </th> <th title=\"Lower limit of the parameter\"> Limit- </th> <th title=\"Upper limit of the parameter\"> Limit+ </th> <th title=\"Is the parameter fixed in the fit\"> Fixed </th> </tr>\n",
       "<tr style=\"background-color:#FFFFFF;\"> <th> 0 </th> <td> x0 </td> <td> 2.61 </td> <td> 0.05 </td> <td> -0.05 </td> <td> 0.05 </td> <td>  </td> <td>  </td> <td>  </td> </tr>\n",
       "<tr style=\"background-color:#F4F4F4;\"> <th> 1 </th> <td> x1 </td> <td> 4.20 </td> <td> 0.09 </td> <td> -0.09 </td> <td> 0.09 </td> <td>  </td> <td>  </td> <td>  </td> </tr>\n",
       "<tr style=\"background-color:#FFFFFF;\"> <th> 2 </th> <td> x2 </td> <td> -0.022e-3 </td> <td> 0.012e-3 </td> <td> -0.012e-3 </td> <td> 0.012e-3 </td> <td>  </td> <td>  </td> <td>  </td> </tr>\n",
       "</table>\n"
      ],
      "text/plain": [
       "PyObject MigradResult(fmin=FMin(fval=64.67993733507895, edm=9.357751294516442e-15, tolerance=0.1, nfcn=3, ncalls=125106, up=1.0, is_valid=True, has_valid_parameters=True, has_accurate_covar=True, has_posdef_covar=True, has_made_posdef_covar=False, hesse_failed=False, has_covariance=True, is_above_max_edm=False, has_reached_call_limit=False), params=[Param(number=0, name='x0', value=2.6114833151653025, error=0.05177673323060879, is_const=False, is_fixed=False, has_limits=False, has_lower_limit=False, has_upper_limit=False, lower_limit=None, upper_limit=None), Param(number=1, name='x1', value=4.201031332818215, error=0.09311776395965805, is_const=False, is_fixed=False, has_limits=False, has_lower_limit=False, has_upper_limit=False, lower_limit=None, upper_limit=None), Param(number=2, name='x2', value=-2.1921187450274414e-05, error=1.1895993246464892e-05, is_const=False, is_fixed=False, has_limits=False, has_lower_limit=False, has_upper_limit=False, lower_limit=None, upper_limit=None)])"
      ]
     },
     "execution_count": 20,
     "metadata": {},
     "output_type": "execute_result"
    }
   ],
   "source": [
    "@btime migrad(fit)\n",
    "minos(fit)\n",
    "migrad(fit)"
   ]
  },
  {
   "cell_type": "code",
   "execution_count": 21,
   "metadata": {
    "ExecuteTime": {
     "end_time": "2020-07-12T09:35:24.767000+08:00",
     "start_time": "2020-07-12T01:35:07.908Z"
    }
   },
   "outputs": [
    {
     "name": "stdout",
     "output_type": "stream",
     "text": [
      "  85.600 μs (565 allocations: 10.80 KiB)\n"
     ]
    },
    {
     "data": {
      "text/html": [
       "<table>\n",
       "<tr> <td colspan=\"2\" style=\"text-align:center\" title=\"Minimum value of function\"> FCN = 64.68 </td> <td colspan=\"3\" title=\"No. of calls in last algorithm and total number of calls\"> Ncalls = 14 (633748 total) </td> </tr>\n",
       "<tr> <td colspan=\"2\" style=\"text-align:center\" title=\"Estimated distance to minimum and target threshold\"> EDM = 1.52e-14 (Goal: 0.0002) </td> <td colspan=\"3\" title=\"Increase in FCN which corresponds to 1 standard deviation\"> up = 1.0 </td> </tr>\n",
       "<tr> <td title=\"Validity of the migrad call\"> Valid Min. </td> <td title=\"Validity of parameters\"> Valid Param. </td> <td title=\"Is EDM above goal EDM?\"> Above EDM </td> <td colspan=\"2\" title=\"Did last migrad call reach max call limit?\"> Reached call limit </td> </tr>\n",
       "<tr> <td style=\"background-color:#92CCA6;\"> True </td> <td style=\"background-color:#92CCA6;\"> True </td> <td style=\"background-color:#92CCA6;\"> False </td> <td colspan=\"2\" style=\"background-color:#92CCA6;\"> False </td> </tr>\n",
       "<tr> <td title=\"Did Hesse fail?\"> Hesse failed </td> <td title=\"Has covariance matrix\"> Has cov. </td> <td title=\"Is covariance matrix accurate?\"> Accurate </td> <td title=\"Is covariance matrix positive definite?\"> Pos. def. </td> <td title=\"Was positive definiteness enforced by Minuit?\"> Forced </td> </tr>\n",
       "<tr> <td style=\"background-color:#92CCA6;\"> False </td> <td style=\"background-color:#92CCA6;\"> True </td> <td style=\"background-color:#92CCA6;\"> True </td> <td style=\"background-color:#92CCA6;\"> True </td> <td style=\"background-color:#92CCA6;\"> False </td> </tr>\n",
       "</table>\n",
       "<table>\n",
       "<tr style=\"background-color:#F4F4F4;\"> <td/> <th title=\"Variable name\"> Name </th> <th title=\"Value of parameter\"> Value </th> <th title=\"Hesse error\"> Hesse Error </th> <th title=\"Minos lower error\"> Minos Error- </th> <th title=\"Minos upper error\"> Minos Error+ </th> <th title=\"Lower limit of the parameter\"> Limit- </th> <th title=\"Upper limit of the parameter\"> Limit+ </th> <th title=\"Is the parameter fixed in the fit\"> Fixed </th> </tr>\n",
       "<tr style=\"background-color:#FFFFFF;\"> <th> 0 </th> <td> N </td> <td> 2.61 </td> <td> 0.05 </td> <td> -0.05 </td> <td> 0.05 </td> <td>  </td> <td>  </td> <td>  </td> </tr>\n",
       "<tr style=\"background-color:#F4F4F4;\"> <th> 1 </th> <td> c </td> <td> 4.20 </td> <td> 0.09 </td> <td> -0.09 </td> <td> 0.09 </td> <td>  </td> <td>  </td> <td>  </td> </tr>\n",
       "<tr style=\"background-color:#FFFFFF;\"> <th> 2 </th> <td> bg </td> <td> -0.022e-3 </td> <td> 0.012e-3 </td> <td> -0.012e-3 </td> <td> 0.012e-3 </td> <td>  </td> <td>  </td> <td>  </td> </tr>\n",
       "</table>\n"
      ],
      "text/plain": [
       "PyObject MigradResult(fmin=FMin(fval=64.679937335079, edm=1.5156345070287753e-14, tolerance=0.1, nfcn=14, ncalls=633748, up=1.0, is_valid=True, has_valid_parameters=True, has_accurate_covar=True, has_posdef_covar=True, has_made_posdef_covar=False, hesse_failed=False, has_covariance=True, is_above_max_edm=False, has_reached_call_limit=False), params=[Param(number=0, name='N', value=2.6114833211935484, error=0.051776712195704004, is_const=False, is_fixed=False, has_limits=False, has_lower_limit=False, has_upper_limit=False, lower_limit=None, upper_limit=None), Param(number=1, name='c', value=4.201031344545451, error=0.09311685621270735, is_const=False, is_fixed=False, has_limits=False, has_lower_limit=False, has_upper_limit=False, lower_limit=None, upper_limit=None), Param(number=2, name='bg', value=-2.192118618207932e-05, error=1.1895620973146581e-05, is_const=False, is_fixed=False, has_limits=False, has_lower_limit=False, has_upper_limit=False, lower_limit=None, upper_limit=None)])"
      ]
     },
     "execution_count": 21,
     "metadata": {},
     "output_type": "execute_result"
    }
   ],
   "source": [
    "@btime migrad(fit1)\n",
    "minos(fit1)\n",
    "migrad(fit1)"
   ]
  },
  {
   "cell_type": "code",
   "execution_count": 22,
   "metadata": {
    "ExecuteTime": {
     "end_time": "2020-07-12T09:35:24.774000+08:00",
     "start_time": "2020-07-12T01:35:10.247Z"
    }
   },
   "outputs": [
    {
     "data": {
      "text/html": [
       "<table>\n",
       "<tr> <td/> <th colspan=\"2\" style=\"text-align:center\" title=\"Parameter name\"> N </th> <th colspan=\"2\" style=\"text-align:center\" title=\"Parameter name\"> c </th> <th colspan=\"2\" style=\"text-align:center\" title=\"Parameter name\"> bg </th> </tr>\n",
       "<tr> <th title=\"Lower and upper minos error of the parameter\"> Error </th> <td> -0.05 </td> <td> 0.05 </td> <td> -0.09 </td> <td> 0.09 </td> <td> -0.012e-3 </td> <td> 0.012e-3 </td> </tr>\n",
       "<tr> <th title=\"Validity of lower/upper minos error\"> Valid </th> <td style=\"background-color:#92CCA6;\"> True </td> <td style=\"background-color:#92CCA6;\"> True </td> <td style=\"background-color:#92CCA6;\"> True </td> <td style=\"background-color:#92CCA6;\"> True </td> <td style=\"background-color:#92CCA6;\"> True </td> <td style=\"background-color:#92CCA6;\"> True </td> </tr>\n",
       "<tr> <th title=\"Did scan hit limit of any parameter?\"> At Limit </th> <td style=\"background-color:#92CCA6;\"> False </td> <td style=\"background-color:#92CCA6;\"> False </td> <td style=\"background-color:#92CCA6;\"> False </td> <td style=\"background-color:#92CCA6;\"> False </td> <td style=\"background-color:#92CCA6;\"> False </td> <td style=\"background-color:#92CCA6;\"> False </td> </tr>\n",
       "<tr> <th title=\"Did scan hit function call limit?\"> Max FCN </th> <td style=\"background-color:#92CCA6;\"> False </td> <td style=\"background-color:#92CCA6;\"> False </td> <td style=\"background-color:#92CCA6;\"> False </td> <td style=\"background-color:#92CCA6;\"> False </td> <td style=\"background-color:#92CCA6;\"> False </td> <td style=\"background-color:#92CCA6;\"> False </td> </tr>\n",
       "<tr> <th title=\"New minimum found when doing scan?\"> New Min </th> <td style=\"background-color:#92CCA6;\"> False </td> <td style=\"background-color:#92CCA6;\"> False </td> <td style=\"background-color:#92CCA6;\"> False </td> <td style=\"background-color:#92CCA6;\"> False </td> <td style=\"background-color:#92CCA6;\"> False </td> <td style=\"background-color:#92CCA6;\"> False </td> </tr>\n",
       "</table>\n"
      ],
      "text/plain": [
       "PyObject MErrors([('N', MError(name='N', is_valid=True, lower=-0.05145257573454067, upper=0.05210385773044046, lower_valid=True, upper_valid=True, at_lower_limit=False, at_upper_limit=False, at_lower_max_fcn=False, at_upper_max_fcn=False, lower_new_min=False, upper_new_min=False, nfcn=56, min=2.6114833211935484)), ('c', MError(name='c', is_valid=True, lower=-0.09392066407552968, upper=0.09232893682255511, lower_valid=True, upper_valid=True, at_lower_limit=False, at_upper_limit=False, at_lower_max_fcn=False, at_upper_max_fcn=False, lower_new_min=False, upper_new_min=False, nfcn=56, min=4.201031344545451)), ('bg', MError(name='bg', is_valid=True, lower=-1.2031491205034717e-05, upper=1.1765608570813917e-05, lower_valid=True, upper_valid=True, at_lower_limit=False, at_upper_limit=False, at_lower_max_fcn=False, at_upper_max_fcn=False, lower_new_min=False, upper_new_min=False, nfcn=56, min=-2.192118618207932e-05))])"
      ]
     },
     "execution_count": 22,
     "metadata": {},
     "output_type": "execute_result"
    }
   ],
   "source": [
    "minos(fit1)"
   ]
  },
  {
   "cell_type": "code",
   "execution_count": 25,
   "metadata": {
    "ExecuteTime": {
     "end_time": "2020-07-12T09:35:44.978000+08:00",
     "start_time": "2020-07-12T01:35:44.579Z"
    }
   },
   "outputs": [
    {
     "data": {
      "image/png": "[encoded data removed]"
     },
     "execution_count": 25,
     "metadata": {},
     "output_type": "execute_result"
    }
   ],
   "source": [
    "@plt_best dist fit data"
   ]
  },
  {
   "cell_type": "code",
   "execution_count": 26,
   "metadata": {
    "ExecuteTime": {
     "end_time": "2020-07-12T09:35:47.205000+08:00",
     "start_time": "2020-07-12T01:35:46.983Z"
    }
   },
   "outputs": [
    {
     "data": {
      "image/png": "[encoded data removed]",
      "text/plain": [
       "PyPlot.Figure(PyObject <Figure size 640x480 with 1 Axes>)"
      ]
     },
     "metadata": {},
     "output_type": "display_data"
    },
    {
     "data": {
      "text/plain": [
       "([2.4561531846064364, 2.4592911671637516, 2.4624291497210673, 2.4655671322783825, 2.4687051148356978, 2.4718430973930134, 2.4749810799503287, 2.4781190625076444, 2.4812570450649596, 2.484395027622275  …  2.738571614764822, 2.7417095973221373, 2.7448475798794525, 2.747985562436768, 2.7511235449940834, 2.7542615275513986, 2.7573995101087143, 2.7605374926660295, 2.7636754752233452, 2.7668134577806605], [3.9216807759073293, 3.9273242217384023, 3.932967667569476, 3.938611113400549, 3.944254559231622, 3.9498980050626953, 3.9555414508937683, 3.9611848967248418, 3.9668283425559148, 3.972471788386988  …  4.429590900703915, 4.435234346534989, 4.440877792366061, 4.446521238197135, 4.452164684028208, 4.457808129859281, 4.463451575690354, 4.469095021521428, 4.4747384673525, 4.480381913183574], [20.972585684547113 20.022934908552898 … 290.280110975979 296.3574252092246; 21.148382447267153 20.131613966475754 … 285.0424527312081 291.0755140159173; … ; 350.8725474805894 342.54598215294766 … 19.826339420220364 20.935927070797632; 357.49518711030873 349.085022026704 … 19.595624194661738 20.647949873483995])"
      ]
     },
     "execution_count": 26,
     "metadata": {},
     "output_type": "execute_result"
    }
   ],
   "source": [
    "# MIGRAD contour of two parameters with the other ones fixed\n",
    "# needs PyPlot or the pyplot backend of Plots\n",
    "fit1.draw_contour(:N, :c, bound=3, bins=100)"
   ]
  },
  {
   "cell_type": "code",
   "execution_count": 28,
   "metadata": {
    "ExecuteTime": {
     "end_time": "2020-07-12T09:35:53.437000+08:00",
     "start_time": "2020-07-12T01:35:53.230Z"
    }
   },
   "outputs": [
    {
     "data": {
      "image/png": "[encoded data removed]",
      "text/plain": [
       "PyPlot.Figure(PyObject <Figure size 640x480 with 1 Axes>)"
      ]
     },
     "metadata": {},
     "output_type": "display_data"
    },
    {
     "data": {
      "text/plain": [
       "PyObject <matplotlib.contour.ContourSet object at 0x7f61d755ded0>"
      ]
     },
     "execution_count": 28,
     "metadata": {},
     "output_type": "execute_result"
    }
   ],
   "source": [
    "# contour of parameter space from MINOS\n",
    "fit1.draw_mncontour(:N, :c, nsigma=3, numpoints=100)"
   ]
  },
  {
   "cell_type": "code",
   "execution_count": 29,
   "metadata": {
    "ExecuteTime": {
     "end_time": "2020-07-12T09:35:56.232000+08:00",
     "start_time": "2020-07-12T01:35:56.100Z"
    }
   },
   "outputs": [
    {
     "data": {
      "text/html": [
       "<table>\n",
       "<tr> <td/> <th> N </th> <th> c </th> <th> bg </th> </tr>\n",
       "<tr> <th> N </th> <td> 1.00 </td> <td style=\"background-color:rgb(250,111,111)\">  0.93 </td> <td style=\"background-color:rgb(250,159,159)\">  0.61 </td> </tr>\n",
       "<tr> <th> c </th> <td style=\"background-color:rgb(250,111,111)\">  0.93 </td> <td> 1.00 </td> <td style=\"background-color:rgb(250,138,138)\">  0.75 </td> </tr>\n",
       "<tr> <th> bg </th> <td style=\"background-color:rgb(250,159,159)\">  0.61 </td> <td style=\"background-color:rgb(250,138,138)\">  0.75 </td> <td> 1.00 </td> </tr>\n",
       "</table>\n"
      ],
      "text/plain": [
       "PyObject ((1.0, 0.9252133738369328, 0.6055255848641659), (0.9252133738369328, 1.0, 0.7483973089680895), (0.6055255848641659, 0.7483973089680895, 1.0))"
      ]
     },
     "execution_count": 29,
     "metadata": {},
     "output_type": "execute_result"
    }
   ],
   "source": [
    "matrix(fit1, correlation = true)"
   ]
  },
  {
   "cell_type": "code",
   "execution_count": 30,
   "metadata": {
    "ExecuteTime": {
     "end_time": "2020-07-12T09:35:57.060000+08:00",
     "start_time": "2020-07-12T01:35:56.818Z"
    }
   },
   "outputs": [
    {
     "name": "stdout",
     "output_type": "stream",
     "text": [
      "fit1.matrix = ((0.0026808279257967637, 0.004460717050849894, 3.729529830296808e-7), (0.004460717050849894, 0.008670748910938015, 8.289868474538332e-7), (3.729529830296808e-7, 8.289868474538332e-7, 1.4150579833676482e-10))\n"
     ]
    },
    {
     "data": {
      "text/html": [
       "<table>\n",
       "<tr> <td/> <th> N </th> <th> c </th> <th> bg </th> </tr>\n",
       "<tr> <th> N </th> <td> 0.003 </td> <td style=\"background-color:rgb(250,111,111)\"> 0.004 </td> <td style=\"background-color:rgb(250,159,159)\"> 0.000 </td> </tr>\n",
       "<tr> <th> c </th> <td style=\"background-color:rgb(250,111,111)\"> 0.004 </td> <td> 0.009 </td> <td style=\"background-color:rgb(250,138,138)\"> 0.000 </td> </tr>\n",
       "<tr> <th> bg </th> <td style=\"background-color:rgb(250,159,159)\"> 0.000 </td> <td style=\"background-color:rgb(250,138,138)\"> 0.000 </td> <td> 0.000 </td> </tr>\n",
       "</table>\n"
      ],
      "text/plain": [
       "PyObject ((0.0026808279257967637, 0.004460717050849894, 3.729529830296808e-07), (0.004460717050849894, 0.008670748910938015, 8.289868474538332e-07), (3.729529830296808e-07, 8.289868474538332e-07, 1.4150579833676482e-10))"
      ]
     },
     "execution_count": 30,
     "metadata": {},
     "output_type": "execute_result"
    }
   ],
   "source": [
    "@show fit1.matrix\n",
    "matrix(fit1)"
   ]
  },
  {
   "cell_type": "code",
   "execution_count": 32,
   "metadata": {
    "ExecuteTime": {
     "end_time": "2020-07-12T09:36:05.388000+08:00",
     "start_time": "2020-07-12T01:36:05.339Z"
    }
   },
   "outputs": [
    {
     "name": "stdout",
     "output_type": "stream",
     "text": [
      "  0.023920 seconds (68.31 k allocations: 1.634 MiB)\n"
     ]
    },
    {
     "data": {
      "text/html": [
       "<table class=\"data-frame\"><thead><tr><th></th><th>χ²</th><th>N</th><th>c</th><th>bg</th></tr><tr><th></th><th>Float64</th><th>Float64</th><th>Float64</th><th>Float64</th></tr></thead><tbody><p>22 rows × 4 columns</p><tr><th>1</th><td>64.6799</td><td>2.61148</td><td>4.20103</td><td>-2.19212e-5</td></tr><tr><th>2</th><td>65.6799</td><td>2.56003</td><td>4.11414</td><td>-2.93031e-5</td></tr><tr><th>3</th><td>65.6799</td><td>2.66359</td><td>4.28643</td><td>-1.48855e-5</td></tr><tr><th>4</th><td>65.68</td><td>2.56385</td><td>4.10711</td><td>-3.10184e-5</td></tr><tr><th>5</th><td>65.6799</td><td>2.65961</td><td>4.29336</td><td>-1.32339e-5</td></tr><tr><th>6</th><td>65.68</td><td>2.5798</td><td>4.13027</td><td>-3.39527e-5</td></tr><tr><th>7</th><td>65.68</td><td>2.64221</td><td>4.2688</td><td>-1.01556e-5</td></tr><tr><th>8</th><td>65.68</td><td>2.56003</td><td>4.11439</td><td>-2.92436e-5</td></tr><tr><th>9</th><td>65.6799</td><td>2.5638</td><td>4.10711</td><td>-3.10202e-5</td></tr><tr><th>10</th><td>65.68</td><td>2.62543</td><td>4.19027</td><td>-2.56233e-5</td></tr><tr><th>11</th><td>65.6799</td><td>2.66359</td><td>4.28649</td><td>-1.48948e-5</td></tr><tr><th>12</th><td>65.6799</td><td>2.65962</td><td>4.29336</td><td>-1.32556e-5</td></tr><tr><th>13</th><td>65.68</td><td>2.56003</td><td>4.11426</td><td>-2.92484e-5</td></tr><tr><th>14</th><td>65.6801</td><td>2.57964</td><td>4.13014</td><td>-3.39527e-5</td></tr><tr><th>15</th><td>65.6799</td><td>2.62161</td><td>4.19628</td><td>-2.97972e-5</td></tr><tr><th>16</th><td>65.68</td><td>2.66359</td><td>4.28615</td><td>-1.48963e-5</td></tr><tr><th>17</th><td>65.68</td><td>2.64229</td><td>4.26894</td><td>-1.01556e-5</td></tr><tr><th>18</th><td>65.68</td><td>2.56393</td><td>4.10711</td><td>-3.10364e-5</td></tr><tr><th>19</th><td>65.68</td><td>2.5797</td><td>4.12981</td><td>-3.39527e-5</td></tr><tr><th>20</th><td>65.68</td><td>2.62357</td><td>4.21158</td><td>-2.87507e-5</td></tr><tr><th>21</th><td>65.68</td><td>2.65952</td><td>4.29336</td><td>-1.32348e-5</td></tr><tr><th>22</th><td>65.6799</td><td>2.64226</td><td>4.26916</td><td>-1.01556e-5</td></tr></tbody></table>"
      ],
      "text/latex": [
       "\\begin{tabular}{r|cccc}\n",
       "\t& χ² & N & c & bg\\\\\n",
       "\t\\hline\n",
       "\t& Float64 & Float64 & Float64 & Float64\\\\\n",
       "\t\\hline\n",
       "\t1 & 64.6799 & 2.61148 & 4.20103 & -2.19212e-5 \\\\\n",
       "\t2 & 65.6799 & 2.56003 & 4.11414 & -2.93031e-5 \\\\\n",
       "\t3 & 65.6799 & 2.66359 & 4.28643 & -1.48855e-5 \\\\\n",
       "\t4 & 65.68 & 2.56385 & 4.10711 & -3.10184e-5 \\\\\n",
       "\t5 & 65.6799 & 2.65961 & 4.29336 & -1.32339e-5 \\\\\n",
       "\t6 & 65.68 & 2.5798 & 4.13027 & -3.39527e-5 \\\\\n",
       "\t7 & 65.68 & 2.64221 & 4.2688 & -1.01556e-5 \\\\\n",
       "\t8 & 65.68 & 2.56003 & 4.11439 & -2.92436e-5 \\\\\n",
       "\t9 & 65.6799 & 2.5638 & 4.10711 & -3.10202e-5 \\\\\n",
       "\t10 & 65.68 & 2.62543 & 4.19027 & -2.56233e-5 \\\\\n",
       "\t11 & 65.6799 & 2.66359 & 4.28649 & -1.48948e-5 \\\\\n",
       "\t12 & 65.6799 & 2.65962 & 4.29336 & -1.32556e-5 \\\\\n",
       "\t13 & 65.68 & 2.56003 & 4.11426 & -2.92484e-5 \\\\\n",
       "\t14 & 65.6801 & 2.57964 & 4.13014 & -3.39527e-5 \\\\\n",
       "\t15 & 65.6799 & 2.62161 & 4.19628 & -2.97972e-5 \\\\\n",
       "\t16 & 65.68 & 2.66359 & 4.28615 & -1.48963e-5 \\\\\n",
       "\t17 & 65.68 & 2.64229 & 4.26894 & -1.01556e-5 \\\\\n",
       "\t18 & 65.68 & 2.56393 & 4.10711 & -3.10364e-5 \\\\\n",
       "\t19 & 65.68 & 2.5797 & 4.12981 & -3.39527e-5 \\\\\n",
       "\t20 & 65.68 & 2.62357 & 4.21158 & -2.87507e-5 \\\\\n",
       "\t21 & 65.68 & 2.65952 & 4.29336 & -1.32348e-5 \\\\\n",
       "\t22 & 65.6799 & 2.64226 & 4.26916 & -1.01556e-5 \\\\\n",
       "\\end{tabular}\n"
      ],
      "text/plain": [
       "22×4 DataFrame\n",
       "│ Row │ χ²      │ N       │ c       │ bg          │\n",
       "│     │ \u001b[90mFloat64\u001b[39m │ \u001b[90mFloat64\u001b[39m │ \u001b[90mFloat64\u001b[39m │ \u001b[90mFloat64\u001b[39m     │\n",
       "├─────┼─────────┼─────────┼─────────┼─────────────┤\n",
       "│ 1   │ 64.6799 │ 2.61148 │ 4.20103 │ -2.19212e-5 │\n",
       "│ 2   │ 65.6799 │ 2.56003 │ 4.11414 │ -2.93031e-5 │\n",
       "│ 3   │ 65.6799 │ 2.66359 │ 4.28643 │ -1.48855e-5 │\n",
       "│ 4   │ 65.68   │ 2.56385 │ 4.10711 │ -3.10184e-5 │\n",
       "│ 5   │ 65.6799 │ 2.65961 │ 4.29336 │ -1.32339e-5 │\n",
       "│ 6   │ 65.68   │ 2.5798  │ 4.13027 │ -3.39527e-5 │\n",
       "│ 7   │ 65.68   │ 2.64221 │ 4.2688  │ -1.01556e-5 │\n",
       "│ 8   │ 65.68   │ 2.56003 │ 4.11439 │ -2.92436e-5 │\n",
       "│ 9   │ 65.6799 │ 2.5638  │ 4.10711 │ -3.10202e-5 │\n",
       "│ 10  │ 65.68   │ 2.62543 │ 4.19027 │ -2.56233e-5 │\n",
       "│ 11  │ 65.6799 │ 2.66359 │ 4.28649 │ -1.48948e-5 │\n",
       "│ 12  │ 65.6799 │ 2.65962 │ 4.29336 │ -1.32556e-5 │\n",
       "│ 13  │ 65.68   │ 2.56003 │ 4.11426 │ -2.92484e-5 │\n",
       "│ 14  │ 65.6801 │ 2.57964 │ 4.13014 │ -3.39527e-5 │\n",
       "│ 15  │ 65.6799 │ 2.62161 │ 4.19628 │ -2.97972e-5 │\n",
       "│ 16  │ 65.68   │ 2.66359 │ 4.28615 │ -1.48963e-5 │\n",
       "│ 17  │ 65.68   │ 2.64229 │ 4.26894 │ -1.01556e-5 │\n",
       "│ 18  │ 65.68   │ 2.56393 │ 4.10711 │ -3.10364e-5 │\n",
       "│ 19  │ 65.68   │ 2.5797  │ 4.12981 │ -3.39527e-5 │\n",
       "│ 20  │ 65.68   │ 2.62357 │ 4.21158 │ -2.87507e-5 │\n",
       "│ 21  │ 65.68   │ 2.65952 │ 4.29336 │ -1.32348e-5 │\n",
       "│ 22  │ 65.6799 │ 2.64226 │ 4.26916 │ -1.01556e-5 │"
      ]
     },
     "execution_count": 32,
     "metadata": {},
     "output_type": "execute_result"
    }
   ],
   "source": [
    "# this gives parameter sets at the 1σ boundary\n",
    "@time contour_df(fit1, χsq1, npts = 5)"
   ]
  },
  {
   "cell_type": "code",
   "execution_count": 34,
   "metadata": {
    "ExecuteTime": {
     "end_time": "2020-07-12T09:36:24.710000+08:00",
     "start_time": "2020-07-12T01:36:22.876Z"
    }
   },
   "outputs": [
    {
     "name": "stdout",
     "output_type": "stream",
     "text": [
      "  1.788348 seconds (3.80 M allocations: 110.266 MiB, 4.25% gc time)\n"
     ]
    },
    {
     "data": {
      "text/html": [
       "<table class=\"data-frame\"><thead><tr><th></th><th>χ²</th><th>N</th><th>c</th><th>bg</th></tr><tr><th></th><th>Float64</th><th>Float64</th><th>Float64</th><th>Float64</th></tr></thead><tbody><p>187 rows × 4 columns</p><tr><th>1</th><td>64.6799</td><td>2.61148</td><td>4.20103</td><td>-2.19212e-5</td></tr><tr><th>2</th><td>65.6599</td><td>2.66175</td><td>4.27579</td><td>-1.63938e-5</td></tr><tr><th>3</th><td>64.9884</td><td>2.58283</td><td>4.15295</td><td>-2.59197e-5</td></tr><tr><th>4</th><td>65.1035</td><td>2.60814</td><td>4.21837</td><td>-1.86362e-5</td></tr><tr><th>5</th><td>65.4792</td><td>2.64325</td><td>4.27629</td><td>-1.38669e-5</td></tr><tr><th>6</th><td>65.5293</td><td>2.59013</td><td>4.13605</td><td>-2.98659e-5</td></tr><tr><th>7</th><td>64.7593</td><td>2.61884</td><td>4.20467</td><td>-2.23331e-5</td></tr><tr><th>8</th><td>65.1093</td><td>2.62344</td><td>4.24248</td><td>-1.66958e-5</td></tr><tr><th>9</th><td>64.9523</td><td>2.63264</td><td>4.24748</td><td>-1.71227e-5</td></tr><tr><th>10</th><td>65.2824</td><td>2.64635</td><td>4.24478</td><td>-1.94564e-5</td></tr><tr><th>11</th><td>65.571</td><td>2.57042</td><td>4.11384</td><td>-3.0831e-5</td></tr><tr><th>12</th><td>65.5411</td><td>2.56542</td><td>4.11454</td><td>-2.99845e-5</td></tr><tr><th>13</th><td>65.4325</td><td>2.64105</td><td>4.27279</td><td>-1.41342e-5</td></tr><tr><th>14</th><td>64.8961</td><td>2.62664</td><td>4.23888</td><td>-1.77239e-5</td></tr><tr><th>15</th><td>64.7908</td><td>2.59533</td><td>4.16996</td><td>-2.48566e-5</td></tr><tr><th>16</th><td>65.1171</td><td>2.64585</td><td>4.25829</td><td>-1.71317e-5</td></tr><tr><th>17</th><td>65.4001</td><td>2.58673</td><td>4.18446</td><td>-2.12401e-5</td></tr><tr><th>18</th><td>65.668</td><td>2.64275</td><td>4.22487</td><td>-2.22508e-5</td></tr><tr><th>19</th><td>65.2296</td><td>2.57503</td><td>4.14765</td><td>-2.57162e-5</td></tr><tr><th>20</th><td>64.8593</td><td>2.59113</td><td>4.16145</td><td>-2.5671e-5</td></tr><tr><th>21</th><td>65.2263</td><td>2.62664</td><td>4.20227</td><td>-2.38129e-5</td></tr><tr><th>22</th><td>64.8947</td><td>2.63264</td><td>4.24378</td><td>-1.77323e-5</td></tr><tr><th>23</th><td>65.1321</td><td>2.63805</td><td>4.22958</td><td>-2.08258e-5</td></tr><tr><th>24</th><td>65.2332</td><td>2.61684</td><td>4.18396</td><td>-2.54938e-5</td></tr><tr><th>25</th><td>65.346</td><td>2.57022</td><td>4.12594</td><td>-2.87489e-5</td></tr><tr><th>26</th><td>65.1138</td><td>2.59933</td><td>4.20257</td><td>-1.99948e-5</td></tr><tr><th>27</th><td>64.9784</td><td>2.60724</td><td>4.21307</td><td>-1.93606e-5</td></tr><tr><th>28</th><td>64.7545</td><td>2.62504</td><td>4.22628</td><td>-1.96122e-5</td></tr><tr><th>29</th><td>65.5317</td><td>2.65675</td><td>4.2862</td><td>-1.40502e-5</td></tr><tr><th>30</th><td>64.7338</td><td>2.62074</td><td>4.21117</td><td>-2.15105e-5</td></tr><tr><th>&vellip;</th><td>&vellip;</td><td>&vellip;</td><td>&vellip;</td><td>&vellip;</td></tr></tbody></table>"
      ],
      "text/latex": [
       "\\begin{tabular}{r|cccc}\n",
       "\t& χ² & N & c & bg\\\\\n",
       "\t\\hline\n",
       "\t& Float64 & Float64 & Float64 & Float64\\\\\n",
       "\t\\hline\n",
       "\t1 & 64.6799 & 2.61148 & 4.20103 & -2.19212e-5 \\\\\n",
       "\t2 & 65.6599 & 2.66175 & 4.27579 & -1.63938e-5 \\\\\n",
       "\t3 & 64.9884 & 2.58283 & 4.15295 & -2.59197e-5 \\\\\n",
       "\t4 & 65.1035 & 2.60814 & 4.21837 & -1.86362e-5 \\\\\n",
       "\t5 & 65.4792 & 2.64325 & 4.27629 & -1.38669e-5 \\\\\n",
       "\t6 & 65.5293 & 2.59013 & 4.13605 & -2.98659e-5 \\\\\n",
       "\t7 & 64.7593 & 2.61884 & 4.20467 & -2.23331e-5 \\\\\n",
       "\t8 & 65.1093 & 2.62344 & 4.24248 & -1.66958e-5 \\\\\n",
       "\t9 & 64.9523 & 2.63264 & 4.24748 & -1.71227e-5 \\\\\n",
       "\t10 & 65.2824 & 2.64635 & 4.24478 & -1.94564e-5 \\\\\n",
       "\t11 & 65.571 & 2.57042 & 4.11384 & -3.0831e-5 \\\\\n",
       "\t12 & 65.5411 & 2.56542 & 4.11454 & -2.99845e-5 \\\\\n",
       "\t13 & 65.4325 & 2.64105 & 4.27279 & -1.41342e-5 \\\\\n",
       "\t14 & 64.8961 & 2.62664 & 4.23888 & -1.77239e-5 \\\\\n",
       "\t15 & 64.7908 & 2.59533 & 4.16996 & -2.48566e-5 \\\\\n",
       "\t16 & 65.1171 & 2.64585 & 4.25829 & -1.71317e-5 \\\\\n",
       "\t17 & 65.4001 & 2.58673 & 4.18446 & -2.12401e-5 \\\\\n",
       "\t18 & 65.668 & 2.64275 & 4.22487 & -2.22508e-5 \\\\\n",
       "\t19 & 65.2296 & 2.57503 & 4.14765 & -2.57162e-5 \\\\\n",
       "\t20 & 64.8593 & 2.59113 & 4.16145 & -2.5671e-5 \\\\\n",
       "\t21 & 65.2263 & 2.62664 & 4.20227 & -2.38129e-5 \\\\\n",
       "\t22 & 64.8947 & 2.63264 & 4.24378 & -1.77323e-5 \\\\\n",
       "\t23 & 65.1321 & 2.63805 & 4.22958 & -2.08258e-5 \\\\\n",
       "\t24 & 65.2332 & 2.61684 & 4.18396 & -2.54938e-5 \\\\\n",
       "\t25 & 65.346 & 2.57022 & 4.12594 & -2.87489e-5 \\\\\n",
       "\t26 & 65.1138 & 2.59933 & 4.20257 & -1.99948e-5 \\\\\n",
       "\t27 & 64.9784 & 2.60724 & 4.21307 & -1.93606e-5 \\\\\n",
       "\t28 & 64.7545 & 2.62504 & 4.22628 & -1.96122e-5 \\\\\n",
       "\t29 & 65.5317 & 2.65675 & 4.2862 & -1.40502e-5 \\\\\n",
       "\t30 & 64.7338 & 2.62074 & 4.21117 & -2.15105e-5 \\\\\n",
       "\t$\\dots$ & $\\dots$ & $\\dots$ & $\\dots$ & $\\dots$ \\\\\n",
       "\\end{tabular}\n"
      ],
      "text/plain": [
       "187×4 DataFrame\n",
       "│ Row │ χ²      │ N       │ c       │ bg          │\n",
       "│     │ \u001b[90mFloat64\u001b[39m │ \u001b[90mFloat64\u001b[39m │ \u001b[90mFloat64\u001b[39m │ \u001b[90mFloat64\u001b[39m     │\n",
       "├─────┼─────────┼─────────┼─────────┼─────────────┤\n",
       "│ 1   │ 64.6799 │ 2.61148 │ 4.20103 │ -2.19212e-5 │\n",
       "│ 2   │ 65.6599 │ 2.66175 │ 4.27579 │ -1.63938e-5 │\n",
       "│ 3   │ 64.9884 │ 2.58283 │ 4.15295 │ -2.59197e-5 │\n",
       "│ 4   │ 65.1035 │ 2.60814 │ 4.21837 │ -1.86362e-5 │\n",
       "│ 5   │ 65.4792 │ 2.64325 │ 4.27629 │ -1.38669e-5 │\n",
       "│ 6   │ 65.5293 │ 2.59013 │ 4.13605 │ -2.98659e-5 │\n",
       "│ 7   │ 64.7593 │ 2.61884 │ 4.20467 │ -2.23331e-5 │\n",
       "│ 8   │ 65.1093 │ 2.62344 │ 4.24248 │ -1.66958e-5 │\n",
       "│ 9   │ 64.9523 │ 2.63264 │ 4.24748 │ -1.71227e-5 │\n",
       "│ 10  │ 65.2824 │ 2.64635 │ 4.24478 │ -1.94564e-5 │\n",
       "⋮\n",
       "│ 177 │ 64.7324 │ 2.62324 │ 4.22167 │ -2.0118e-5  │\n",
       "│ 178 │ 65.2998 │ 2.57833 │ 4.12914 │ -2.93612e-5 │\n",
       "│ 179 │ 65.3095 │ 2.59393 │ 4.14625 │ -2.86835e-5 │\n",
       "│ 180 │ 65.4905 │ 2.60143 │ 4.15315 │ -2.85757e-5 │\n",
       "│ 181 │ 65.5771 │ 2.57392 │ 4.15945 │ -2.36191e-5 │\n",
       "│ 182 │ 65.414  │ 2.64865 │ 4.24568 │ -1.96154e-5 │\n",
       "│ 183 │ 65.5573 │ 2.62834 │ 4.25989 │ -1.45229e-5 │\n",
       "│ 184 │ 65.3306 │ 2.58303 │ 4.17426 │ -2.24241e-5 │\n",
       "│ 185 │ 65.4103 │ 2.65595 │ 4.27319 │ -1.6044e-5  │\n",
       "│ 186 │ 65.4416 │ 2.60453 │ 4.15895 │ -2.8031e-5  │\n",
       "│ 187 │ 64.7698 │ 2.62694 │ 4.22548 │ -1.99969e-5 │"
      ]
     },
     "execution_count": 34,
     "metadata": {},
     "output_type": "execute_result"
    }
   ],
   "source": [
    "# random sampling of parameters in given ranges, keeping those within 1σ\n",
    "@time parsam_df = contour_df_samples(fit1, χsq1, (:N, :c), ([2.5,2.8], [4.0,4.3]), nsamples = 3000)"
   ]
  },
  {
   "cell_type": "code",
   "execution_count": 36,
   "metadata": {
    "ExecuteTime": {
     "end_time": "2020-07-12T09:36:29.503000+08:00",
     "start_time": "2020-07-12T01:36:29.500Z"
    }
   },
   "outputs": [
    {
     "data": {
      "text/plain": [
       "((2.5604201400466824, 2.6625541847282426), (4.110436812270757, 4.286195398466155))"
      ]
     },
     "execution_count": 36,
     "metadata": {},
     "output_type": "execute_result"
    }
   ],
   "source": [
    "# get parameter ranges\n",
    "extrema(parsam_df.:N), extrema(parsam_df.:c)"
   ]
  },
  {
   "cell_type": "code",
   "execution_count": 37,
   "metadata": {
    "ExecuteTime": {
     "end_time": "2020-07-12T09:36:30.728000+08:00",
     "start_time": "2020-07-12T01:36:30.360Z"
    }
   },
   "outputs": [
    {
     "data": {
      "image/png": "[encoded data removed]"
     },
     "execution_count": 37,
     "metadata": {},
     "output_type": "execute_result"
    }
   ],
   "source": [
    "scatter(parsam_df.:N, parsam_df.:c, xlab = \"N\", ylab = \"c\")"
   ]
  },
  {
   "cell_type": "code",
   "execution_count": 39,
   "metadata": {
    "ExecuteTime": {
     "end_time": "2020-07-12T09:36:37.141000+08:00",
     "start_time": "2020-07-12T01:36:36.591Z"
    }
   },
   "outputs": [
    {
     "name": "stdout",
     "output_type": "stream",
     "text": [
      "  0.499457 seconds (846.38 k allocations: 28.470 MiB, 5.32% gc time)\n"
     ]
    },
    {
     "data": {
      "text/html": [
       "<table class=\"data-frame\"><thead><tr><th></th><th>χ²</th><th>x0</th><th>x1</th><th>x2</th></tr><tr><th></th><th>Float64</th><th>Float64</th><th>Float64</th><th>Float64</th></tr></thead><tbody><p>16 rows × 4 columns</p><tr><th>1</th><td>64.6799</td><td>2.61148</td><td>4.20103</td><td>-2.19212e-5</td></tr><tr><th>2</th><td>65.1278</td><td>2.58529</td><td>4.17117</td><td>-2.18919e-5</td></tr><tr><th>3</th><td>64.8649</td><td>2.62613</td><td>4.21411</td><td>-2.22523e-5</td></tr><tr><th>4</th><td>65.3094</td><td>2.63423</td><td>4.25646</td><td>-1.9009e-5</td></tr><tr><th>5</th><td>65.3792</td><td>2.63363</td><td>4.24985</td><td>-2.15315e-5</td></tr><tr><th>6</th><td>65.0949</td><td>2.58589</td><td>4.16006</td><td>-2.21922e-5</td></tr><tr><th>7</th><td>65.6661</td><td>2.6033</td><td>4.15556</td><td>-2.55556e-5</td></tr><tr><th>8</th><td>65.6093</td><td>2.59219</td><td>4.1952</td><td>-2.38138e-5</td></tr><tr><th>9</th><td>65.269</td><td>2.60841</td><td>4.16937</td><td>-2.57357e-5</td></tr><tr><th>10</th><td>65.1907</td><td>2.5994</td><td>4.16997</td><td>-2.0991e-5</td></tr><tr><th>11</th><td>64.7775</td><td>2.62643</td><td>4.22492</td><td>-1.91291e-5</td></tr><tr><th>12</th><td>65.4057</td><td>2.58949</td><td>4.16156</td><td>-2.003e-5</td></tr><tr><th>13</th><td>64.9346</td><td>2.61532</td><td>4.22342</td><td>-2.02703e-5</td></tr><tr><th>14</th><td>65.4376</td><td>2.65075</td><td>4.26727</td><td>-1.31231e-5</td></tr><tr><th>15</th><td>64.9716</td><td>2.59279</td><td>4.15556</td><td>-2.71171e-5</td></tr><tr><th>16</th><td>65.1028</td><td>2.63483</td><td>4.24835</td><td>-1.43243e-5</td></tr></tbody></table>"
      ],
      "text/latex": [
       "\\begin{tabular}{r|cccc}\n",
       "\t& χ² & x0 & x1 & x2\\\\\n",
       "\t\\hline\n",
       "\t& Float64 & Float64 & Float64 & Float64\\\\\n",
       "\t\\hline\n",
       "\t1 & 64.6799 & 2.61148 & 4.20103 & -2.19212e-5 \\\\\n",
       "\t2 & 65.1278 & 2.58529 & 4.17117 & -2.18919e-5 \\\\\n",
       "\t3 & 64.8649 & 2.62613 & 4.21411 & -2.22523e-5 \\\\\n",
       "\t4 & 65.3094 & 2.63423 & 4.25646 & -1.9009e-5 \\\\\n",
       "\t5 & 65.3792 & 2.63363 & 4.24985 & -2.15315e-5 \\\\\n",
       "\t6 & 65.0949 & 2.58589 & 4.16006 & -2.21922e-5 \\\\\n",
       "\t7 & 65.6661 & 2.6033 & 4.15556 & -2.55556e-5 \\\\\n",
       "\t8 & 65.6093 & 2.59219 & 4.1952 & -2.38138e-5 \\\\\n",
       "\t9 & 65.269 & 2.60841 & 4.16937 & -2.57357e-5 \\\\\n",
       "\t10 & 65.1907 & 2.5994 & 4.16997 & -2.0991e-5 \\\\\n",
       "\t11 & 64.7775 & 2.62643 & 4.22492 & -1.91291e-5 \\\\\n",
       "\t12 & 65.4057 & 2.58949 & 4.16156 & -2.003e-5 \\\\\n",
       "\t13 & 64.9346 & 2.61532 & 4.22342 & -2.02703e-5 \\\\\n",
       "\t14 & 65.4376 & 2.65075 & 4.26727 & -1.31231e-5 \\\\\n",
       "\t15 & 64.9716 & 2.59279 & 4.15556 & -2.71171e-5 \\\\\n",
       "\t16 & 65.1028 & 2.63483 & 4.24835 & -1.43243e-5 \\\\\n",
       "\\end{tabular}\n"
      ],
      "text/plain": [
       "16×4 DataFrame\n",
       "│ Row │ χ²      │ x0      │ x1      │ x2          │\n",
       "│     │ \u001b[90mFloat64\u001b[39m │ \u001b[90mFloat64\u001b[39m │ \u001b[90mFloat64\u001b[39m │ \u001b[90mFloat64\u001b[39m     │\n",
       "├─────┼─────────┼─────────┼─────────┼─────────────┤\n",
       "│ 1   │ 64.6799 │ 2.61148 │ 4.20103 │ -2.19212e-5 │\n",
       "│ 2   │ 65.1278 │ 2.58529 │ 4.17117 │ -2.18919e-5 │\n",
       "│ 3   │ 64.8649 │ 2.62613 │ 4.21411 │ -2.22523e-5 │\n",
       "│ 4   │ 65.3094 │ 2.63423 │ 4.25646 │ -1.9009e-5  │\n",
       "│ 5   │ 65.3792 │ 2.63363 │ 4.24985 │ -2.15315e-5 │\n",
       "│ 6   │ 65.0949 │ 2.58589 │ 4.16006 │ -2.21922e-5 │\n",
       "│ 7   │ 65.6661 │ 2.6033  │ 4.15556 │ -2.55556e-5 │\n",
       "│ 8   │ 65.6093 │ 2.59219 │ 4.1952  │ -2.38138e-5 │\n",
       "│ 9   │ 65.269  │ 2.60841 │ 4.16937 │ -2.57357e-5 │\n",
       "│ 10  │ 65.1907 │ 2.5994  │ 4.16997 │ -2.0991e-5  │\n",
       "│ 11  │ 64.7775 │ 2.62643 │ 4.22492 │ -1.91291e-5 │\n",
       "│ 12  │ 65.4057 │ 2.58949 │ 4.16156 │ -2.003e-5   │\n",
       "│ 13  │ 64.9346 │ 2.61532 │ 4.22342 │ -2.02703e-5 │\n",
       "│ 14  │ 65.4376 │ 2.65075 │ 4.26727 │ -1.31231e-5 │\n",
       "│ 15  │ 64.9716 │ 2.59279 │ 4.15556 │ -2.71171e-5 │\n",
       "│ 16  │ 65.1028 │ 2.63483 │ 4.24835 │ -1.43243e-5 │"
      ]
     },
     "execution_count": 39,
     "metadata": {},
     "output_type": "execute_result"
    }
   ],
   "source": [
    "@time contour_df_samples(fit, χsq, (:x0, :x1, :x2), ([2.5,2.8],  [4.0,4.3], (-3e-5,3e-5)), nsamples = 1000)"
   ]
  },
  {
   "cell_type": "code",
   "execution_count": 41,
   "metadata": {
    "ExecuteTime": {
     "end_time": "2020-07-12T09:36:41.682000+08:00",
     "start_time": "2020-07-12T01:36:41.590Z"
    }
   },
   "outputs": [
    {
     "name": "stdout",
     "output_type": "stream",
     "text": [
      "  0.029260 seconds (334.95 k allocations: 6.467 MiB)\n"
     ]
    },
    {
     "data": {
      "text/html": [
       "<table class=\"data-frame\"><thead><tr><th></th><th>χ²</th><th>x0</th><th>x1</th><th>x2</th></tr><tr><th></th><th>Float64</th><th>Float64</th><th>Float64</th><th>Float64</th></tr></thead><tbody><p>8 rows × 4 columns</p><tr><th>1</th><td>64.6799</td><td>2.61148</td><td>4.20103</td><td>-2.19212e-5</td></tr><tr><th>2</th><td>65.5614</td><td>2.56316</td><td>4.11968</td><td>-2.88302e-5</td></tr><tr><th>3</th><td>65.0779</td><td>2.57895</td><td>4.14646</td><td>-2.65198e-5</td></tr><tr><th>4</th><td>64.785</td><td>2.59474</td><td>4.17304</td><td>-2.42721e-5</td></tr><tr><th>5</th><td>64.6803</td><td>2.61053</td><td>4.19944</td><td>-2.20544e-5</td></tr><tr><th>6</th><td>64.7617</td><td>2.62632</td><td>4.2256</td><td>-1.98768e-5</td></tr><tr><th>7</th><td>65.0271</td><td>2.64211</td><td>4.2515</td><td>-1.77407e-5</td></tr><tr><th>8</th><td>65.4744</td><td>2.65789</td><td>4.27721</td><td>-1.56345e-5</td></tr></tbody></table>"
      ],
      "text/latex": [
       "\\begin{tabular}{r|cccc}\n",
       "\t& χ² & x0 & x1 & x2\\\\\n",
       "\t\\hline\n",
       "\t& Float64 & Float64 & Float64 & Float64\\\\\n",
       "\t\\hline\n",
       "\t1 & 64.6799 & 2.61148 & 4.20103 & -2.19212e-5 \\\\\n",
       "\t2 & 65.5614 & 2.56316 & 4.11968 & -2.88302e-5 \\\\\n",
       "\t3 & 65.0779 & 2.57895 & 4.14646 & -2.65198e-5 \\\\\n",
       "\t4 & 64.785 & 2.59474 & 4.17304 & -2.42721e-5 \\\\\n",
       "\t5 & 64.6803 & 2.61053 & 4.19944 & -2.20544e-5 \\\\\n",
       "\t6 & 64.7617 & 2.62632 & 4.2256 & -1.98768e-5 \\\\\n",
       "\t7 & 65.0271 & 2.64211 & 4.2515 & -1.77407e-5 \\\\\n",
       "\t8 & 65.4744 & 2.65789 & 4.27721 & -1.56345e-5 \\\\\n",
       "\\end{tabular}\n"
      ],
      "text/plain": [
       "8×4 DataFrame\n",
       "│ Row │ χ²      │ x0      │ x1      │ x2          │\n",
       "│     │ \u001b[90mFloat64\u001b[39m │ \u001b[90mFloat64\u001b[39m │ \u001b[90mFloat64\u001b[39m │ \u001b[90mFloat64\u001b[39m     │\n",
       "├─────┼─────────┼─────────┼─────────┼─────────────┤\n",
       "│ 1   │ 64.6799 │ 2.61148 │ 4.20103 │ -2.19212e-5 │\n",
       "│ 2   │ 65.5614 │ 2.56316 │ 4.11968 │ -2.88302e-5 │\n",
       "│ 3   │ 65.0779 │ 2.57895 │ 4.14646 │ -2.65198e-5 │\n",
       "│ 4   │ 64.785  │ 2.59474 │ 4.17304 │ -2.42721e-5 │\n",
       "│ 5   │ 64.6803 │ 2.61053 │ 4.19944 │ -2.20544e-5 │\n",
       "│ 6   │ 64.7617 │ 2.62632 │ 4.2256  │ -1.98768e-5 │\n",
       "│ 7   │ 65.0271 │ 2.64211 │ 4.2515  │ -1.77407e-5 │\n",
       "│ 8   │ 65.4744 │ 2.65789 │ 4.27721 │ -1.56345e-5 │"
      ]
     },
     "execution_count": 41,
     "metadata": {},
     "output_type": "execute_result"
    }
   ],
   "source": [
    "@time contour_df_samples(fit, χsq, :x0, (2.5,2.8), nsamples = 20)"
   ]
  },
  {
   "cell_type": "markdown",
   "metadata": {},
   "source": [
    "## Example A in the iminuit tutorial\n",
    "\n",
    "The example is [Example A: Fit of a gaussian model to a histogram](https://nbviewer.jupyter.org/github/scikit-hep/iminuit/blob/master/tutorial/automatic_differentiation.ipynb)"
   ]
  },
  {
   "cell_type": "code",
   "execution_count": 58,
   "metadata": {
    "ExecuteTime": {
     "end_time": "2020-07-10T18:57:19.573000+08:00",
     "start_time": "2020-07-10T10:57:19.555Z"
    }
   },
   "outputs": [],
   "source": [
    "using PyCall"
   ]
  },
  {
   "cell_type": "code",
   "execution_count": 59,
   "metadata": {
    "ExecuteTime": {
     "end_time": "2020-07-10T18:57:30.061000+08:00",
     "start_time": "2020-07-10T10:57:29.081Z"
    }
   },
   "outputs": [
    {
     "data": {
      "text/plain": [
       "([1, 0, 0, 0, 0, 0, 0, 0, 0, 0  …  0, 0, 0, 0, 0, 0, 0, 0, 0, 1], [-3.8378621427178974, -3.830092502694802, -3.8223228626717063, -3.8145532226486107, -3.806783582625515, -3.7990139426024196, -3.791244302579324, -3.7834746625562286, -3.775705022533133, -3.7679353825100375  …  3.8618511201697956, 3.869620760192891, 3.8773904002159867, 3.8851600402390822, 3.892929680262178, 3.9006993202852733, 3.908468960308369, 3.9162386003314644, 3.92400824035456, 3.931777880377655])"
      ]
     },
     "execution_count": 59,
     "metadata": {},
     "output_type": "execute_result"
    }
   ],
   "source": [
    "# import numpy from Python to generate the same data as in the example\n",
    "np = pyimport(:numpy)\n",
    "default_rng = pyimport(\"numpy.random\").default_rng\n",
    "rng = default_rng(seed=1)\n",
    "const w, xe = np.histogram(rng.normal(0, 1, 10000), bins=1000)"
   ]
  },
  {
   "cell_type": "code",
   "execution_count": 60,
   "metadata": {
    "ExecuteTime": {
     "end_time": "2020-07-10T18:57:31.301000+08:00",
     "start_time": "2020-07-10T10:57:30.918Z"
    }
   },
   "outputs": [
    {
     "data": {
      "text/plain": [
       "score (generic function with 1 method)"
      ]
     },
     "execution_count": 60,
     "metadata": {},
     "output_type": "execute_result"
    }
   ],
   "source": [
    "# define the model and the score function to minimize\n",
    "using SpecialFunctions\n",
    "\n",
    "function cdf(x, par)\n",
    "    mu, sigma = par\n",
    "    z = (x - mu) / sigma\n",
    "    return 0.5 * (1 + erf(z / sqrt(2))) \n",
    "end\n",
    "\n",
    "function score(par)\n",
    "    amp = par[1]\n",
    "    rest = par[2:end]\n",
    "    mu = amp * (cdf.(xe[2:end], Ref(rest)) - cdf.(xe[1:end-1], Ref(rest)) )\n",
    "    return 2 * sum(@. mu - w * log(mu + 1e-100))\n",
    "end"
   ]
  },
  {
   "cell_type": "code",
   "execution_count": 61,
   "metadata": {
    "ExecuteTime": {
     "end_time": "2020-07-10T18:57:32.110000+08:00",
     "start_time": "2020-07-10T10:57:31.974Z"
    }
   },
   "outputs": [],
   "source": [
    "const start_values = [1.5 * sum(w), 1.0, 2.0]\n",
    "const limits = [(0, nothing), nothing, (0, nothing)];"
   ]
  },
  {
   "cell_type": "code",
   "execution_count": 62,
   "metadata": {
    "ExecuteTime": {
     "end_time": "2020-07-10T18:57:33.509000+08:00",
     "start_time": "2020-07-10T10:57:32.950Z"
    }
   },
   "outputs": [],
   "source": [
    "# w/o grad\n",
    "m = Minuit(score, start_values, limit=limits)\n",
    "m.strategy = 0\n",
    "\n",
    "# using grad\n",
    "grad_fd(pars) =  gradient(score, pars)\n",
    "m_fd = Minuit(score, start_values, limit=limits, grad = grad_fd)\n",
    "m_fd.strategy = 0;"
   ]
  },
  {
   "cell_type": "code",
   "execution_count": 63,
   "metadata": {
    "ExecuteTime": {
     "end_time": "2020-07-10T18:57:46.990000+08:00",
     "start_time": "2020-07-10T10:57:34.329Z"
    }
   },
   "outputs": [
    {
     "name": "stdout",
     "output_type": "stream",
     "text": [
      "  627.100 μs (475 allocations: 460.64 KiB)\n"
     ]
    },
    {
     "data": {
      "text/html": [
       "<table>\n",
       "<tr> <td colspan=\"2\" style=\"text-align:center\" title=\"Minimum value of function\"> FCN = -3.871e+04 </td> <td colspan=\"3\" title=\"No. of calls in last algorithm and total number of calls\"> Ncalls = 8 (39692 total) </td> </tr>\n",
       "<tr> <td colspan=\"2\" style=\"text-align:center\" title=\"Estimated distance to minimum and target threshold\"> EDM = 2.01e-12 (Goal: 0.0002) </td> <td colspan=\"3\" title=\"Increase in FCN which corresponds to 1 standard deviation\"> up = 1.0 </td> </tr>\n",
       "<tr> <td title=\"Validity of the migrad call\"> Valid Min. </td> <td title=\"Validity of parameters\"> Valid Param. </td> <td title=\"Is EDM above goal EDM?\"> Above EDM </td> <td colspan=\"2\" title=\"Did last migrad call reach max call limit?\"> Reached call limit </td> </tr>\n",
       "<tr> <td style=\"background-color:#92CCA6;\"> True </td> <td style=\"background-color:#92CCA6;\"> True </td> <td style=\"background-color:#92CCA6;\"> False </td> <td colspan=\"2\" style=\"background-color:#92CCA6;\"> False </td> </tr>\n",
       "<tr> <td title=\"Did Hesse fail?\"> Hesse failed </td> <td title=\"Has covariance matrix\"> Has cov. </td> <td title=\"Is covariance matrix accurate?\"> Accurate </td> <td title=\"Is covariance matrix positive definite?\"> Pos. def. </td> <td title=\"Was positive definiteness enforced by Minuit?\"> Forced </td> </tr>\n",
       "<tr> <td style=\"background-color:#92CCA6;\"> False </td> <td style=\"background-color:#92CCA6;\"> True </td> <td style=\"background-color:#92CCA6;\"> True </td> <td style=\"background-color:#92CCA6;\"> True </td> <td style=\"background-color:#92CCA6;\"> False </td> </tr>\n",
       "</table>\n",
       "<table>\n",
       "<tr style=\"background-color:#F4F4F4;\"> <td/> <th title=\"Variable name\"> Name </th> <th title=\"Value of parameter\"> Value </th> <th title=\"Hesse error\"> Hesse Error </th> <th title=\"Minos lower error\"> Minos Error- </th> <th title=\"Minos upper error\"> Minos Error+ </th> <th title=\"Lower limit of the parameter\"> Limit- </th> <th title=\"Upper limit of the parameter\"> Limit+ </th> <th title=\"Is the parameter fixed in the fit\"> Fixed </th> </tr>\n",
       "<tr style=\"background-color:#FFFFFF;\"> <th> 0 </th> <td> x0 </td> <td> 10.0e3 </td> <td> 0.1e3 </td> <td>  </td> <td>  </td> <td> 0 </td> <td>  </td> <td>  </td> </tr>\n",
       "<tr style=\"background-color:#F4F4F4;\"> <th> 1 </th> <td> x1 </td> <td> -0.011 </td> <td> 0.010 </td> <td>  </td> <td>  </td> <td>  </td> <td>  </td> <td>  </td> </tr>\n",
       "<tr style=\"background-color:#FFFFFF;\"> <th> 2 </th> <td> x2 </td> <td> 0.999 </td> <td> 0.007 </td> <td>  </td> <td>  </td> <td> 0 </td> <td>  </td> <td>  </td> </tr>\n",
       "</table>\n"
      ],
      "text/plain": [
       "PyObject MigradResult(fmin=FMin(fval=-38710.19985212475, edm=2.0142820069460498e-12, tolerance=0.1, nfcn=8, ncalls=39692, up=1.0, is_valid=True, has_valid_parameters=True, has_accurate_covar=True, has_posdef_covar=True, has_made_posdef_covar=False, hesse_failed=False, has_covariance=True, is_above_max_edm=False, has_reached_call_limit=False), params=[Param(number=0, name='x0', value=10001.040137685515, error=99.56265139939478, is_const=False, is_fixed=False, has_limits=True, has_lower_limit=True, has_upper_limit=False, lower_limit=0.0, upper_limit=None), Param(number=1, name='x1', value=-0.01105171350465089, error=0.010013546547205668, is_const=False, is_fixed=False, has_limits=False, has_lower_limit=False, has_upper_limit=False, lower_limit=None, upper_limit=None), Param(number=2, name='x2', value=0.9992897105689829, error=0.007141203766656945, is_const=False, is_fixed=False, has_limits=True, has_lower_limit=True, has_upper_limit=False, lower_limit=0.0, upper_limit=None)])"
      ]
     },
     "execution_count": 63,
     "metadata": {},
     "output_type": "execute_result"
    }
   ],
   "source": [
    "@btime migrad(m)"
   ]
  },
  {
   "cell_type": "code",
   "execution_count": 64,
   "metadata": {
    "ExecuteTime": {
     "end_time": "2020-07-10T18:58:02.095000+08:00",
     "start_time": "2020-07-10T10:57:48.944Z"
    }
   },
   "outputs": [
    {
     "name": "stdout",
     "output_type": "stream",
     "text": [
      "  380.300 μs (257 allocations: 348.22 KiB)\n"
     ]
    },
    {
     "data": {
      "text/html": [
       "<table>\n",
       "<tr> <td colspan=\"2\" style=\"text-align:center\" title=\"Minimum value of function\"> FCN = -3.871e+04 </td> <td colspan=\"3\" title=\"No. of calls in last algorithm and total number of calls\"> Ncalls = 3 (27164 total) </td> </tr>\n",
       "<tr> <td colspan=\"2\" style=\"text-align:center\" title=\"Estimated distance to minimum and target threshold\"> EDM = 9.41e-12 (Goal: 0.0002) </td> <td colspan=\"3\" title=\"Increase in FCN which corresponds to 1 standard deviation\"> up = 1.0 </td> </tr>\n",
       "<tr> <td title=\"Validity of the migrad call\"> Valid Min. </td> <td title=\"Validity of parameters\"> Valid Param. </td> <td title=\"Is EDM above goal EDM?\"> Above EDM </td> <td colspan=\"2\" title=\"Did last migrad call reach max call limit?\"> Reached call limit </td> </tr>\n",
       "<tr> <td style=\"background-color:#92CCA6;\"> True </td> <td style=\"background-color:#92CCA6;\"> True </td> <td style=\"background-color:#92CCA6;\"> False </td> <td colspan=\"2\" style=\"background-color:#92CCA6;\"> False </td> </tr>\n",
       "<tr> <td title=\"Did Hesse fail?\"> Hesse failed </td> <td title=\"Has covariance matrix\"> Has cov. </td> <td title=\"Is covariance matrix accurate?\"> Accurate </td> <td title=\"Is covariance matrix positive definite?\"> Pos. def. </td> <td title=\"Was positive definiteness enforced by Minuit?\"> Forced </td> </tr>\n",
       "<tr> <td style=\"background-color:#92CCA6;\"> False </td> <td style=\"background-color:#92CCA6;\"> True </td> <td style=\"background-color:#92CCA6;\"> True </td> <td style=\"background-color:#92CCA6;\"> True </td> <td style=\"background-color:#92CCA6;\"> False </td> </tr>\n",
       "</table>\n",
       "<table>\n",
       "<tr style=\"background-color:#F4F4F4;\"> <td/> <th title=\"Variable name\"> Name </th> <th title=\"Value of parameter\"> Value </th> <th title=\"Hesse error\"> Hesse Error </th> <th title=\"Minos lower error\"> Minos Error- </th> <th title=\"Minos upper error\"> Minos Error+ </th> <th title=\"Lower limit of the parameter\"> Limit- </th> <th title=\"Upper limit of the parameter\"> Limit+ </th> <th title=\"Is the parameter fixed in the fit\"> Fixed </th> </tr>\n",
       "<tr style=\"background-color:#FFFFFF;\"> <th> 0 </th> <td> x0 </td> <td> 10.0e3 </td> <td> 0.1e3 </td> <td>  </td> <td>  </td> <td> 0 </td> <td>  </td> <td>  </td> </tr>\n",
       "<tr style=\"background-color:#F4F4F4;\"> <th> 1 </th> <td> x1 </td> <td> -0.011 </td> <td> 0.010 </td> <td>  </td> <td>  </td> <td>  </td> <td>  </td> <td>  </td> </tr>\n",
       "<tr style=\"background-color:#FFFFFF;\"> <th> 2 </th> <td> x2 </td> <td> 0.999 </td> <td> 0.007 </td> <td>  </td> <td>  </td> <td> 0 </td> <td>  </td> <td>  </td> </tr>\n",
       "</table>\n"
      ],
      "text/plain": [
       "PyObject MigradResult(fmin=FMin(fval=-38710.19985212736, edm=9.414200054796711e-12, tolerance=0.1, nfcn=3, ncalls=27164, up=1.0, is_valid=True, has_valid_parameters=True, has_accurate_covar=True, has_posdef_covar=True, has_made_posdef_covar=False, hesse_failed=False, has_covariance=True, is_above_max_edm=False, has_reached_call_limit=False), params=[Param(number=0, name='x0', value=10001.039987391317, error=99.95742260033421, is_const=False, is_fixed=False, has_limits=True, has_lower_limit=True, has_upper_limit=False, lower_limit=0.0, upper_limit=None), Param(number=1, name='x1', value=-0.011051729329187911, error=0.009992544958620243, is_const=False, is_fixed=False, has_limits=False, has_lower_limit=False, has_upper_limit=False, lower_limit=None, upper_limit=None), Param(number=2, name='x2', value=0.9992893655857928, error=0.00710107169380747, is_const=False, is_fixed=False, has_limits=True, has_lower_limit=True, has_upper_limit=False, lower_limit=0.0, upper_limit=None)])"
      ]
     },
     "execution_count": 64,
     "metadata": {},
     "output_type": "execute_result"
    }
   ],
   "source": [
    "@btime migrad(m_fd)"
   ]
  },
  {
   "cell_type": "code",
   "execution_count": null,
   "metadata": {},
   "outputs": [],
   "source": []
  }
 ],
 "metadata": {
  "@webio": {
   "lastCommId": null,
   "lastKernelId": null
  },
  "kernelspec": {
   "display_name": "Julia 1.4.2",
   "language": "julia",
   "name": "julia-1.4"
  },
  "language_info": {
   "file_extension": ".jl",
   "mimetype": "application/julia",
   "name": "julia",
   "version": "1.4.2"
  },
  "latex_envs": {
   "LaTeX_envs_menu_present": true,
   "autoclose": false,
   "autocomplete": true,
   "bibliofile": "biblio.bib",
   "cite_by": "apalike",
   "current_citInitial": 1,
   "eqLabelWithNumbers": true,
   "eqNumInitial": 1,
   "hotkeys": {
    "equation": "Ctrl-E",
    "itemize": "Ctrl-I"
   },
   "labels_anchors": false,
   "latex_user_defs": false,
   "report_style_numbering": false,
   "user_envs_cfg": false
  },
  "toc": {
   "base_numbering": 1,
   "nav_menu": {},
   "number_sections": true,
   "sideBar": true,
   "skip_h1_title": false,
   "title_cell": "Table of Contents",
   "title_sidebar": "Contents",
   "toc_cell": false,
   "toc_position": {},
   "toc_section_display": true,
   "toc_window_display": true
  },
  "varInspector": {
   "cols": {
    "lenName": 16,
    "lenType": 16,
    "lenVar": 40
   },
   "kernels_config": {
    "python": {
     "delete_cmd_postfix": "",
     "delete_cmd_prefix": "del ",
     "library": "var_list.py",
     "varRefreshCmd": "print(var_dic_list())"
    },
    "r": {
     "delete_cmd_postfix": ") ",
     "delete_cmd_prefix": "rm(",
     "library": "var_list.r",
     "varRefreshCmd": "cat(var_dic_list()) "
    }
   },
   "types_to_exclude": [
    "module",
    "function",
    "builtin_function_or_method",
    "instance",
    "_Feature"
   ],
   "window_display": false
  }
 },
 "nbformat": 4,
 "nbformat_minor": 4
}
